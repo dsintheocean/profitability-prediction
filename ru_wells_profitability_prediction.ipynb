{
  "cells": [
    {
      "cell_type": "markdown",
      "metadata": {
        "id": "AN0O47EE-N3i"
      },
      "source": [
        "# Выбор локации для скважины"
      ]
    },
    {
      "cell_type": "markdown",
      "metadata": {
        "id": "lyXTK6HN-N3j"
      },
      "source": [
        "Добывающей компании необходимо принять решение о месте бурения новой скважину.\n",
        "\n",
        "Предоставлены пробы нефти в трёх регионах: в каждом 10 000 месторождений, где измерили качество нефти и объём её запасов.\n",
        "Задача - построить модель машинного обучения, которая поможет определить регион, где добыча принесёт наибольшую прибыль.\n",
        "Необходимо проанализировать возможную прибыль и риски техникой *Bootstrap.*\n",
        "\n",
        "Шаги для выбора локации:\n",
        "- В избранном регионе ищем месторождения, для каждого определяем значения признаков;\n",
        "- Строим модель и оцениваем объём запасов;\n",
        "- Выбираем месторождения с самым высокими оценками значений. Количество месторождений зависит от бюджета компании и стоимости разработки одной скважины;\n",
        "- Прибыль равна суммарной прибыли отобранных месторождений."
      ]
    },
    {
      "cell_type": "markdown",
      "metadata": {
        "id": "waoRRYNm-N3k"
      },
      "source": [
        "## Загрузка и подготовка данных"
      ]
    },
    {
      "cell_type": "markdown",
      "metadata": {
        "id": "AGbLS9MY-N3k"
      },
      "source": [
        "### Введение"
      ]
    },
    {
      "cell_type": "markdown",
      "metadata": {
        "id": "KOHicB7i-N3k"
      },
      "source": [
        "**Данные геологоразведки трёх регионов находятся в файлах:**\n",
        "\n",
        "- geo_data_0.csv\n",
        "- geo_data_1.csv\n",
        "- geo_data_2.csv\n",
        "\n",
        "**id — уникальный идентификатор скважины;**\n",
        "\n",
        "**f0, f1, f2 — три признака точек (неважно, что они означают, но сами признаки значимы);**\n",
        "\n",
        "**product — объём запасов в скважине (тыс. баррелей) - целевой признак.**\n",
        "\n",
        "**Условия задачи:**\n",
        "Для обучения модели подходит только линейная регрессия (остальные — недостаточно предсказуемые).\n",
        "При разведке региона исследуют 500 точек, из которых с помощью машинного обучения выбирают 200 лучших для разработки.\n",
        "Бюджет на разработку скважин в регионе — 10 млрд рублей.\n",
        "При нынешних ценах один баррель сырья приносит 450 рублей дохода. Доход с каждой единицы продукта составляет 450 тыс. рублей, поскольку объём указан в тысячах баррелей.\n",
        "После оценки рисков нужно оставить лишь те регионы, в которых вероятность убытков меньше 2.5%. Среди них выбирают регион с наибольшей средней прибылью.\n",
        "Данные синтетические: детали контрактов и характеристики месторождений не разглашаются."
      ]
    },
    {
      "cell_type": "markdown",
      "metadata": {
        "id": "FyECLuHY-N3l"
      },
      "source": [
        "### Подготовим неоходимые для работы библиотеки"
      ]
    },
    {
      "cell_type": "code",
      "execution_count": null,
      "metadata": {
        "id": "LYlRLRve-N3l"
      },
      "outputs": [],
      "source": [
        "import pandas as pd\n",
        "import numpy as np\n",
        "import matplotlib.pyplot as plt\n",
        "\n",
        "from sklearn.linear_model import LinearRegression\n",
        "\n",
        "from sklearn.model_selection import train_test_split\n",
        "from sklearn.preprocessing import StandardScaler\n",
        "\n",
        "from sklearn.metrics import mean_squared_error\n",
        "\n",
        "from google.colab import drive"
      ]
    },
    {
      "cell_type": "markdown",
      "metadata": {
        "id": "FZV62KB0-N3m"
      },
      "source": [
        "### Изучим данные внутри датафрейма и сделаем необходимую предобработку"
      ]
    },
    {
      "cell_type": "code",
      "execution_count": null,
      "metadata": {
        "scrolled": false,
        "id": "I32XcoCS-N3m",
        "outputId": "d2c699c3-c653-4c31-e7fc-da6e08fa4bd3"
      },
      "outputs": [
        {
          "name": "stdout",
          "output_type": "stream",
          "text": [
            "/datasets/geo_data_0.csv\n"
          ]
        },
        {
          "data": {
            "text/html": [
              "<div>\n",
              "<style scoped>\n",
              "    .dataframe tbody tr th:only-of-type {\n",
              "        vertical-align: middle;\n",
              "    }\n",
              "\n",
              "    .dataframe tbody tr th {\n",
              "        vertical-align: top;\n",
              "    }\n",
              "\n",
              "    .dataframe thead th {\n",
              "        text-align: right;\n",
              "    }\n",
              "</style>\n",
              "<table border=\"1\" class=\"dataframe\">\n",
              "  <thead>\n",
              "    <tr style=\"text-align: right;\">\n",
              "      <th></th>\n",
              "      <th>id</th>\n",
              "      <th>f0</th>\n",
              "      <th>f1</th>\n",
              "      <th>f2</th>\n",
              "      <th>product</th>\n",
              "    </tr>\n",
              "  </thead>\n",
              "  <tbody>\n",
              "    <tr>\n",
              "      <th>0</th>\n",
              "      <td>txEyH</td>\n",
              "      <td>0.705745</td>\n",
              "      <td>-0.497823</td>\n",
              "      <td>1.221170</td>\n",
              "      <td>105.280062</td>\n",
              "    </tr>\n",
              "    <tr>\n",
              "      <th>1</th>\n",
              "      <td>2acmU</td>\n",
              "      <td>1.334711</td>\n",
              "      <td>-0.340164</td>\n",
              "      <td>4.365080</td>\n",
              "      <td>73.037750</td>\n",
              "    </tr>\n",
              "    <tr>\n",
              "      <th>2</th>\n",
              "      <td>409Wp</td>\n",
              "      <td>1.022732</td>\n",
              "      <td>0.151990</td>\n",
              "      <td>1.419926</td>\n",
              "      <td>85.265647</td>\n",
              "    </tr>\n",
              "    <tr>\n",
              "      <th>3</th>\n",
              "      <td>iJLyR</td>\n",
              "      <td>-0.032172</td>\n",
              "      <td>0.139033</td>\n",
              "      <td>2.978566</td>\n",
              "      <td>168.620776</td>\n",
              "    </tr>\n",
              "    <tr>\n",
              "      <th>4</th>\n",
              "      <td>Xdl7t</td>\n",
              "      <td>1.988431</td>\n",
              "      <td>0.155413</td>\n",
              "      <td>4.751769</td>\n",
              "      <td>154.036647</td>\n",
              "    </tr>\n",
              "  </tbody>\n",
              "</table>\n",
              "</div>"
            ],
            "text/plain": [
              "      id        f0        f1        f2     product\n",
              "0  txEyH  0.705745 -0.497823  1.221170  105.280062\n",
              "1  2acmU  1.334711 -0.340164  4.365080   73.037750\n",
              "2  409Wp  1.022732  0.151990  1.419926   85.265647\n",
              "3  iJLyR -0.032172  0.139033  2.978566  168.620776\n",
              "4  Xdl7t  1.988431  0.155413  4.751769  154.036647"
            ]
          },
          "metadata": {},
          "output_type": "display_data"
        },
        {
          "name": "stdout",
          "output_type": "stream",
          "text": [
            "<class 'pandas.core.frame.DataFrame'>\n",
            "RangeIndex: 100000 entries, 0 to 99999\n",
            "Data columns (total 5 columns):\n",
            " #   Column   Non-Null Count   Dtype  \n",
            "---  ------   --------------   -----  \n",
            " 0   id       100000 non-null  object \n",
            " 1   f0       100000 non-null  float64\n",
            " 2   f1       100000 non-null  float64\n",
            " 3   f2       100000 non-null  float64\n",
            " 4   product  100000 non-null  float64\n",
            "dtypes: float64(4), object(1)\n",
            "memory usage: 3.8+ MB\n"
          ]
        },
        {
          "data": {
            "text/plain": [
              "None"
            ]
          },
          "metadata": {},
          "output_type": "display_data"
        },
        {
          "data": {
            "text/html": [
              "<div>\n",
              "<style scoped>\n",
              "    .dataframe tbody tr th:only-of-type {\n",
              "        vertical-align: middle;\n",
              "    }\n",
              "\n",
              "    .dataframe tbody tr th {\n",
              "        vertical-align: top;\n",
              "    }\n",
              "\n",
              "    .dataframe thead th {\n",
              "        text-align: right;\n",
              "    }\n",
              "</style>\n",
              "<table border=\"1\" class=\"dataframe\">\n",
              "  <thead>\n",
              "    <tr style=\"text-align: right;\">\n",
              "      <th></th>\n",
              "      <th>f0</th>\n",
              "      <th>f1</th>\n",
              "      <th>f2</th>\n",
              "      <th>product</th>\n",
              "    </tr>\n",
              "  </thead>\n",
              "  <tbody>\n",
              "    <tr>\n",
              "      <th>count</th>\n",
              "      <td>100000.000000</td>\n",
              "      <td>100000.000000</td>\n",
              "      <td>100000.000000</td>\n",
              "      <td>100000.000000</td>\n",
              "    </tr>\n",
              "    <tr>\n",
              "      <th>mean</th>\n",
              "      <td>0.500419</td>\n",
              "      <td>0.250143</td>\n",
              "      <td>2.502647</td>\n",
              "      <td>92.500000</td>\n",
              "    </tr>\n",
              "    <tr>\n",
              "      <th>std</th>\n",
              "      <td>0.871832</td>\n",
              "      <td>0.504433</td>\n",
              "      <td>3.248248</td>\n",
              "      <td>44.288691</td>\n",
              "    </tr>\n",
              "    <tr>\n",
              "      <th>min</th>\n",
              "      <td>-1.408605</td>\n",
              "      <td>-0.848218</td>\n",
              "      <td>-12.088328</td>\n",
              "      <td>0.000000</td>\n",
              "    </tr>\n",
              "    <tr>\n",
              "      <th>25%</th>\n",
              "      <td>-0.072580</td>\n",
              "      <td>-0.200881</td>\n",
              "      <td>0.287748</td>\n",
              "      <td>56.497507</td>\n",
              "    </tr>\n",
              "    <tr>\n",
              "      <th>50%</th>\n",
              "      <td>0.502360</td>\n",
              "      <td>0.250252</td>\n",
              "      <td>2.515969</td>\n",
              "      <td>91.849972</td>\n",
              "    </tr>\n",
              "    <tr>\n",
              "      <th>75%</th>\n",
              "      <td>1.073581</td>\n",
              "      <td>0.700646</td>\n",
              "      <td>4.715088</td>\n",
              "      <td>128.564089</td>\n",
              "    </tr>\n",
              "    <tr>\n",
              "      <th>max</th>\n",
              "      <td>2.362331</td>\n",
              "      <td>1.343769</td>\n",
              "      <td>16.003790</td>\n",
              "      <td>185.364347</td>\n",
              "    </tr>\n",
              "  </tbody>\n",
              "</table>\n",
              "</div>"
            ],
            "text/plain": [
              "                  f0             f1             f2        product\n",
              "count  100000.000000  100000.000000  100000.000000  100000.000000\n",
              "mean        0.500419       0.250143       2.502647      92.500000\n",
              "std         0.871832       0.504433       3.248248      44.288691\n",
              "min        -1.408605      -0.848218     -12.088328       0.000000\n",
              "25%        -0.072580      -0.200881       0.287748      56.497507\n",
              "50%         0.502360       0.250252       2.515969      91.849972\n",
              "75%         1.073581       0.700646       4.715088     128.564089\n",
              "max         2.362331       1.343769      16.003790     185.364347"
            ]
          },
          "metadata": {},
          "output_type": "display_data"
        },
        {
          "data": {
            "text/html": [
              "<div>\n",
              "<style scoped>\n",
              "    .dataframe tbody tr th:only-of-type {\n",
              "        vertical-align: middle;\n",
              "    }\n",
              "\n",
              "    .dataframe tbody tr th {\n",
              "        vertical-align: top;\n",
              "    }\n",
              "\n",
              "    .dataframe thead th {\n",
              "        text-align: right;\n",
              "    }\n",
              "</style>\n",
              "<table border=\"1\" class=\"dataframe\">\n",
              "  <thead>\n",
              "    <tr style=\"text-align: right;\">\n",
              "      <th></th>\n",
              "      <th>f0</th>\n",
              "      <th>f1</th>\n",
              "      <th>f2</th>\n",
              "      <th>product</th>\n",
              "    </tr>\n",
              "  </thead>\n",
              "  <tbody>\n",
              "    <tr>\n",
              "      <th>f0</th>\n",
              "      <td>1.000000</td>\n",
              "      <td>-0.440723</td>\n",
              "      <td>-0.003153</td>\n",
              "      <td>0.143536</td>\n",
              "    </tr>\n",
              "    <tr>\n",
              "      <th>f1</th>\n",
              "      <td>-0.440723</td>\n",
              "      <td>1.000000</td>\n",
              "      <td>0.001724</td>\n",
              "      <td>-0.192356</td>\n",
              "    </tr>\n",
              "    <tr>\n",
              "      <th>f2</th>\n",
              "      <td>-0.003153</td>\n",
              "      <td>0.001724</td>\n",
              "      <td>1.000000</td>\n",
              "      <td>0.483663</td>\n",
              "    </tr>\n",
              "    <tr>\n",
              "      <th>product</th>\n",
              "      <td>0.143536</td>\n",
              "      <td>-0.192356</td>\n",
              "      <td>0.483663</td>\n",
              "      <td>1.000000</td>\n",
              "    </tr>\n",
              "  </tbody>\n",
              "</table>\n",
              "</div>"
            ],
            "text/plain": [
              "               f0        f1        f2   product\n",
              "f0       1.000000 -0.440723 -0.003153  0.143536\n",
              "f1      -0.440723  1.000000  0.001724 -0.192356\n",
              "f2      -0.003153  0.001724  1.000000  0.483663\n",
              "product  0.143536 -0.192356  0.483663  1.000000"
            ]
          },
          "metadata": {},
          "output_type": "display_data"
        },
        {
          "name": "stdout",
          "output_type": "stream",
          "text": [
            "\n",
            "\n",
            "\n",
            "/datasets/geo_data_1.csv\n"
          ]
        },
        {
          "data": {
            "text/html": [
              "<div>\n",
              "<style scoped>\n",
              "    .dataframe tbody tr th:only-of-type {\n",
              "        vertical-align: middle;\n",
              "    }\n",
              "\n",
              "    .dataframe tbody tr th {\n",
              "        vertical-align: top;\n",
              "    }\n",
              "\n",
              "    .dataframe thead th {\n",
              "        text-align: right;\n",
              "    }\n",
              "</style>\n",
              "<table border=\"1\" class=\"dataframe\">\n",
              "  <thead>\n",
              "    <tr style=\"text-align: right;\">\n",
              "      <th></th>\n",
              "      <th>id</th>\n",
              "      <th>f0</th>\n",
              "      <th>f1</th>\n",
              "      <th>f2</th>\n",
              "      <th>product</th>\n",
              "    </tr>\n",
              "  </thead>\n",
              "  <tbody>\n",
              "    <tr>\n",
              "      <th>0</th>\n",
              "      <td>kBEdx</td>\n",
              "      <td>-15.001348</td>\n",
              "      <td>-8.276000</td>\n",
              "      <td>-0.005876</td>\n",
              "      <td>3.179103</td>\n",
              "    </tr>\n",
              "    <tr>\n",
              "      <th>1</th>\n",
              "      <td>62mP7</td>\n",
              "      <td>14.272088</td>\n",
              "      <td>-3.475083</td>\n",
              "      <td>0.999183</td>\n",
              "      <td>26.953261</td>\n",
              "    </tr>\n",
              "    <tr>\n",
              "      <th>2</th>\n",
              "      <td>vyE1P</td>\n",
              "      <td>6.263187</td>\n",
              "      <td>-5.948386</td>\n",
              "      <td>5.001160</td>\n",
              "      <td>134.766305</td>\n",
              "    </tr>\n",
              "    <tr>\n",
              "      <th>3</th>\n",
              "      <td>KcrkZ</td>\n",
              "      <td>-13.081196</td>\n",
              "      <td>-11.506057</td>\n",
              "      <td>4.999415</td>\n",
              "      <td>137.945408</td>\n",
              "    </tr>\n",
              "    <tr>\n",
              "      <th>4</th>\n",
              "      <td>AHL4O</td>\n",
              "      <td>12.702195</td>\n",
              "      <td>-8.147433</td>\n",
              "      <td>5.004363</td>\n",
              "      <td>134.766305</td>\n",
              "    </tr>\n",
              "  </tbody>\n",
              "</table>\n",
              "</div>"
            ],
            "text/plain": [
              "      id         f0         f1        f2     product\n",
              "0  kBEdx -15.001348  -8.276000 -0.005876    3.179103\n",
              "1  62mP7  14.272088  -3.475083  0.999183   26.953261\n",
              "2  vyE1P   6.263187  -5.948386  5.001160  134.766305\n",
              "3  KcrkZ -13.081196 -11.506057  4.999415  137.945408\n",
              "4  AHL4O  12.702195  -8.147433  5.004363  134.766305"
            ]
          },
          "metadata": {},
          "output_type": "display_data"
        },
        {
          "name": "stdout",
          "output_type": "stream",
          "text": [
            "<class 'pandas.core.frame.DataFrame'>\n",
            "RangeIndex: 100000 entries, 0 to 99999\n",
            "Data columns (total 5 columns):\n",
            " #   Column   Non-Null Count   Dtype  \n",
            "---  ------   --------------   -----  \n",
            " 0   id       100000 non-null  object \n",
            " 1   f0       100000 non-null  float64\n",
            " 2   f1       100000 non-null  float64\n",
            " 3   f2       100000 non-null  float64\n",
            " 4   product  100000 non-null  float64\n",
            "dtypes: float64(4), object(1)\n",
            "memory usage: 3.8+ MB\n"
          ]
        },
        {
          "data": {
            "text/plain": [
              "None"
            ]
          },
          "metadata": {},
          "output_type": "display_data"
        },
        {
          "data": {
            "text/html": [
              "<div>\n",
              "<style scoped>\n",
              "    .dataframe tbody tr th:only-of-type {\n",
              "        vertical-align: middle;\n",
              "    }\n",
              "\n",
              "    .dataframe tbody tr th {\n",
              "        vertical-align: top;\n",
              "    }\n",
              "\n",
              "    .dataframe thead th {\n",
              "        text-align: right;\n",
              "    }\n",
              "</style>\n",
              "<table border=\"1\" class=\"dataframe\">\n",
              "  <thead>\n",
              "    <tr style=\"text-align: right;\">\n",
              "      <th></th>\n",
              "      <th>f0</th>\n",
              "      <th>f1</th>\n",
              "      <th>f2</th>\n",
              "      <th>product</th>\n",
              "    </tr>\n",
              "  </thead>\n",
              "  <tbody>\n",
              "    <tr>\n",
              "      <th>count</th>\n",
              "      <td>100000.000000</td>\n",
              "      <td>100000.000000</td>\n",
              "      <td>100000.000000</td>\n",
              "      <td>100000.000000</td>\n",
              "    </tr>\n",
              "    <tr>\n",
              "      <th>mean</th>\n",
              "      <td>1.141296</td>\n",
              "      <td>-4.796579</td>\n",
              "      <td>2.494541</td>\n",
              "      <td>68.825000</td>\n",
              "    </tr>\n",
              "    <tr>\n",
              "      <th>std</th>\n",
              "      <td>8.965932</td>\n",
              "      <td>5.119872</td>\n",
              "      <td>1.703572</td>\n",
              "      <td>45.944423</td>\n",
              "    </tr>\n",
              "    <tr>\n",
              "      <th>min</th>\n",
              "      <td>-31.609576</td>\n",
              "      <td>-26.358598</td>\n",
              "      <td>-0.018144</td>\n",
              "      <td>0.000000</td>\n",
              "    </tr>\n",
              "    <tr>\n",
              "      <th>25%</th>\n",
              "      <td>-6.298551</td>\n",
              "      <td>-8.267985</td>\n",
              "      <td>1.000021</td>\n",
              "      <td>26.953261</td>\n",
              "    </tr>\n",
              "    <tr>\n",
              "      <th>50%</th>\n",
              "      <td>1.153055</td>\n",
              "      <td>-4.813172</td>\n",
              "      <td>2.011479</td>\n",
              "      <td>57.085625</td>\n",
              "    </tr>\n",
              "    <tr>\n",
              "      <th>75%</th>\n",
              "      <td>8.621015</td>\n",
              "      <td>-1.332816</td>\n",
              "      <td>3.999904</td>\n",
              "      <td>107.813044</td>\n",
              "    </tr>\n",
              "    <tr>\n",
              "      <th>max</th>\n",
              "      <td>29.421755</td>\n",
              "      <td>18.734063</td>\n",
              "      <td>5.019721</td>\n",
              "      <td>137.945408</td>\n",
              "    </tr>\n",
              "  </tbody>\n",
              "</table>\n",
              "</div>"
            ],
            "text/plain": [
              "                  f0             f1             f2        product\n",
              "count  100000.000000  100000.000000  100000.000000  100000.000000\n",
              "mean        1.141296      -4.796579       2.494541      68.825000\n",
              "std         8.965932       5.119872       1.703572      45.944423\n",
              "min       -31.609576     -26.358598      -0.018144       0.000000\n",
              "25%        -6.298551      -8.267985       1.000021      26.953261\n",
              "50%         1.153055      -4.813172       2.011479      57.085625\n",
              "75%         8.621015      -1.332816       3.999904     107.813044\n",
              "max        29.421755      18.734063       5.019721     137.945408"
            ]
          },
          "metadata": {},
          "output_type": "display_data"
        },
        {
          "data": {
            "text/html": [
              "<div>\n",
              "<style scoped>\n",
              "    .dataframe tbody tr th:only-of-type {\n",
              "        vertical-align: middle;\n",
              "    }\n",
              "\n",
              "    .dataframe tbody tr th {\n",
              "        vertical-align: top;\n",
              "    }\n",
              "\n",
              "    .dataframe thead th {\n",
              "        text-align: right;\n",
              "    }\n",
              "</style>\n",
              "<table border=\"1\" class=\"dataframe\">\n",
              "  <thead>\n",
              "    <tr style=\"text-align: right;\">\n",
              "      <th></th>\n",
              "      <th>f0</th>\n",
              "      <th>f1</th>\n",
              "      <th>f2</th>\n",
              "      <th>product</th>\n",
              "    </tr>\n",
              "  </thead>\n",
              "  <tbody>\n",
              "    <tr>\n",
              "      <th>f0</th>\n",
              "      <td>1.000000</td>\n",
              "      <td>0.182287</td>\n",
              "      <td>-0.001777</td>\n",
              "      <td>-0.030491</td>\n",
              "    </tr>\n",
              "    <tr>\n",
              "      <th>f1</th>\n",
              "      <td>0.182287</td>\n",
              "      <td>1.000000</td>\n",
              "      <td>-0.002595</td>\n",
              "      <td>-0.010155</td>\n",
              "    </tr>\n",
              "    <tr>\n",
              "      <th>f2</th>\n",
              "      <td>-0.001777</td>\n",
              "      <td>-0.002595</td>\n",
              "      <td>1.000000</td>\n",
              "      <td>0.999397</td>\n",
              "    </tr>\n",
              "    <tr>\n",
              "      <th>product</th>\n",
              "      <td>-0.030491</td>\n",
              "      <td>-0.010155</td>\n",
              "      <td>0.999397</td>\n",
              "      <td>1.000000</td>\n",
              "    </tr>\n",
              "  </tbody>\n",
              "</table>\n",
              "</div>"
            ],
            "text/plain": [
              "               f0        f1        f2   product\n",
              "f0       1.000000  0.182287 -0.001777 -0.030491\n",
              "f1       0.182287  1.000000 -0.002595 -0.010155\n",
              "f2      -0.001777 -0.002595  1.000000  0.999397\n",
              "product -0.030491 -0.010155  0.999397  1.000000"
            ]
          },
          "metadata": {},
          "output_type": "display_data"
        },
        {
          "name": "stdout",
          "output_type": "stream",
          "text": [
            "\n",
            "\n",
            "\n",
            "/datasets/geo_data_2.csv\n"
          ]
        },
        {
          "data": {
            "text/html": [
              "<div>\n",
              "<style scoped>\n",
              "    .dataframe tbody tr th:only-of-type {\n",
              "        vertical-align: middle;\n",
              "    }\n",
              "\n",
              "    .dataframe tbody tr th {\n",
              "        vertical-align: top;\n",
              "    }\n",
              "\n",
              "    .dataframe thead th {\n",
              "        text-align: right;\n",
              "    }\n",
              "</style>\n",
              "<table border=\"1\" class=\"dataframe\">\n",
              "  <thead>\n",
              "    <tr style=\"text-align: right;\">\n",
              "      <th></th>\n",
              "      <th>id</th>\n",
              "      <th>f0</th>\n",
              "      <th>f1</th>\n",
              "      <th>f2</th>\n",
              "      <th>product</th>\n",
              "    </tr>\n",
              "  </thead>\n",
              "  <tbody>\n",
              "    <tr>\n",
              "      <th>0</th>\n",
              "      <td>fwXo0</td>\n",
              "      <td>-1.146987</td>\n",
              "      <td>0.963328</td>\n",
              "      <td>-0.828965</td>\n",
              "      <td>27.758673</td>\n",
              "    </tr>\n",
              "    <tr>\n",
              "      <th>1</th>\n",
              "      <td>WJtFt</td>\n",
              "      <td>0.262778</td>\n",
              "      <td>0.269839</td>\n",
              "      <td>-2.530187</td>\n",
              "      <td>56.069697</td>\n",
              "    </tr>\n",
              "    <tr>\n",
              "      <th>2</th>\n",
              "      <td>ovLUW</td>\n",
              "      <td>0.194587</td>\n",
              "      <td>0.289035</td>\n",
              "      <td>-5.586433</td>\n",
              "      <td>62.871910</td>\n",
              "    </tr>\n",
              "    <tr>\n",
              "      <th>3</th>\n",
              "      <td>q6cA6</td>\n",
              "      <td>2.236060</td>\n",
              "      <td>-0.553760</td>\n",
              "      <td>0.930038</td>\n",
              "      <td>114.572842</td>\n",
              "    </tr>\n",
              "    <tr>\n",
              "      <th>4</th>\n",
              "      <td>WPMUX</td>\n",
              "      <td>-0.515993</td>\n",
              "      <td>1.716266</td>\n",
              "      <td>5.899011</td>\n",
              "      <td>149.600746</td>\n",
              "    </tr>\n",
              "  </tbody>\n",
              "</table>\n",
              "</div>"
            ],
            "text/plain": [
              "      id        f0        f1        f2     product\n",
              "0  fwXo0 -1.146987  0.963328 -0.828965   27.758673\n",
              "1  WJtFt  0.262778  0.269839 -2.530187   56.069697\n",
              "2  ovLUW  0.194587  0.289035 -5.586433   62.871910\n",
              "3  q6cA6  2.236060 -0.553760  0.930038  114.572842\n",
              "4  WPMUX -0.515993  1.716266  5.899011  149.600746"
            ]
          },
          "metadata": {},
          "output_type": "display_data"
        },
        {
          "name": "stdout",
          "output_type": "stream",
          "text": [
            "<class 'pandas.core.frame.DataFrame'>\n",
            "RangeIndex: 100000 entries, 0 to 99999\n",
            "Data columns (total 5 columns):\n",
            " #   Column   Non-Null Count   Dtype  \n",
            "---  ------   --------------   -----  \n",
            " 0   id       100000 non-null  object \n",
            " 1   f0       100000 non-null  float64\n",
            " 2   f1       100000 non-null  float64\n",
            " 3   f2       100000 non-null  float64\n",
            " 4   product  100000 non-null  float64\n",
            "dtypes: float64(4), object(1)\n",
            "memory usage: 3.8+ MB\n"
          ]
        },
        {
          "data": {
            "text/plain": [
              "None"
            ]
          },
          "metadata": {},
          "output_type": "display_data"
        },
        {
          "data": {
            "text/html": [
              "<div>\n",
              "<style scoped>\n",
              "    .dataframe tbody tr th:only-of-type {\n",
              "        vertical-align: middle;\n",
              "    }\n",
              "\n",
              "    .dataframe tbody tr th {\n",
              "        vertical-align: top;\n",
              "    }\n",
              "\n",
              "    .dataframe thead th {\n",
              "        text-align: right;\n",
              "    }\n",
              "</style>\n",
              "<table border=\"1\" class=\"dataframe\">\n",
              "  <thead>\n",
              "    <tr style=\"text-align: right;\">\n",
              "      <th></th>\n",
              "      <th>f0</th>\n",
              "      <th>f1</th>\n",
              "      <th>f2</th>\n",
              "      <th>product</th>\n",
              "    </tr>\n",
              "  </thead>\n",
              "  <tbody>\n",
              "    <tr>\n",
              "      <th>count</th>\n",
              "      <td>100000.000000</td>\n",
              "      <td>100000.000000</td>\n",
              "      <td>100000.000000</td>\n",
              "      <td>100000.000000</td>\n",
              "    </tr>\n",
              "    <tr>\n",
              "      <th>mean</th>\n",
              "      <td>0.002023</td>\n",
              "      <td>-0.002081</td>\n",
              "      <td>2.495128</td>\n",
              "      <td>95.000000</td>\n",
              "    </tr>\n",
              "    <tr>\n",
              "      <th>std</th>\n",
              "      <td>1.732045</td>\n",
              "      <td>1.730417</td>\n",
              "      <td>3.473445</td>\n",
              "      <td>44.749921</td>\n",
              "    </tr>\n",
              "    <tr>\n",
              "      <th>min</th>\n",
              "      <td>-8.760004</td>\n",
              "      <td>-7.084020</td>\n",
              "      <td>-11.970335</td>\n",
              "      <td>0.000000</td>\n",
              "    </tr>\n",
              "    <tr>\n",
              "      <th>25%</th>\n",
              "      <td>-1.162288</td>\n",
              "      <td>-1.174820</td>\n",
              "      <td>0.130359</td>\n",
              "      <td>59.450441</td>\n",
              "    </tr>\n",
              "    <tr>\n",
              "      <th>50%</th>\n",
              "      <td>0.009424</td>\n",
              "      <td>-0.009482</td>\n",
              "      <td>2.484236</td>\n",
              "      <td>94.925613</td>\n",
              "    </tr>\n",
              "    <tr>\n",
              "      <th>75%</th>\n",
              "      <td>1.158535</td>\n",
              "      <td>1.163678</td>\n",
              "      <td>4.858794</td>\n",
              "      <td>130.595027</td>\n",
              "    </tr>\n",
              "    <tr>\n",
              "      <th>max</th>\n",
              "      <td>7.238262</td>\n",
              "      <td>7.844801</td>\n",
              "      <td>16.739402</td>\n",
              "      <td>190.029838</td>\n",
              "    </tr>\n",
              "  </tbody>\n",
              "</table>\n",
              "</div>"
            ],
            "text/plain": [
              "                  f0             f1             f2        product\n",
              "count  100000.000000  100000.000000  100000.000000  100000.000000\n",
              "mean        0.002023      -0.002081       2.495128      95.000000\n",
              "std         1.732045       1.730417       3.473445      44.749921\n",
              "min        -8.760004      -7.084020     -11.970335       0.000000\n",
              "25%        -1.162288      -1.174820       0.130359      59.450441\n",
              "50%         0.009424      -0.009482       2.484236      94.925613\n",
              "75%         1.158535       1.163678       4.858794     130.595027\n",
              "max         7.238262       7.844801      16.739402     190.029838"
            ]
          },
          "metadata": {},
          "output_type": "display_data"
        },
        {
          "data": {
            "text/html": [
              "<div>\n",
              "<style scoped>\n",
              "    .dataframe tbody tr th:only-of-type {\n",
              "        vertical-align: middle;\n",
              "    }\n",
              "\n",
              "    .dataframe tbody tr th {\n",
              "        vertical-align: top;\n",
              "    }\n",
              "\n",
              "    .dataframe thead th {\n",
              "        text-align: right;\n",
              "    }\n",
              "</style>\n",
              "<table border=\"1\" class=\"dataframe\">\n",
              "  <thead>\n",
              "    <tr style=\"text-align: right;\">\n",
              "      <th></th>\n",
              "      <th>f0</th>\n",
              "      <th>f1</th>\n",
              "      <th>f2</th>\n",
              "      <th>product</th>\n",
              "    </tr>\n",
              "  </thead>\n",
              "  <tbody>\n",
              "    <tr>\n",
              "      <th>f0</th>\n",
              "      <td>1.000000</td>\n",
              "      <td>0.000528</td>\n",
              "      <td>-0.000448</td>\n",
              "      <td>-0.001987</td>\n",
              "    </tr>\n",
              "    <tr>\n",
              "      <th>f1</th>\n",
              "      <td>0.000528</td>\n",
              "      <td>1.000000</td>\n",
              "      <td>0.000779</td>\n",
              "      <td>-0.001012</td>\n",
              "    </tr>\n",
              "    <tr>\n",
              "      <th>f2</th>\n",
              "      <td>-0.000448</td>\n",
              "      <td>0.000779</td>\n",
              "      <td>1.000000</td>\n",
              "      <td>0.445871</td>\n",
              "    </tr>\n",
              "    <tr>\n",
              "      <th>product</th>\n",
              "      <td>-0.001987</td>\n",
              "      <td>-0.001012</td>\n",
              "      <td>0.445871</td>\n",
              "      <td>1.000000</td>\n",
              "    </tr>\n",
              "  </tbody>\n",
              "</table>\n",
              "</div>"
            ],
            "text/plain": [
              "               f0        f1        f2   product\n",
              "f0       1.000000  0.000528 -0.000448 -0.001987\n",
              "f1       0.000528  1.000000  0.000779 -0.001012\n",
              "f2      -0.000448  0.000779  1.000000  0.445871\n",
              "product -0.001987 -0.001012  0.445871  1.000000"
            ]
          },
          "metadata": {},
          "output_type": "display_data"
        },
        {
          "name": "stdout",
          "output_type": "stream",
          "text": [
            "\n",
            "\n",
            "\n"
          ]
        }
      ],
      "source": [
        "#напишем для этого функцию, чтобы не дублировать все по несколько раз\n",
        "def show_info(link):\n",
        "    data = pd.read_csv(link) #читаем данные по 1 региону в переменную data\n",
        "    print(link)\n",
        "    display(data.head()); #выведем первые 5 строк датасета\n",
        "    display(data.info()); #выведем информацию о типах данных и пропусках в датасете\n",
        "    display(data.describe()); #выведем информацию о распределении значений в датасете\n",
        "    display(data.corr()); #посмотрим корреляцию между признаками\n",
        "    print('\\n\\n')\n",
        "\n",
        "QTY_REGIONS = 3 # кол-во регионов\n",
        "drive.mount('/content/drive')\n",
        "\n",
        "for i in range(QTY_REGIONS):\n",
        "    show_info(f'/content/drive/My Drive/projects/oil_wells_profitability_prediction/geo_data_{i}.csv')"
      ]
    },
    {
      "cell_type": "markdown",
      "metadata": {
        "id": "7b8YlWmG-N3m"
      },
      "source": [
        "**Видим, что данные по каждому из регионов не имеют пропусков и каких-то аномалий в типах, требующих исправлений.**\n",
        "\n",
        "**Достаточно странный момент - это почти полная корреляция в данных региона 2 двух признаков: признака f2 и целевого признака product.**"
      ]
    },
    {
      "cell_type": "markdown",
      "metadata": {
        "id": "H53x2app-N3n"
      },
      "source": [
        "**Удалим неинформативный признак `'id'` из каждого датасета.**"
      ]
    },
    {
      "cell_type": "code",
      "execution_count": null,
      "metadata": {
        "id": "CKm1zvOA-N3n",
        "outputId": "15434403-94a8-4a7e-a730-17d515e1f8b2"
      },
      "outputs": [
        {
          "data": {
            "text/plain": [
              "[             f0        f1        f2     product\n",
              " 0      0.705745 -0.497823  1.221170  105.280062\n",
              " 1      1.334711 -0.340164  4.365080   73.037750\n",
              " 2      1.022732  0.151990  1.419926   85.265647\n",
              " 3     -0.032172  0.139033  2.978566  168.620776\n",
              " 4      1.988431  0.155413  4.751769  154.036647\n",
              " ...         ...       ...       ...         ...\n",
              " 99995  0.971957  0.370953  6.075346  110.744026\n",
              " 99996  1.392429 -0.382606  1.273912  122.346843\n",
              " 99997  1.029585  0.018787 -1.348308   64.375443\n",
              " 99998  0.998163 -0.528582  1.583869   74.040764\n",
              " 99999  1.764754 -0.266417  5.722849  149.633246\n",
              " \n",
              " [100000 rows x 4 columns],\n",
              "               f0         f1        f2     product\n",
              " 0     -15.001348  -8.276000 -0.005876    3.179103\n",
              " 1      14.272088  -3.475083  0.999183   26.953261\n",
              " 2       6.263187  -5.948386  5.001160  134.766305\n",
              " 3     -13.081196 -11.506057  4.999415  137.945408\n",
              " 4      12.702195  -8.147433  5.004363  134.766305\n",
              " ...          ...        ...       ...         ...\n",
              " 99995   9.535637  -6.878139  1.998296   53.906522\n",
              " 99996 -10.160631 -12.558096  5.005581  137.945408\n",
              " 99997  -7.378891  -3.084104  4.998651  137.945408\n",
              " 99998   0.665714  -6.152593  1.000146   30.132364\n",
              " 99999  -3.426139  -7.794274 -0.003299    3.179103\n",
              " \n",
              " [100000 rows x 4 columns],\n",
              "              f0        f1        f2     product\n",
              " 0     -1.146987  0.963328 -0.828965   27.758673\n",
              " 1      0.262778  0.269839 -2.530187   56.069697\n",
              " 2      0.194587  0.289035 -5.586433   62.871910\n",
              " 3      2.236060 -0.553760  0.930038  114.572842\n",
              " 4     -0.515993  1.716266  5.899011  149.600746\n",
              " ...         ...       ...       ...         ...\n",
              " 99995 -1.777037  1.125220  6.263374  172.327046\n",
              " 99996 -1.261523 -0.894828  2.524545  138.748846\n",
              " 99997 -1.199934 -2.957637  5.219411  157.080080\n",
              " 99998 -2.419896  2.417221 -5.548444   51.795253\n",
              " 99999 -2.551421 -2.025625  6.090891  102.775767\n",
              " \n",
              " [100000 rows x 4 columns]]"
            ]
          },
          "execution_count": 3,
          "metadata": {},
          "output_type": "execute_result"
        }
      ],
      "source": [
        "#напишем функцию, которая удаляет из каждого датасета в списке нужный признак\n",
        "def delete_column(link_list, column):\n",
        "    for i in range(len(link_list)):\n",
        "        df = pd.read_csv(link_list[i])\n",
        "        df = df.drop([column], axis=1)\n",
        "        df_list.append(df)\n",
        "    return df_list\n",
        "\n",
        "link_list = [] # создаем список для ссылок датасетов\n",
        "df_list = [] # создаем список датафреймов\n",
        "\n",
        "#заполняем список ссылок датасетов\n",
        "for i in range(QTY_REGIONS):\n",
        "    link_list.append(f'/content/drive/My Drive/projects/oil_wells_profitability_prediction/geo_data_{i}.csv')\n",
        "\n",
        "#заполним список датафреймов\n",
        "df_list = delete_column(link_list, 'id')\n",
        "df_list"
      ]
    },
    {
      "cell_type": "markdown",
      "metadata": {
        "id": "NIBMWBWO-N3n"
      },
      "source": [
        "## Обучение и проверка модели"
      ]
    },
    {
      "cell_type": "markdown",
      "metadata": {
        "id": "mo2vJ-vq-N3o"
      },
      "source": [
        "### Разделение данных на выборки"
      ]
    },
    {
      "cell_type": "markdown",
      "metadata": {
        "id": "H1nfgIUr-N3o"
      },
      "source": [
        "**Разобъем данные для каждого из 3 регионов на обучающую и валидационную выборки в соотношении 75:25, масштабируем численные признаки.**"
      ]
    },
    {
      "cell_type": "code",
      "execution_count": null,
      "metadata": {
        "id": "CTRR9ke8-N3o",
        "outputId": "87bb4237-0b82-40a8-942a-4d93d5fd47bd"
      },
      "outputs": [
        {
          "name": "stdout",
          "output_type": "stream",
          "text": [
            "\n",
            "\n",
            "1-й регион. features_train:\n"
          ]
        },
        {
          "data": {
            "text/plain": [
              "(75000, 3)"
            ]
          },
          "metadata": {},
          "output_type": "display_data"
        },
        {
          "name": "stdout",
          "output_type": "stream",
          "text": [
            "1-й регион. features_valid:\n"
          ]
        },
        {
          "data": {
            "text/plain": [
              "(25000, 3)"
            ]
          },
          "metadata": {},
          "output_type": "display_data"
        },
        {
          "name": "stdout",
          "output_type": "stream",
          "text": [
            "1-й регион. target_train:\n"
          ]
        },
        {
          "data": {
            "text/plain": [
              "(75000,)"
            ]
          },
          "metadata": {},
          "output_type": "display_data"
        },
        {
          "name": "stdout",
          "output_type": "stream",
          "text": [
            "1-й регион. target_valid:\n"
          ]
        },
        {
          "data": {
            "text/plain": [
              "(25000,)"
            ]
          },
          "metadata": {},
          "output_type": "display_data"
        },
        {
          "name": "stdout",
          "output_type": "stream",
          "text": [
            "\n",
            "\n",
            "2-й регион. features_train:\n"
          ]
        },
        {
          "data": {
            "text/plain": [
              "(75000, 3)"
            ]
          },
          "metadata": {},
          "output_type": "display_data"
        },
        {
          "name": "stdout",
          "output_type": "stream",
          "text": [
            "2-й регион. features_valid:\n"
          ]
        },
        {
          "data": {
            "text/plain": [
              "(25000, 3)"
            ]
          },
          "metadata": {},
          "output_type": "display_data"
        },
        {
          "name": "stdout",
          "output_type": "stream",
          "text": [
            "2-й регион. target_train:\n"
          ]
        },
        {
          "data": {
            "text/plain": [
              "(75000,)"
            ]
          },
          "metadata": {},
          "output_type": "display_data"
        },
        {
          "name": "stdout",
          "output_type": "stream",
          "text": [
            "2-й регион. target_valid:\n"
          ]
        },
        {
          "data": {
            "text/plain": [
              "(25000,)"
            ]
          },
          "metadata": {},
          "output_type": "display_data"
        },
        {
          "name": "stdout",
          "output_type": "stream",
          "text": [
            "\n",
            "\n",
            "3-й регион. features_train:\n"
          ]
        },
        {
          "data": {
            "text/plain": [
              "(75000, 3)"
            ]
          },
          "metadata": {},
          "output_type": "display_data"
        },
        {
          "name": "stdout",
          "output_type": "stream",
          "text": [
            "3-й регион. features_valid:\n"
          ]
        },
        {
          "data": {
            "text/plain": [
              "(25000, 3)"
            ]
          },
          "metadata": {},
          "output_type": "display_data"
        },
        {
          "name": "stdout",
          "output_type": "stream",
          "text": [
            "3-й регион. target_train:\n"
          ]
        },
        {
          "data": {
            "text/plain": [
              "(75000,)"
            ]
          },
          "metadata": {},
          "output_type": "display_data"
        },
        {
          "name": "stdout",
          "output_type": "stream",
          "text": [
            "3-й регион. target_valid:\n"
          ]
        },
        {
          "data": {
            "text/plain": [
              "(25000,)"
            ]
          },
          "metadata": {},
          "output_type": "display_data"
        }
      ],
      "source": [
        "# напишем функцию, которая масштабирует признаки\n",
        "# и разбивает список датасетов на списки тренировочных выборок и валидационных выборок\n",
        "def data_dev_std(df_list, target_column, test_size, numeric):\n",
        "    pd.options.mode.chained_assignment = None # для \"нейтрализации\" ошибки стандартизации\n",
        "    features_train_list = []\n",
        "    features_valid_list = []\n",
        "    target_train_list = []\n",
        "    target_valid_list = []\n",
        "    i = 0\n",
        "    # разделим датасет на обучающую и валидационные выборки\n",
        "    for df in df_list:\n",
        "        target = df[target_column]\n",
        "        features = df.drop([target_column], axis = 1)\n",
        "        features_train, features_valid, target_train, target_valid = train_test_split(features, target, test_size=test_size, random_state=i)\n",
        "        # нормализуем численные признаки\n",
        "        scaler = StandardScaler()\n",
        "        scaler.fit(features_train[numeric])\n",
        "        features_train[numeric] = scaler.transform(features_train[numeric])\n",
        "        features_valid[numeric] = scaler.transform(features_valid[numeric])\n",
        "        # запишем полученные выборки в соответствующие списки\n",
        "        features_train_list.append(features_train)\n",
        "        features_valid_list.append(features_valid)\n",
        "        target_train_list.append(target_train)\n",
        "        target_valid_list.append(target_valid)\n",
        "        i += 1\n",
        "    return features_train_list, features_valid_list, target_train_list, target_valid_list\n",
        "\n",
        "features_train_list = []\n",
        "features_valid_list = []\n",
        "target_train_list = []\n",
        "target_valid_list = []\n",
        "\n",
        "features_train_list, features_valid_list, target_train_list, target_valid_list = data_dev_std(df_list, 'product', 0.25, ['f0', 'f1', 'f2'])\n",
        "\n",
        "# выведем на экран размеры получившихся выборок\n",
        "for i in range(QTY_REGIONS):\n",
        "    print('\\n')\n",
        "    print(f'{i+1}-й регион. features_train:')\n",
        "    display(features_train_list[i].shape)\n",
        "    print(f'{i+1}-й регион. features_valid:')\n",
        "    display(features_valid_list[i].shape)\n",
        "    print(f'{i+1}-й регион. target_train:')\n",
        "    display(target_train_list[i].shape)\n",
        "    print(f'{i+1}-й регион. target_valid:')\n",
        "    display(target_valid_list[i].shape)"
      ]
    },
    {
      "cell_type": "markdown",
      "metadata": {
        "id": "h4qNpM73-N3p"
      },
      "source": [
        "### Обучение моделей для каждого региона и предсказания на валидационных\n",
        "### Сохранение предсказаний и правильных ответов на валидационной выборке\n",
        "### Вывод на экран среднего запаса предсказанного сырья и RMSE каждой модели"
      ]
    },
    {
      "cell_type": "code",
      "execution_count": null,
      "metadata": {
        "id": "W-PAGvCe-N3p",
        "outputId": "ab292943-3d84-4341-a0f7-bd8ae6836b9f"
      },
      "outputs": [
        {
          "name": "stdout",
          "output_type": "stream",
          "text": [
            "RMSE для регионов, тыс. баррелей:[37.481, 0.894, 39.985]\n",
            "Средний запас предсказанного сырья по регионам, тыс. баррелей:[92.271, 69.12, 94.86]\n"
          ]
        }
      ],
      "source": [
        "predictions_valid_list = [] # список с предсказаниями для каждого региона на валидационных выборках\n",
        "rmse_list = [] # список со значениями RMSE для предсказаний каждой модели для каждого региона на валидационных данных\n",
        "mean_pred_oil_reserves_list = [] # список со значениями среднего запаса предсказанного сырья для каждого региона\n",
        "\n",
        "for i in range(QTY_REGIONS):\n",
        "    model = LinearRegression() # инициализируем модель LinearRegression\n",
        "    model.fit(features_train_list[i], target_train_list[i]) # обучим модель на тренировочной выборке\n",
        "    # получим предсказания модели на валидационной выборке и добавим в список\n",
        "    predictions_valid_list.append(model.predict(features_valid_list[i]))\n",
        "    # получим значение метрики rmse для каждой модели на валидационных данных и добавим в список\n",
        "    rmse_list.append(mean_squared_error(target_valid_list[i], predictions_valid_list[i], squared=False))\n",
        "    mean_pred_oil_reserves_list.append(predictions_valid_list[i].mean())\n",
        "\n",
        "    # список значений RMSE для моделей, обученных для каждого региона\n",
        "print(f'RMSE для регионов, тыс. баррелей:{[round(rmse, 3) for rmse in rmse_list]}')\n",
        "# список среднего запаса предсказанного сырья по регионам\n",
        "print(f'Средний запас предсказанного сырья по регионам, тыс. баррелей:{[round(feedstock, 3) for feedstock in mean_pred_oil_reserves_list]}')"
      ]
    },
    {
      "cell_type": "markdown",
      "metadata": {
        "id": "QDmhDqWL-N3q"
      },
      "source": [
        "### Анализ результатов"
      ]
    },
    {
      "cell_type": "markdown",
      "metadata": {
        "id": "LQC0e8o6-N3q"
      },
      "source": [
        "**Полученные результаты позволяют сделать следующие выводы:**\n",
        "- Регион 3 и 1 имеют наибольшие значения среднего запаса предсказанного сырья, однако, с учетом значения RMSE для каждой из модели результаты не столь однозначны, т.к. с учетом ошибки средний запас предсказанного сырья может оказаться наибольшим для региона 2.\n",
        "- Метрика RMSE наилучшее (наименьшее) значение имеет для модели, обученной на данных региона 2, что логично, т.к. в начале мы обнаружили полную корреляцию признака f2 и целевого признака для данного региона.\n"
      ]
    },
    {
      "cell_type": "markdown",
      "metadata": {
        "id": "xJtajB71-N3q"
      },
      "source": [
        "## Подготовка к расчёту прибыли"
      ]
    },
    {
      "cell_type": "markdown",
      "metadata": {
        "id": "UJxZBNxp-N3q"
      },
      "source": [
        "### Сохраняем все ключевые значения для расчётов в отдельных переменных"
      ]
    },
    {
      "cell_type": "markdown",
      "metadata": {
        "id": "h-w5I7CA-N3r"
      },
      "source": [
        "При разведке региона исследуют 500 точек, из которых с помощью машинного обучения выбирают 200 лучших для разработки.\n",
        "Бюджет на разработку скважин в регионе — 10 млрд рублей.\n",
        "При нынешних ценах один баррель сырья приносит 450 рублей дохода. Доход с каждой единицы продукта составляет 450 тыс. рублей, поскольку объём указан в тысячах баррелей."
      ]
    },
    {
      "cell_type": "code",
      "execution_count": null,
      "metadata": {
        "id": "vXmpjwdb-N3r"
      },
      "outputs": [],
      "source": [
        "ONE_REGION_BUDGET = 10 ** 10 # бюджет на разработку скважин в одном регионе\n",
        "ONE_UNIT_INCOME = 4.5 * 10 ** 5 # доход с единицы продукта (1 тыс. баррелей)\n",
        "EXPLORE_COUNT = 500 # кол-во точек при разведке региона\n",
        "TOP_COUNT = 200 # кол-во лучших точек для разработки"
      ]
    },
    {
      "cell_type": "markdown",
      "metadata": {
        "id": "hj97tfbb-N3r"
      },
      "source": [
        "### Рассчитаем достаточный объём сырья для безубыточной разработки новой скважины"
      ]
    },
    {
      "cell_type": "code",
      "execution_count": null,
      "metadata": {
        "id": "dNRmzdY3-N3r",
        "outputId": "f9733c5f-f912-4ea0-df07-3006e68f97a5"
      },
      "outputs": [
        {
          "name": "stdout",
          "output_type": "stream",
          "text": [
            "Распределение запасов сырья для 1-го региона\n"
          ]
        },
        {
          "data": {
            "image/png": "[encoded data removed]",
            "text/plain": [
              "<Figure size 432x288 with 1 Axes>"
            ]
          },
          "metadata": {
            "needs_background": "light"
          },
          "output_type": "display_data"
        },
        {
          "name": "stdout",
          "output_type": "stream",
          "text": [
            "\n",
            "\n",
            "Распределение запасов сырья для 2-го региона\n"
          ]
        },
        {
          "data": {
            "image/png": "[encoded data removed]",
            "text/plain": [
              "<Figure size 432x288 with 1 Axes>"
            ]
          },
          "metadata": {
            "needs_background": "light"
          },
          "output_type": "display_data"
        },
        {
          "name": "stdout",
          "output_type": "stream",
          "text": [
            "\n",
            "\n",
            "Распределение запасов сырья для 3-го региона\n"
          ]
        },
        {
          "data": {
            "image/png": "[encoded data removed]",
            "text/plain": [
              "<Figure size 432x288 with 1 Axes>"
            ]
          },
          "metadata": {
            "needs_background": "light"
          },
          "output_type": "display_data"
        },
        {
          "name": "stdout",
          "output_type": "stream",
          "text": [
            "\n",
            "\n",
            "Средний запас в скважинах по регионам, тыс. баррелей:[92.5, 68.825, 95.0]\n",
            "Достаточный объём сырья для безубыточной разработки новой скважины 111.111 тыс. баррелей\n"
          ]
        }
      ],
      "source": [
        "mean_oil_reserves_list = [] # список среднего запаса сырья по регионам\n",
        "for i in range(QTY_REGIONS):\n",
        "    mean_oil_reserves_list.append(df_list[i]['product'].mean())\n",
        "    print(f'Распределение запасов сырья для {i+1}-го региона')\n",
        "    df_list[i]['product'].hist(bins=50, alpha=0.6)\n",
        "    plt.show()\n",
        "    print('\\n')\n",
        "\n",
        "print(f'Средний запас в скважинах по регионам, тыс. баррелей:{[round(oil, 3) for oil in mean_oil_reserves_list]}')\n",
        "brkevn_amnt = ONE_REGION_BUDGET / TOP_COUNT / ONE_UNIT_INCOME\n",
        "print(f'Достаточный объём сырья для безубыточной разработки новой скважины {brkevn_amnt:.3f} тыс. баррелей')"
      ]
    },
    {
      "cell_type": "markdown",
      "metadata": {
        "id": "12LUlXrK-N3s"
      },
      "source": [
        "### Сравнение полученного объёма сырья со средним запасом в каждом регионе"
      ]
    },
    {
      "cell_type": "markdown",
      "metadata": {
        "id": "VqMxCyxz-N3s"
      },
      "source": [
        "**Видим, что достаточный объем сырья для безубытка для одной скважины превышает средние значения по каждому региону.**"
      ]
    },
    {
      "cell_type": "markdown",
      "metadata": {
        "id": "ln5-_Our-N3s"
      },
      "source": [
        "### Выводы по этапу подготовки расчёта прибыли."
      ]
    },
    {
      "cell_type": "markdown",
      "metadata": {
        "id": "DLixm-I6-N3s"
      },
      "source": [
        "**Можно сделать вывод, что несмотря на тот факт, что средние объемы сырья в регионах недостаточны для безубыточной разработки новых 200 скважин, исходя из гистограммы вероятность попасть на 200 скважин, которые будут безубыточны не нулевая и на первый взгляд выше для региона 1 и 3.**"
      ]
    },
    {
      "cell_type": "markdown",
      "metadata": {
        "id": "pJI-rLIh-N3t"
      },
      "source": [
        "## Расчёт прибыли и рисков"
      ]
    },
    {
      "cell_type": "markdown",
      "metadata": {
        "id": "0Y_qoP3U-N3t"
      },
      "source": [
        "###  Выберем скважины с максимальными значениями предсказаний\n",
        "### Просуммируем целевое значение объёма сырья, соответствующее этим предсказаниям\n",
        "### Рассчитаем прибыль для полученного объёма сырья"
      ]
    },
    {
      "cell_type": "code",
      "execution_count": null,
      "metadata": {
        "id": "P4Fcc0u1-N3t",
        "outputId": "a64cd939-466e-4749-f71a-7f920bcdcda7"
      },
      "outputs": [
        {
          "data": {
            "text/plain": [
              "[3363408079.608, 2415086696.682, 2426986816.696]"
            ]
          },
          "execution_count": 8,
          "metadata": {},
          "output_type": "execute_result"
        }
      ],
      "source": [
        "# напишем функцию для расчёта прибыли по скважинам с макс. значениями предсказаний моделей\n",
        "def profit_calc(predictions, target, count, one_unit_income, budget):\n",
        "    pred_index = predictions.sort_values(ascending=False).iloc[:count].index\n",
        "    target_top = target.reset_index(drop=True).iloc[predictions.sort_values(ascending=False).iloc[:count].index]\n",
        "    target_sum_value = target_top.sum()\n",
        "    target_sum_income = target_sum_value * one_unit_income - budget\n",
        "    return target_sum_income\n",
        "\n",
        "target_top_income_list = [] # список суммарной прибыли с топ-200 скважин для каждого региона\n",
        "for i in range(QTY_REGIONS):\n",
        "    target_top_income_list.append(\n",
        "        profit_calc(pd.Series(predictions_valid_list[i]), target_valid_list[i], TOP_COUNT, ONE_UNIT_INCOME, ONE_REGION_BUDGET)\n",
        "    )\n",
        "[round(income, 3) for income in target_top_income_list] # чистая прибыль для каждого региона по топ-200 скважин"
      ]
    },
    {
      "cell_type": "markdown",
      "metadata": {
        "id": "s4Fk_eVO-N3t"
      },
      "source": [
        "**Проверим теперь прибыль для каждого региона при условии, что при разведке региона исследуют 500 точек, из которых с помощью машинного обучения выбирают 200 лучших для разработки.**"
      ]
    },
    {
      "cell_type": "code",
      "execution_count": null,
      "metadata": {
        "id": "lfM6c9lh-N3t",
        "outputId": "bfc27ade-1cf8-4975-dc4b-416b865607f5"
      },
      "outputs": [
        {
          "data": {
            "text/plain": [
              "[801467788.263, 294383385.442, 197709200.136]"
            ]
          },
          "execution_count": 10,
          "metadata": {},
          "output_type": "execute_result"
        }
      ],
      "source": [
        "target_exmpl_top_income_list = [] # список суммарной прибыли для топ-200 скважин среди 500 случайных для каждого региона\n",
        "\n",
        "for i in range(QTY_REGIONS):\n",
        "    examples = pd.Series(predictions_valid_list[i]).sample(n=EXPLORE_COUNT, random_state=i) # выделение случайных 500 скважин\n",
        "    # расчет суммарной прибыли для примера\n",
        "    target_exmpl_top_income_list.append(\n",
        "        profit_calc(examples, target_valid_list[i], TOP_COUNT, ONE_UNIT_INCOME, ONE_REGION_BUDGET)\n",
        "    )\n",
        "[round(income, 3) for income in target_exmpl_top_income_list]# чистая прибыль для каждого региона для топ-200 взятых из случайных 500 скважин"
      ]
    },
    {
      "cell_type": "markdown",
      "metadata": {
        "id": "qteho25T-N3u"
      },
      "source": [
        "## Риски и прибыль в каждом регионе"
      ]
    },
    {
      "cell_type": "markdown",
      "metadata": {
        "id": "MRWpnpxw-N3u"
      },
      "source": [
        " ### Применим технику Bootstrap с 1000 выборок, чтобы найти распределение прибыли"
      ]
    },
    {
      "cell_type": "code",
      "execution_count": null,
      "metadata": {
        "id": "h5pW3KhP-N3u",
        "outputId": "bccefb5d-2f67-42f6-e95f-f1629d008f6e"
      },
      "outputs": [
        {
          "data": {
            "text/plain": [
              "[0      5.988635e+08\n",
              " 1      5.432469e+08\n",
              " 2      2.675469e+08\n",
              " 3      3.740575e+08\n",
              " 4      8.103343e+08\n",
              "            ...     \n",
              " 995    3.783639e+08\n",
              " 996    1.012018e+09\n",
              " 997    2.335590e+08\n",
              " 998    6.104321e+08\n",
              " 999    5.729309e+08\n",
              " Length: 1000, dtype: float64,\n",
              " 0      6.196885e+08\n",
              " 1      2.644031e+08\n",
              " 2      3.022206e+08\n",
              " 3      2.108490e+08\n",
              " 4      4.570359e+08\n",
              "            ...     \n",
              " 995    1.317308e+08\n",
              " 996    5.968612e+08\n",
              " 997    3.292775e+08\n",
              " 998    8.857794e+08\n",
              " 999    1.616489e+08\n",
              " Length: 1000, dtype: float64,\n",
              " 0     -1.450709e+08\n",
              " 1      3.892880e+08\n",
              " 2      2.618746e+08\n",
              " 3     -6.711486e+06\n",
              " 4      4.891680e+08\n",
              "            ...     \n",
              " 995    1.045231e+08\n",
              " 996    7.447905e+07\n",
              " 997    4.248850e+08\n",
              " 998    6.327871e+08\n",
              " 999    3.426122e+08\n",
              " Length: 1000, dtype: float64]"
            ]
          },
          "execution_count": 11,
          "metadata": {},
          "output_type": "execute_result"
        }
      ],
      "source": [
        "state = np.random.RandomState(1)\n",
        "income_distr_regions_list = [] # список, куда сохраняем распределение income для каждого региона\n",
        "for i in range(QTY_REGIONS):\n",
        "    values = [] # список, куда сохраняем список значений income для одного региона\n",
        "    for j in range(1000):\n",
        "        subsample = pd.Series(predictions_valid_list[i]).sample(n=EXPLORE_COUNT, replace=True, random_state=state)\n",
        "        values.append(\n",
        "            profit_calc(subsample, target_valid_list[i], TOP_COUNT, ONE_UNIT_INCOME, ONE_REGION_BUDGET)\n",
        "        )\n",
        "    income_distr_regions_list.append(pd.Series(values))\n",
        "\n",
        "income_distr_regions_list"
      ]
    },
    {
      "cell_type": "markdown",
      "metadata": {
        "id": "5anD537Y-N3u"
      },
      "source": [
        " ### Найдем среднюю прибыль, 95%-й доверительный интервал и риск убытков. Убытком считаем отрицательную прибыль"
      ]
    },
    {
      "cell_type": "markdown",
      "metadata": {
        "id": "Z2G3rbAC-N3u"
      },
      "source": [
        "**Найдем среднюю прибыль для каждого региона.**"
      ]
    },
    {
      "cell_type": "code",
      "execution_count": null,
      "metadata": {
        "id": "ACLmv6wN-N3v",
        "outputId": "590f6134-d325-45f8-ee77-4cca5efe5434"
      },
      "outputs": [
        {
          "data": {
            "text/plain": [
              "[448303912.549, 483358669.718, 287541286.707]"
            ]
          },
          "execution_count": 12,
          "metadata": {},
          "output_type": "execute_result"
        }
      ],
      "source": [
        "mean_income_regions_list = [] # список со средней прибылью для каждого региона\n",
        "for i in range(QTY_REGIONS):\n",
        "    mean_income_regions_list.append(income_distr_regions_list[i].mean())\n",
        "[round(income, 3) for income in mean_income_regions_list]"
      ]
    },
    {
      "cell_type": "markdown",
      "metadata": {
        "id": "QtDguSR6-N3v"
      },
      "source": [
        "**Найдем 95%-й доверительный интервал для каждого региона.**"
      ]
    },
    {
      "cell_type": "code",
      "execution_count": null,
      "metadata": {
        "id": "iAlwl5CR-N3v",
        "outputId": "339724d1-11a2-41c3-faba-9e0ba6e142ab"
      },
      "outputs": [
        {
          "data": {
            "text/plain": [
              "[[38299869.89290954, 870646603.9716089],\n",
              " [137247946.9561471, 825952489.5146211],\n",
              " [-143562731.02628756, 717096450.5824852]]"
            ]
          },
          "execution_count": 13,
          "metadata": {},
          "output_type": "execute_result"
        }
      ],
      "source": [
        "conf_intervals_regions_list = [] # список с 95% доверительным интервалом для каждого региона\n",
        "for i in range(QTY_REGIONS):\n",
        "    conf_intervals_regions_list.append(\n",
        "        [income_distr_regions_list[i].quantile(0.05), income_distr_regions_list[i].quantile(0.95)]\n",
        "    )\n",
        "conf_intervals_regions_list"
      ]
    },
    {
      "cell_type": "markdown",
      "metadata": {
        "id": "6H2QMGdP-N3v"
      },
      "source": [
        "**Найдем риск убытков для каждого региона.**"
      ]
    },
    {
      "cell_type": "code",
      "execution_count": null,
      "metadata": {
        "id": "erJweq1h-N3v",
        "outputId": "54fb6870-f608-4a6c-bf47-32db02cd0368"
      },
      "outputs": [
        {
          "data": {
            "text/plain": [
              "[0.035, 0.006, 0.14]"
            ]
          },
          "execution_count": 14,
          "metadata": {},
          "output_type": "execute_result"
        }
      ],
      "source": [
        "loss_prob_regions_list = [] # список с вероятностью убытков для каждого региона\n",
        "for i in range(QTY_REGIONS):\n",
        "    loss_prob_regions_list.append(\n",
        "        income_distr_regions_list[i][income_distr_regions_list[i] < 0].count() / income_distr_regions_list[i].count()\n",
        "    )\n",
        "loss_prob_regions_list"
      ]
    },
    {
      "cell_type": "markdown",
      "metadata": {
        "id": "jMSxfft0-N3v"
      },
      "source": [
        "**По условиям задачи после оценки рисков нужно оставить лишь те регионы, в которых вероятность убытков меньше 2.5%. Среди них выбирают регион с наибольшей средней прибылью.**"
      ]
    },
    {
      "cell_type": "code",
      "execution_count": null,
      "metadata": {
        "id": "QyEoA6ZM-N3w",
        "outputId": "f9f64070-293e-4dbe-d35c-fa945a3da235"
      },
      "outputs": [
        {
          "name": "stdout",
          "output_type": "stream",
          "text": [
            "Регионы, в которых вероятность убытков ниже 2.5%:\n",
            "2\n"
          ]
        }
      ],
      "source": [
        "print('Регионы, в которых вероятность убытков ниже 2.5%:')\n",
        "for i in range(QTY_REGIONS):\n",
        "    if loss_prob_regions_list[i] < 0.025:\n",
        "        print(i+1)"
      ]
    },
    {
      "cell_type": "markdown",
      "metadata": {
        "id": "711zj3jS-N3w"
      },
      "source": [
        " ### Выбор региона для разработки скважин и обоснование"
      ]
    },
    {
      "cell_type": "markdown",
      "metadata": {
        "id": "2N-Q-HZ0-N3w"
      },
      "source": [
        "**Cоответственно, можно сделать вывод о том, что подходящим под условия задачи является только регион №2, т.к. только там вероятность получить убытки ниже 2.5% и равна всего лишь 0.6%, а также самая высокая средняя прибыль.**"
      ]
    },
    {
      "cell_type": "markdown",
      "metadata": {
        "id": "_mNAG0tL-N3w"
      },
      "source": [
        "## Общий вывод"
      ]
    },
    {
      "cell_type": "markdown",
      "metadata": {
        "id": "yPtJDQgR-N3w"
      },
      "source": [
        "**Из трех регионов регион №2 (geo_data_1.csv) заметно отличается в части распределения данных, это было видно из п. 3.2 и из п. 1.3, где была обнаружена сильная корреляции между признаком f2 и целевым признаком product. По этой причине точность модели для данного региона была наивысшая (RMSE значение самое низшее), несмотря на тот факт, что средние  значения объемов в топ200 скважинах для данного региона оказались самыми низкими по сравнению с остальными регионами. Но по итогу мы видим, что более точное прогнозирование модели для данного региона сделало его лидером в данной задаче и только данный регион подошел по условиям исходной задачи, показав вероятность убытка ниже 2.5%.**"
      ]
    }
  ],
  "metadata": {
    "ExecuteTimeLog": [
      {
        "duration": 1080,
        "start_time": "2023-01-19T16:48:45.026Z"
      },
      {
        "duration": 920,
        "start_time": "2023-01-19T16:49:50.733Z"
      },
      {
        "duration": 6,
        "start_time": "2023-01-19T16:49:54.236Z"
      },
      {
        "duration": 143,
        "start_time": "2023-01-19T16:49:56.395Z"
      },
      {
        "duration": 167,
        "start_time": "2023-01-19T16:50:06.237Z"
      },
      {
        "duration": 69,
        "start_time": "2023-01-19T18:03:06.811Z"
      },
      {
        "duration": 601,
        "start_time": "2023-01-19T18:15:53.681Z"
      },
      {
        "duration": 409,
        "start_time": "2023-01-19T18:23:21.447Z"
      },
      {
        "duration": 70,
        "start_time": "2023-01-19T18:23:40.135Z"
      },
      {
        "duration": 69,
        "start_time": "2023-01-19T18:23:46.928Z"
      },
      {
        "duration": 54,
        "start_time": "2023-01-19T18:23:55.517Z"
      },
      {
        "duration": 18,
        "start_time": "2023-01-19T18:24:01.487Z"
      },
      {
        "duration": 47,
        "start_time": "2023-01-19T18:24:49.936Z"
      },
      {
        "duration": 410,
        "start_time": "2023-01-19T18:25:08.776Z"
      },
      {
        "duration": 418,
        "start_time": "2023-01-19T18:25:31.836Z"
      },
      {
        "duration": 406,
        "start_time": "2023-01-19T18:28:03.528Z"
      },
      {
        "duration": 400,
        "start_time": "2023-01-19T18:28:23.609Z"
      },
      {
        "duration": 429,
        "start_time": "2023-01-19T18:28:36.677Z"
      },
      {
        "duration": 453,
        "start_time": "2023-01-19T18:29:03.922Z"
      },
      {
        "duration": 412,
        "start_time": "2023-01-19T18:29:37.800Z"
      },
      {
        "duration": 503,
        "start_time": "2023-01-19T18:32:37.874Z"
      },
      {
        "duration": 545,
        "start_time": "2023-01-19T19:15:39.461Z"
      },
      {
        "duration": 496,
        "start_time": "2023-01-20T00:08:14.705Z"
      },
      {
        "duration": 6,
        "start_time": "2023-01-20T00:40:06.000Z"
      },
      {
        "duration": 8,
        "start_time": "2023-01-20T00:40:19.096Z"
      },
      {
        "duration": 10,
        "start_time": "2023-01-20T00:40:32.462Z"
      },
      {
        "duration": 134,
        "start_time": "2023-01-20T00:43:12.035Z"
      },
      {
        "duration": 859,
        "start_time": "2023-01-20T00:44:04.762Z"
      },
      {
        "duration": 1131,
        "start_time": "2023-01-20T00:45:01.760Z"
      },
      {
        "duration": 811,
        "start_time": "2023-01-20T00:45:25.826Z"
      },
      {
        "duration": 806,
        "start_time": "2023-01-20T00:46:04.973Z"
      },
      {
        "duration": 336,
        "start_time": "2023-01-20T00:46:33.763Z"
      },
      {
        "duration": 338,
        "start_time": "2023-01-20T00:46:40.752Z"
      },
      {
        "duration": 843,
        "start_time": "2023-01-20T00:46:49.382Z"
      },
      {
        "duration": 338,
        "start_time": "2023-01-20T00:47:14.319Z"
      },
      {
        "duration": 851,
        "start_time": "2023-01-20T00:47:39.727Z"
      },
      {
        "duration": 682,
        "start_time": "2023-01-20T00:47:56.964Z"
      },
      {
        "duration": 1208,
        "start_time": "2023-01-20T19:05:46.314Z"
      },
      {
        "duration": 3,
        "start_time": "2023-01-20T19:05:48.227Z"
      },
      {
        "duration": 1188,
        "start_time": "2023-01-20T19:05:50.710Z"
      },
      {
        "duration": 113,
        "start_time": "2023-01-20T19:05:56.387Z"
      },
      {
        "duration": 164,
        "start_time": "2023-01-20T19:06:45.999Z"
      },
      {
        "duration": 423,
        "start_time": "2023-01-20T19:06:57.662Z"
      },
      {
        "duration": 435,
        "start_time": "2023-01-20T19:07:06.198Z"
      },
      {
        "duration": 18,
        "start_time": "2023-01-20T19:13:50.678Z"
      },
      {
        "duration": 17,
        "start_time": "2023-01-20T19:14:40.779Z"
      },
      {
        "duration": 4,
        "start_time": "2023-01-20T19:18:35.488Z"
      },
      {
        "duration": 20,
        "start_time": "2023-01-20T19:22:14.776Z"
      },
      {
        "duration": 24,
        "start_time": "2023-01-20T19:25:38.167Z"
      },
      {
        "duration": 33,
        "start_time": "2023-01-20T19:26:15.228Z"
      },
      {
        "duration": 85,
        "start_time": "2023-01-20T19:26:44.730Z"
      },
      {
        "duration": 9,
        "start_time": "2023-01-20T19:32:58.483Z"
      },
      {
        "duration": 6,
        "start_time": "2023-01-20T19:33:10.955Z"
      },
      {
        "duration": 74,
        "start_time": "2023-01-20T19:34:45.054Z"
      },
      {
        "duration": 89,
        "start_time": "2023-01-20T19:34:57.693Z"
      },
      {
        "duration": 92,
        "start_time": "2023-01-20T19:35:14.778Z"
      },
      {
        "duration": 82,
        "start_time": "2023-01-20T19:35:40.893Z"
      },
      {
        "duration": 83,
        "start_time": "2023-01-20T19:35:57.478Z"
      },
      {
        "duration": 82,
        "start_time": "2023-01-20T19:38:45.491Z"
      },
      {
        "duration": 80,
        "start_time": "2023-01-20T19:39:32.623Z"
      },
      {
        "duration": 72,
        "start_time": "2023-01-20T19:39:46.595Z"
      },
      {
        "duration": 1072,
        "start_time": "2023-01-29T21:22:34.472Z"
      },
      {
        "duration": 1710,
        "start_time": "2023-01-29T21:22:35.546Z"
      },
      {
        "duration": 393,
        "start_time": "2023-01-29T21:22:37.258Z"
      },
      {
        "duration": 3,
        "start_time": "2023-01-29T21:22:37.653Z"
      },
      {
        "duration": 90,
        "start_time": "2023-01-29T21:22:41.494Z"
      },
      {
        "duration": 106,
        "start_time": "2023-01-29T21:25:33.821Z"
      },
      {
        "duration": 89,
        "start_time": "2023-01-29T21:27:39.955Z"
      },
      {
        "duration": 190,
        "start_time": "2023-01-29T21:43:11.436Z"
      },
      {
        "duration": 181,
        "start_time": "2023-01-29T21:43:16.745Z"
      },
      {
        "duration": 150,
        "start_time": "2023-01-29T22:12:53.474Z"
      },
      {
        "duration": 297,
        "start_time": "2023-01-29T22:15:32.889Z"
      },
      {
        "duration": 26,
        "start_time": "2023-01-29T22:16:25.196Z"
      },
      {
        "duration": 166,
        "start_time": "2023-01-29T22:16:36.969Z"
      },
      {
        "duration": 213,
        "start_time": "2023-01-29T22:18:15.811Z"
      },
      {
        "duration": 185,
        "start_time": "2023-01-29T22:18:26.144Z"
      },
      {
        "duration": 185,
        "start_time": "2023-01-29T22:19:46.544Z"
      },
      {
        "duration": 145,
        "start_time": "2023-01-29T22:19:54.179Z"
      },
      {
        "duration": 1093,
        "start_time": "2023-01-30T16:20:50.608Z"
      },
      {
        "duration": 1778,
        "start_time": "2023-01-30T16:20:53.089Z"
      },
      {
        "duration": 399,
        "start_time": "2023-01-30T16:21:04.551Z"
      },
      {
        "duration": 98,
        "start_time": "2023-01-30T16:21:08.536Z"
      },
      {
        "duration": 414,
        "start_time": "2023-01-30T16:21:12.980Z"
      },
      {
        "duration": 102,
        "start_time": "2023-01-30T17:01:19.739Z"
      },
      {
        "duration": 5,
        "start_time": "2023-01-30T17:01:23.154Z"
      },
      {
        "duration": 5,
        "start_time": "2023-01-30T17:01:24.692Z"
      },
      {
        "duration": 4,
        "start_time": "2023-01-30T17:11:46.240Z"
      },
      {
        "duration": 3,
        "start_time": "2023-01-30T17:11:57.650Z"
      },
      {
        "duration": 3,
        "start_time": "2023-01-30T17:12:03.705Z"
      },
      {
        "duration": 4,
        "start_time": "2023-01-30T17:15:01.413Z"
      },
      {
        "duration": 3,
        "start_time": "2023-01-30T17:18:06.673Z"
      },
      {
        "duration": 3,
        "start_time": "2023-01-30T17:21:33.225Z"
      },
      {
        "duration": 4,
        "start_time": "2023-01-30T17:21:47.144Z"
      },
      {
        "duration": 3,
        "start_time": "2023-01-30T17:25:51.514Z"
      },
      {
        "duration": 215,
        "start_time": "2023-01-30T17:36:00.579Z"
      },
      {
        "duration": 34,
        "start_time": "2023-01-30T17:39:32.065Z"
      },
      {
        "duration": 5,
        "start_time": "2023-01-30T17:39:39.747Z"
      },
      {
        "duration": 6,
        "start_time": "2023-01-30T17:40:07.856Z"
      },
      {
        "duration": 770,
        "start_time": "2023-01-30T17:57:43.742Z"
      },
      {
        "duration": 243,
        "start_time": "2023-01-30T17:58:49.930Z"
      },
      {
        "duration": 211,
        "start_time": "2023-01-30T17:59:14.319Z"
      },
      {
        "duration": 281,
        "start_time": "2023-01-30T17:59:20.318Z"
      },
      {
        "duration": 268,
        "start_time": "2023-01-30T17:59:28.784Z"
      },
      {
        "duration": 336,
        "start_time": "2023-01-30T18:02:46.342Z"
      },
      {
        "duration": 312,
        "start_time": "2023-01-30T18:02:52.530Z"
      },
      {
        "duration": 304,
        "start_time": "2023-01-30T18:02:57.241Z"
      },
      {
        "duration": 326,
        "start_time": "2023-01-30T18:03:06.250Z"
      },
      {
        "duration": 385,
        "start_time": "2023-01-30T18:03:11.838Z"
      },
      {
        "duration": 292,
        "start_time": "2023-01-30T18:03:18.247Z"
      },
      {
        "duration": 429,
        "start_time": "2023-01-30T18:03:35.943Z"
      },
      {
        "duration": 368,
        "start_time": "2023-01-30T18:04:30.049Z"
      },
      {
        "duration": 3,
        "start_time": "2023-01-30T18:05:58.777Z"
      },
      {
        "duration": 659,
        "start_time": "2023-01-30T18:07:18.826Z"
      },
      {
        "duration": 614,
        "start_time": "2023-01-30T18:08:00.408Z"
      },
      {
        "duration": 616,
        "start_time": "2023-01-30T18:08:09.865Z"
      },
      {
        "duration": 799,
        "start_time": "2023-01-30T18:09:25.522Z"
      },
      {
        "duration": 629,
        "start_time": "2023-01-30T18:09:51.919Z"
      },
      {
        "duration": 287,
        "start_time": "2023-01-30T18:10:49.211Z"
      },
      {
        "duration": 715,
        "start_time": "2023-01-30T18:11:37.950Z"
      },
      {
        "duration": 51,
        "start_time": "2023-01-30T18:12:26.155Z"
      },
      {
        "duration": 584,
        "start_time": "2023-01-30T18:12:42.137Z"
      },
      {
        "duration": 567,
        "start_time": "2023-01-30T18:13:38.226Z"
      },
      {
        "duration": 676,
        "start_time": "2023-01-30T18:13:51.649Z"
      },
      {
        "duration": 92,
        "start_time": "2023-01-30T18:16:20.719Z"
      },
      {
        "duration": 77,
        "start_time": "2023-01-30T18:16:33.733Z"
      },
      {
        "duration": 196,
        "start_time": "2023-01-30T18:16:42.009Z"
      },
      {
        "duration": 229,
        "start_time": "2023-01-30T18:16:58.962Z"
      },
      {
        "duration": 111,
        "start_time": "2023-01-30T18:29:53.286Z"
      },
      {
        "duration": 40,
        "start_time": "2023-01-30T18:30:04.461Z"
      },
      {
        "duration": 631,
        "start_time": "2023-01-30T18:30:57.141Z"
      },
      {
        "duration": 646,
        "start_time": "2023-01-30T18:31:28.409Z"
      },
      {
        "duration": 128,
        "start_time": "2023-01-30T18:32:51.267Z"
      },
      {
        "duration": 3,
        "start_time": "2023-01-30T20:09:43.773Z"
      },
      {
        "duration": 4,
        "start_time": "2023-01-30T20:13:34.507Z"
      },
      {
        "duration": 6,
        "start_time": "2023-01-30T20:13:52.306Z"
      },
      {
        "duration": 7,
        "start_time": "2023-01-30T20:14:15.578Z"
      },
      {
        "duration": 7,
        "start_time": "2023-01-30T20:14:27.919Z"
      },
      {
        "duration": 9,
        "start_time": "2023-01-30T20:15:03.410Z"
      },
      {
        "duration": 6,
        "start_time": "2023-01-30T20:15:11.623Z"
      },
      {
        "duration": 5,
        "start_time": "2023-01-30T20:15:55.331Z"
      },
      {
        "duration": 6,
        "start_time": "2023-01-30T20:16:04.427Z"
      },
      {
        "duration": 9,
        "start_time": "2023-01-30T20:16:38.112Z"
      },
      {
        "duration": 4,
        "start_time": "2023-01-30T20:23:02.541Z"
      },
      {
        "duration": 13,
        "start_time": "2023-01-30T20:36:13.056Z"
      },
      {
        "duration": 20,
        "start_time": "2023-01-30T20:36:23.041Z"
      },
      {
        "duration": 14,
        "start_time": "2023-01-30T20:36:45.683Z"
      },
      {
        "duration": 11,
        "start_time": "2023-01-30T20:37:37.895Z"
      },
      {
        "duration": 6,
        "start_time": "2023-01-30T20:37:45.749Z"
      },
      {
        "duration": 6,
        "start_time": "2023-01-30T20:38:00.453Z"
      },
      {
        "duration": 12,
        "start_time": "2023-01-30T20:38:20.745Z"
      },
      {
        "duration": 6,
        "start_time": "2023-01-30T20:38:33.648Z"
      },
      {
        "duration": 7,
        "start_time": "2023-01-30T20:38:47.273Z"
      },
      {
        "duration": 14,
        "start_time": "2023-01-30T20:38:58.912Z"
      },
      {
        "duration": 11,
        "start_time": "2023-01-30T20:39:31.182Z"
      },
      {
        "duration": 14,
        "start_time": "2023-01-30T20:39:40.519Z"
      },
      {
        "duration": 16,
        "start_time": "2023-01-30T20:41:40.052Z"
      },
      {
        "duration": 1563,
        "start_time": "2023-01-31T12:50:43.300Z"
      },
      {
        "duration": 1302,
        "start_time": "2023-01-31T12:50:44.866Z"
      },
      {
        "duration": 444,
        "start_time": "2023-01-31T12:50:46.170Z"
      },
      {
        "duration": 134,
        "start_time": "2023-01-31T12:50:46.616Z"
      },
      {
        "duration": 192,
        "start_time": "2023-01-31T12:50:46.751Z"
      },
      {
        "duration": 87,
        "start_time": "2023-01-31T12:50:46.945Z"
      },
      {
        "duration": 713,
        "start_time": "2023-01-31T12:50:47.034Z"
      },
      {
        "duration": 83,
        "start_time": "2023-01-31T12:51:03.468Z"
      },
      {
        "duration": 12,
        "start_time": "2023-01-31T12:51:33.089Z"
      },
      {
        "duration": 15,
        "start_time": "2023-01-31T12:51:46.091Z"
      },
      {
        "duration": 26,
        "start_time": "2023-01-31T15:57:52.744Z"
      },
      {
        "duration": 128,
        "start_time": "2023-01-31T16:13:17.771Z"
      },
      {
        "duration": 23,
        "start_time": "2023-01-31T16:13:37.813Z"
      },
      {
        "duration": 10,
        "start_time": "2023-01-31T16:52:10.975Z"
      },
      {
        "duration": 4,
        "start_time": "2023-01-31T16:52:18.608Z"
      },
      {
        "duration": 13,
        "start_time": "2023-01-31T16:52:23.154Z"
      },
      {
        "duration": 26,
        "start_time": "2023-01-31T16:54:00.993Z"
      },
      {
        "duration": 12,
        "start_time": "2023-01-31T16:54:51.851Z"
      },
      {
        "duration": 899,
        "start_time": "2023-01-31T17:51:51.438Z"
      },
      {
        "duration": 2659,
        "start_time": "2023-01-31T17:52:03.637Z"
      },
      {
        "duration": 2931,
        "start_time": "2023-01-31T17:52:49.131Z"
      },
      {
        "duration": 7,
        "start_time": "2023-01-31T18:05:30.231Z"
      },
      {
        "duration": 2786,
        "start_time": "2023-01-31T18:06:21.644Z"
      },
      {
        "duration": 2662,
        "start_time": "2023-01-31T18:06:27.623Z"
      },
      {
        "duration": 5,
        "start_time": "2023-01-31T18:06:55.926Z"
      },
      {
        "duration": 9,
        "start_time": "2023-01-31T18:16:20.248Z"
      },
      {
        "duration": 80,
        "start_time": "2023-01-31T18:17:55.287Z"
      },
      {
        "duration": 9,
        "start_time": "2023-01-31T18:18:46.687Z"
      },
      {
        "duration": 11,
        "start_time": "2023-01-31T18:29:16.501Z"
      },
      {
        "duration": 2687,
        "start_time": "2023-01-31T18:29:22.542Z"
      },
      {
        "duration": 6,
        "start_time": "2023-01-31T18:29:32.000Z"
      },
      {
        "duration": 8,
        "start_time": "2023-01-31T18:29:39.766Z"
      },
      {
        "duration": 4,
        "start_time": "2023-01-31T18:30:05.301Z"
      },
      {
        "duration": 639,
        "start_time": "2023-01-31T18:30:05.311Z"
      },
      {
        "duration": 361,
        "start_time": "2023-01-31T18:30:05.951Z"
      },
      {
        "duration": 131,
        "start_time": "2023-01-31T18:30:06.314Z"
      },
      {
        "duration": 284,
        "start_time": "2023-01-31T18:30:06.447Z"
      },
      {
        "duration": 96,
        "start_time": "2023-01-31T18:30:06.733Z"
      },
      {
        "duration": 644,
        "start_time": "2023-01-31T18:30:06.835Z"
      },
      {
        "duration": 24,
        "start_time": "2023-01-31T18:30:07.481Z"
      },
      {
        "duration": 36,
        "start_time": "2023-01-31T18:30:07.507Z"
      },
      {
        "duration": 2928,
        "start_time": "2023-01-31T18:30:08.795Z"
      },
      {
        "duration": 5,
        "start_time": "2023-01-31T18:30:15.548Z"
      },
      {
        "duration": 5,
        "start_time": "2023-01-31T18:31:24.361Z"
      },
      {
        "duration": 9,
        "start_time": "2023-01-31T18:31:26.294Z"
      },
      {
        "duration": 8,
        "start_time": "2023-01-31T18:38:45.428Z"
      },
      {
        "duration": 10,
        "start_time": "2023-01-31T18:46:37.811Z"
      },
      {
        "duration": 3,
        "start_time": "2023-01-31T18:46:47.386Z"
      },
      {
        "duration": 53,
        "start_time": "2023-02-01T18:28:31.764Z"
      },
      {
        "duration": 1703,
        "start_time": "2023-02-01T18:28:37.319Z"
      },
      {
        "duration": 1834,
        "start_time": "2023-02-01T18:28:39.025Z"
      },
      {
        "duration": 382,
        "start_time": "2023-02-01T18:28:40.861Z"
      },
      {
        "duration": 109,
        "start_time": "2023-02-01T18:28:41.246Z"
      },
      {
        "duration": 183,
        "start_time": "2023-02-01T18:28:41.358Z"
      },
      {
        "duration": 4,
        "start_time": "2023-02-01T18:28:41.543Z"
      },
      {
        "duration": 795,
        "start_time": "2023-02-01T18:28:41.550Z"
      },
      {
        "duration": 33,
        "start_time": "2023-02-01T18:28:42.347Z"
      },
      {
        "duration": 8,
        "start_time": "2023-02-01T18:28:42.383Z"
      },
      {
        "duration": 26,
        "start_time": "2023-02-01T18:28:42.393Z"
      },
      {
        "duration": 2867,
        "start_time": "2023-02-01T18:28:42.421Z"
      },
      {
        "duration": 6,
        "start_time": "2023-02-01T18:28:45.290Z"
      },
      {
        "duration": 16,
        "start_time": "2023-02-01T18:28:45.298Z"
      },
      {
        "duration": 25,
        "start_time": "2023-02-01T18:28:45.317Z"
      },
      {
        "duration": 7,
        "start_time": "2023-02-01T18:28:45.344Z"
      }
    ],
    "kernelspec": {
      "display_name": "Python 3 (ipykernel)",
      "language": "python",
      "name": "python3"
    },
    "language_info": {
      "codemirror_mode": {
        "name": "ipython",
        "version": 3
      },
      "file_extension": ".py",
      "mimetype": "text/x-python",
      "name": "python",
      "nbconvert_exporter": "python",
      "pygments_lexer": "ipython3",
      "version": "3.9.5"
    },
    "toc": {
      "base_numbering": 1,
      "nav_menu": {},
      "number_sections": true,
      "sideBar": true,
      "skip_h1_title": true,
      "title_cell": "Table of Contents",
      "title_sidebar": "Contents",
      "toc_cell": false,
      "toc_position": {},
      "toc_section_display": true,
      "toc_window_display": false
    },
    "colab": {
      "provenance": []
    }
  },
  "nbformat": 4,
  "nbformat_minor": 0
}