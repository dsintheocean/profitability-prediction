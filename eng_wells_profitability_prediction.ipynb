{
  "cells": [
    {
      "cell_type": "markdown",
      "metadata": {
        "id": "6tZ9GXhGIYqr"
      },
      "source": [
        "# Selecting a location for a oil well"
      ]
    },
    {
      "cell_type": "markdown",
      "metadata": {
        "id": "A8ympxP4IYqt"
      },
      "source": [
        "The mining company needs to decide where to drill a new well.\n",
        "\n",
        "Oil samples were provided in three regions: in each 10,000 fields, where the quality of oil and the volume of its reserves were measured.\n",
        "The task is to build a machine learning model that will help determine the region where mining will bring the greatest profit.\n",
        "It is necessary to analyze the possible profits and risks of the *Bootstrap.* technique\n",
        "\n",
        "Steps to select a location:\n",
        "- We are looking for deposits in the selected region, and for each we determine the characteristic values;\n",
        "- We build a model and estimate the volume of reserves;\n",
        "- We select deposits with the highest estimated values. The number of fields depends on the company’s budget and the cost of developing one well;\n",
        "- Profit is equal to the total profit of the selected fields."
      ]
    },
    {
      "cell_type": "markdown",
      "metadata": {
        "id": "qbU866rVIYqu"
      },
      "source": [
        "## Loading and preparing data"
      ]
    },
    {
      "cell_type": "markdown",
      "metadata": {
        "id": "siJyldJJIYqu"
      },
      "source": [
        "### Introduction"
      ]
    },
    {
      "cell_type": "markdown",
      "metadata": {
        "id": "-h7hu4ZTIYqu"
      },
      "source": [
        "**Geological exploration data for three regions is in the files:**\n",
        "\n",
        "- geo_data_0.csv\n",
        "- geo_data_1.csv\n",
        "- geo_data_2.csv\n",
        "\n",
        "**id - unique well identifier;**\n",
        "\n",
        "**f0, f1, f2 - three signs of points (it doesn’t matter what they mean, but the signs themselves are significant);**\n",
        "\n",
        "**product - volume of reserves in the well (thousand barrels) - target attribute.**\n",
        "\n",
        "**Conditions of the problem:**\n",
        "Only linear regression is suitable for training the model (the others are not predictable enough).\n",
        "When exploring a region, 500 points are examined, from which, using machine learning, the best 200 are selected for development.\n",
        "The budget for well development in the region is 10 billion rubles.\n",
        "At current prices, one barrel of raw materials brings 450 rubles in income. The income from each unit of product is 450 thousand rubles, since the volume is indicated in thousands of barrels.\n",
        "After assessing the risks, you need to leave only those regions in which the probability of losses is less than 2.5%. Among them, the region with the highest average profit is selected.\n",
        "The data is synthetic: details of contracts and characteristics of the fields are not disclosed."
      ]
    },
    {
      "cell_type": "markdown",
      "metadata": {
        "id": "DUVYWPXgIYqu"
      },
      "source": [
        "### We will prepare the libraries necessary for the work"
      ]
    },
    {
      "cell_type": "code",
      "execution_count": 1,
      "metadata": {
        "id": "jL4135izIYqv"
      },
      "outputs": [],
      "source": [
        "import pandas as pd\n",
        "import numpy as np\n",
        "import matplotlib.pyplot as plt\n",
        "\n",
        "from sklearn.linear_model import LinearRegression\n",
        "\n",
        "from sklearn.model_selection import train_test_split\n",
        "from sklearn.preprocessing import StandardScaler\n",
        "\n",
        "from sklearn.metrics import mean_squared_error\n",
        "\n",
        "from google.colab import drive"
      ]
    },
    {
      "cell_type": "markdown",
      "metadata": {
        "id": "I0SybFmpIYqw"
      },
      "source": [
        "### Let's study the data inside the dataframe and do the necessary preprocessing"
      ]
    },
    {
      "cell_type": "code",
      "execution_count": 4,
      "metadata": {
        "scrolled": false,
        "id": "tkjqyIdmIYqw",
        "outputId": "fdaedb47-fee0-4702-b1b4-07268bb3c928",
        "colab": {
          "base_uri": "https://localhost:8080/",
          "height": 1000
        }
      },
      "outputs": [
        {
          "output_type": "stream",
          "name": "stdout",
          "text": [
            "Drive already mounted at /content/drive; to attempt to forcibly remount, call drive.mount(\"/content/drive\", force_remount=True).\n",
            "/content/drive/My Drive/projects/oil_wells_profitability_prediction/geo_data_0.csv\n"
          ]
        },
        {
          "output_type": "display_data",
          "data": {
            "text/plain": [
              "      id        f0        f1        f2     product\n",
              "0  txEyH  0.705745 -0.497823  1.221170  105.280062\n",
              "1  2acmU  1.334711 -0.340164  4.365080   73.037750\n",
              "2  409Wp  1.022732  0.151990  1.419926   85.265647\n",
              "3  iJLyR -0.032172  0.139033  2.978566  168.620776\n",
              "4  Xdl7t  1.988431  0.155413  4.751769  154.036647"
            ],
            "text/html": [
              "\n",
              "  <div id=\"df-9627d28a-e350-44ab-8d0d-366c014b1afa\" class=\"colab-df-container\">\n",
              "    <div>\n",
              "<style scoped>\n",
              "    .dataframe tbody tr th:only-of-type {\n",
              "        vertical-align: middle;\n",
              "    }\n",
              "\n",
              "    .dataframe tbody tr th {\n",
              "        vertical-align: top;\n",
              "    }\n",
              "\n",
              "    .dataframe thead th {\n",
              "        text-align: right;\n",
              "    }\n",
              "</style>\n",
              "<table border=\"1\" class=\"dataframe\">\n",
              "  <thead>\n",
              "    <tr style=\"text-align: right;\">\n",
              "      <th></th>\n",
              "      <th>id</th>\n",
              "      <th>f0</th>\n",
              "      <th>f1</th>\n",
              "      <th>f2</th>\n",
              "      <th>product</th>\n",
              "    </tr>\n",
              "  </thead>\n",
              "  <tbody>\n",
              "    <tr>\n",
              "      <th>0</th>\n",
              "      <td>txEyH</td>\n",
              "      <td>0.705745</td>\n",
              "      <td>-0.497823</td>\n",
              "      <td>1.221170</td>\n",
              "      <td>105.280062</td>\n",
              "    </tr>\n",
              "    <tr>\n",
              "      <th>1</th>\n",
              "      <td>2acmU</td>\n",
              "      <td>1.334711</td>\n",
              "      <td>-0.340164</td>\n",
              "      <td>4.365080</td>\n",
              "      <td>73.037750</td>\n",
              "    </tr>\n",
              "    <tr>\n",
              "      <th>2</th>\n",
              "      <td>409Wp</td>\n",
              "      <td>1.022732</td>\n",
              "      <td>0.151990</td>\n",
              "      <td>1.419926</td>\n",
              "      <td>85.265647</td>\n",
              "    </tr>\n",
              "    <tr>\n",
              "      <th>3</th>\n",
              "      <td>iJLyR</td>\n",
              "      <td>-0.032172</td>\n",
              "      <td>0.139033</td>\n",
              "      <td>2.978566</td>\n",
              "      <td>168.620776</td>\n",
              "    </tr>\n",
              "    <tr>\n",
              "      <th>4</th>\n",
              "      <td>Xdl7t</td>\n",
              "      <td>1.988431</td>\n",
              "      <td>0.155413</td>\n",
              "      <td>4.751769</td>\n",
              "      <td>154.036647</td>\n",
              "    </tr>\n",
              "  </tbody>\n",
              "</table>\n",
              "</div>\n",
              "    <div class=\"colab-df-buttons\">\n",
              "\n",
              "  <div class=\"colab-df-container\">\n",
              "    <button class=\"colab-df-convert\" onclick=\"convertToInteractive('df-9627d28a-e350-44ab-8d0d-366c014b1afa')\"\n",
              "            title=\"Convert this dataframe to an interactive table.\"\n",
              "            style=\"display:none;\">\n",
              "\n",
              "  <svg xmlns=\"http://www.w3.org/2000/svg\" height=\"24px\" viewBox=\"0 -960 960 960\">\n",
              "    <path d=\"M120-120v-720h720v720H120Zm60-500h600v-160H180v160Zm220 220h160v-160H400v160Zm0 220h160v-160H400v160ZM180-400h160v-160H180v160Zm440 0h160v-160H620v160ZM180-180h160v-160H180v160Zm440 0h160v-160H620v160Z\"/>\n",
              "  </svg>\n",
              "    </button>\n",
              "\n",
              "  <style>\n",
              "    .colab-df-container {\n",
              "      display:flex;\n",
              "      gap: 12px;\n",
              "    }\n",
              "\n",
              "    .colab-df-convert {\n",
              "      background-color: #E8F0FE;\n",
              "      border: none;\n",
              "      border-radius: 50%;\n",
              "      cursor: pointer;\n",
              "      display: none;\n",
              "      fill: #1967D2;\n",
              "      height: 32px;\n",
              "      padding: 0 0 0 0;\n",
              "      width: 32px;\n",
              "    }\n",
              "\n",
              "    .colab-df-convert:hover {\n",
              "      background-color: #E2EBFA;\n",
              "      box-shadow: 0px 1px 2px rgba(60, 64, 67, 0.3), 0px 1px 3px 1px rgba(60, 64, 67, 0.15);\n",
              "      fill: #174EA6;\n",
              "    }\n",
              "\n",
              "    .colab-df-buttons div {\n",
              "      margin-bottom: 4px;\n",
              "    }\n",
              "\n",
              "    [theme=dark] .colab-df-convert {\n",
              "      background-color: #3B4455;\n",
              "      fill: #D2E3FC;\n",
              "    }\n",
              "\n",
              "    [theme=dark] .colab-df-convert:hover {\n",
              "      background-color: #434B5C;\n",
              "      box-shadow: 0px 1px 3px 1px rgba(0, 0, 0, 0.15);\n",
              "      filter: drop-shadow(0px 1px 2px rgba(0, 0, 0, 0.3));\n",
              "      fill: #FFFFFF;\n",
              "    }\n",
              "  </style>\n",
              "\n",
              "    <script>\n",
              "      const buttonEl =\n",
              "        document.querySelector('#df-9627d28a-e350-44ab-8d0d-366c014b1afa button.colab-df-convert');\n",
              "      buttonEl.style.display =\n",
              "        google.colab.kernel.accessAllowed ? 'block' : 'none';\n",
              "\n",
              "      async function convertToInteractive(key) {\n",
              "        const element = document.querySelector('#df-9627d28a-e350-44ab-8d0d-366c014b1afa');\n",
              "        const dataTable =\n",
              "          await google.colab.kernel.invokeFunction('convertToInteractive',\n",
              "                                                    [key], {});\n",
              "        if (!dataTable) return;\n",
              "\n",
              "        const docLinkHtml = 'Like what you see? Visit the ' +\n",
              "          '<a target=\"_blank\" href=https://colab.research.google.com/notebooks/data_table.ipynb>data table notebook</a>'\n",
              "          + ' to learn more about interactive tables.';\n",
              "        element.innerHTML = '';\n",
              "        dataTable['output_type'] = 'display_data';\n",
              "        await google.colab.output.renderOutput(dataTable, element);\n",
              "        const docLink = document.createElement('div');\n",
              "        docLink.innerHTML = docLinkHtml;\n",
              "        element.appendChild(docLink);\n",
              "      }\n",
              "    </script>\n",
              "  </div>\n",
              "\n",
              "\n",
              "<div id=\"df-3e01755d-f6d7-4ca1-a7cc-3689ef335ce3\">\n",
              "  <button class=\"colab-df-quickchart\" onclick=\"quickchart('df-3e01755d-f6d7-4ca1-a7cc-3689ef335ce3')\"\n",
              "            title=\"Suggest charts.\"\n",
              "            style=\"display:none;\">\n",
              "\n",
              "<svg xmlns=\"http://www.w3.org/2000/svg\" height=\"24px\"viewBox=\"0 0 24 24\"\n",
              "     width=\"24px\">\n",
              "    <g>\n",
              "        <path d=\"M19 3H5c-1.1 0-2 .9-2 2v14c0 1.1.9 2 2 2h14c1.1 0 2-.9 2-2V5c0-1.1-.9-2-2-2zM9 17H7v-7h2v7zm4 0h-2V7h2v10zm4 0h-2v-4h2v4z\"/>\n",
              "    </g>\n",
              "</svg>\n",
              "  </button>\n",
              "\n",
              "<style>\n",
              "  .colab-df-quickchart {\n",
              "      --bg-color: #E8F0FE;\n",
              "      --fill-color: #1967D2;\n",
              "      --hover-bg-color: #E2EBFA;\n",
              "      --hover-fill-color: #174EA6;\n",
              "      --disabled-fill-color: #AAA;\n",
              "      --disabled-bg-color: #DDD;\n",
              "  }\n",
              "\n",
              "  [theme=dark] .colab-df-quickchart {\n",
              "      --bg-color: #3B4455;\n",
              "      --fill-color: #D2E3FC;\n",
              "      --hover-bg-color: #434B5C;\n",
              "      --hover-fill-color: #FFFFFF;\n",
              "      --disabled-bg-color: #3B4455;\n",
              "      --disabled-fill-color: #666;\n",
              "  }\n",
              "\n",
              "  .colab-df-quickchart {\n",
              "    background-color: var(--bg-color);\n",
              "    border: none;\n",
              "    border-radius: 50%;\n",
              "    cursor: pointer;\n",
              "    display: none;\n",
              "    fill: var(--fill-color);\n",
              "    height: 32px;\n",
              "    padding: 0;\n",
              "    width: 32px;\n",
              "  }\n",
              "\n",
              "  .colab-df-quickchart:hover {\n",
              "    background-color: var(--hover-bg-color);\n",
              "    box-shadow: 0 1px 2px rgba(60, 64, 67, 0.3), 0 1px 3px 1px rgba(60, 64, 67, 0.15);\n",
              "    fill: var(--button-hover-fill-color);\n",
              "  }\n",
              "\n",
              "  .colab-df-quickchart-complete:disabled,\n",
              "  .colab-df-quickchart-complete:disabled:hover {\n",
              "    background-color: var(--disabled-bg-color);\n",
              "    fill: var(--disabled-fill-color);\n",
              "    box-shadow: none;\n",
              "  }\n",
              "\n",
              "  .colab-df-spinner {\n",
              "    border: 2px solid var(--fill-color);\n",
              "    border-color: transparent;\n",
              "    border-bottom-color: var(--fill-color);\n",
              "    animation:\n",
              "      spin 1s steps(1) infinite;\n",
              "  }\n",
              "\n",
              "  @keyframes spin {\n",
              "    0% {\n",
              "      border-color: transparent;\n",
              "      border-bottom-color: var(--fill-color);\n",
              "      border-left-color: var(--fill-color);\n",
              "    }\n",
              "    20% {\n",
              "      border-color: transparent;\n",
              "      border-left-color: var(--fill-color);\n",
              "      border-top-color: var(--fill-color);\n",
              "    }\n",
              "    30% {\n",
              "      border-color: transparent;\n",
              "      border-left-color: var(--fill-color);\n",
              "      border-top-color: var(--fill-color);\n",
              "      border-right-color: var(--fill-color);\n",
              "    }\n",
              "    40% {\n",
              "      border-color: transparent;\n",
              "      border-right-color: var(--fill-color);\n",
              "      border-top-color: var(--fill-color);\n",
              "    }\n",
              "    60% {\n",
              "      border-color: transparent;\n",
              "      border-right-color: var(--fill-color);\n",
              "    }\n",
              "    80% {\n",
              "      border-color: transparent;\n",
              "      border-right-color: var(--fill-color);\n",
              "      border-bottom-color: var(--fill-color);\n",
              "    }\n",
              "    90% {\n",
              "      border-color: transparent;\n",
              "      border-bottom-color: var(--fill-color);\n",
              "    }\n",
              "  }\n",
              "</style>\n",
              "\n",
              "  <script>\n",
              "    async function quickchart(key) {\n",
              "      const quickchartButtonEl =\n",
              "        document.querySelector('#' + key + ' button');\n",
              "      quickchartButtonEl.disabled = true;  // To prevent multiple clicks.\n",
              "      quickchartButtonEl.classList.add('colab-df-spinner');\n",
              "      try {\n",
              "        const charts = await google.colab.kernel.invokeFunction(\n",
              "            'suggestCharts', [key], {});\n",
              "      } catch (error) {\n",
              "        console.error('Error during call to suggestCharts:', error);\n",
              "      }\n",
              "      quickchartButtonEl.classList.remove('colab-df-spinner');\n",
              "      quickchartButtonEl.classList.add('colab-df-quickchart-complete');\n",
              "    }\n",
              "    (() => {\n",
              "      let quickchartButtonEl =\n",
              "        document.querySelector('#df-3e01755d-f6d7-4ca1-a7cc-3689ef335ce3 button');\n",
              "      quickchartButtonEl.style.display =\n",
              "        google.colab.kernel.accessAllowed ? 'block' : 'none';\n",
              "    })();\n",
              "  </script>\n",
              "</div>\n",
              "    </div>\n",
              "  </div>\n"
            ]
          },
          "metadata": {}
        },
        {
          "output_type": "stream",
          "name": "stdout",
          "text": [
            "<class 'pandas.core.frame.DataFrame'>\n",
            "RangeIndex: 100000 entries, 0 to 99999\n",
            "Data columns (total 5 columns):\n",
            " #   Column   Non-Null Count   Dtype  \n",
            "---  ------   --------------   -----  \n",
            " 0   id       100000 non-null  object \n",
            " 1   f0       100000 non-null  float64\n",
            " 2   f1       100000 non-null  float64\n",
            " 3   f2       100000 non-null  float64\n",
            " 4   product  100000 non-null  float64\n",
            "dtypes: float64(4), object(1)\n",
            "memory usage: 3.8+ MB\n"
          ]
        },
        {
          "output_type": "display_data",
          "data": {
            "text/plain": [
              "None"
            ]
          },
          "metadata": {}
        },
        {
          "output_type": "display_data",
          "data": {
            "text/plain": [
              "                  f0             f1             f2        product\n",
              "count  100000.000000  100000.000000  100000.000000  100000.000000\n",
              "mean        0.500419       0.250143       2.502647      92.500000\n",
              "std         0.871832       0.504433       3.248248      44.288691\n",
              "min        -1.408605      -0.848218     -12.088328       0.000000\n",
              "25%        -0.072580      -0.200881       0.287748      56.497507\n",
              "50%         0.502360       0.250252       2.515969      91.849972\n",
              "75%         1.073581       0.700646       4.715088     128.564089\n",
              "max         2.362331       1.343769      16.003790     185.364347"
            ],
            "text/html": [
              "\n",
              "  <div id=\"df-ff1054bb-855c-4245-a86c-676727e817f9\" class=\"colab-df-container\">\n",
              "    <div>\n",
              "<style scoped>\n",
              "    .dataframe tbody tr th:only-of-type {\n",
              "        vertical-align: middle;\n",
              "    }\n",
              "\n",
              "    .dataframe tbody tr th {\n",
              "        vertical-align: top;\n",
              "    }\n",
              "\n",
              "    .dataframe thead th {\n",
              "        text-align: right;\n",
              "    }\n",
              "</style>\n",
              "<table border=\"1\" class=\"dataframe\">\n",
              "  <thead>\n",
              "    <tr style=\"text-align: right;\">\n",
              "      <th></th>\n",
              "      <th>f0</th>\n",
              "      <th>f1</th>\n",
              "      <th>f2</th>\n",
              "      <th>product</th>\n",
              "    </tr>\n",
              "  </thead>\n",
              "  <tbody>\n",
              "    <tr>\n",
              "      <th>count</th>\n",
              "      <td>100000.000000</td>\n",
              "      <td>100000.000000</td>\n",
              "      <td>100000.000000</td>\n",
              "      <td>100000.000000</td>\n",
              "    </tr>\n",
              "    <tr>\n",
              "      <th>mean</th>\n",
              "      <td>0.500419</td>\n",
              "      <td>0.250143</td>\n",
              "      <td>2.502647</td>\n",
              "      <td>92.500000</td>\n",
              "    </tr>\n",
              "    <tr>\n",
              "      <th>std</th>\n",
              "      <td>0.871832</td>\n",
              "      <td>0.504433</td>\n",
              "      <td>3.248248</td>\n",
              "      <td>44.288691</td>\n",
              "    </tr>\n",
              "    <tr>\n",
              "      <th>min</th>\n",
              "      <td>-1.408605</td>\n",
              "      <td>-0.848218</td>\n",
              "      <td>-12.088328</td>\n",
              "      <td>0.000000</td>\n",
              "    </tr>\n",
              "    <tr>\n",
              "      <th>25%</th>\n",
              "      <td>-0.072580</td>\n",
              "      <td>-0.200881</td>\n",
              "      <td>0.287748</td>\n",
              "      <td>56.497507</td>\n",
              "    </tr>\n",
              "    <tr>\n",
              "      <th>50%</th>\n",
              "      <td>0.502360</td>\n",
              "      <td>0.250252</td>\n",
              "      <td>2.515969</td>\n",
              "      <td>91.849972</td>\n",
              "    </tr>\n",
              "    <tr>\n",
              "      <th>75%</th>\n",
              "      <td>1.073581</td>\n",
              "      <td>0.700646</td>\n",
              "      <td>4.715088</td>\n",
              "      <td>128.564089</td>\n",
              "    </tr>\n",
              "    <tr>\n",
              "      <th>max</th>\n",
              "      <td>2.362331</td>\n",
              "      <td>1.343769</td>\n",
              "      <td>16.003790</td>\n",
              "      <td>185.364347</td>\n",
              "    </tr>\n",
              "  </tbody>\n",
              "</table>\n",
              "</div>\n",
              "    <div class=\"colab-df-buttons\">\n",
              "\n",
              "  <div class=\"colab-df-container\">\n",
              "    <button class=\"colab-df-convert\" onclick=\"convertToInteractive('df-ff1054bb-855c-4245-a86c-676727e817f9')\"\n",
              "            title=\"Convert this dataframe to an interactive table.\"\n",
              "            style=\"display:none;\">\n",
              "\n",
              "  <svg xmlns=\"http://www.w3.org/2000/svg\" height=\"24px\" viewBox=\"0 -960 960 960\">\n",
              "    <path d=\"M120-120v-720h720v720H120Zm60-500h600v-160H180v160Zm220 220h160v-160H400v160Zm0 220h160v-160H400v160ZM180-400h160v-160H180v160Zm440 0h160v-160H620v160ZM180-180h160v-160H180v160Zm440 0h160v-160H620v160Z\"/>\n",
              "  </svg>\n",
              "    </button>\n",
              "\n",
              "  <style>\n",
              "    .colab-df-container {\n",
              "      display:flex;\n",
              "      gap: 12px;\n",
              "    }\n",
              "\n",
              "    .colab-df-convert {\n",
              "      background-color: #E8F0FE;\n",
              "      border: none;\n",
              "      border-radius: 50%;\n",
              "      cursor: pointer;\n",
              "      display: none;\n",
              "      fill: #1967D2;\n",
              "      height: 32px;\n",
              "      padding: 0 0 0 0;\n",
              "      width: 32px;\n",
              "    }\n",
              "\n",
              "    .colab-df-convert:hover {\n",
              "      background-color: #E2EBFA;\n",
              "      box-shadow: 0px 1px 2px rgba(60, 64, 67, 0.3), 0px 1px 3px 1px rgba(60, 64, 67, 0.15);\n",
              "      fill: #174EA6;\n",
              "    }\n",
              "\n",
              "    .colab-df-buttons div {\n",
              "      margin-bottom: 4px;\n",
              "    }\n",
              "\n",
              "    [theme=dark] .colab-df-convert {\n",
              "      background-color: #3B4455;\n",
              "      fill: #D2E3FC;\n",
              "    }\n",
              "\n",
              "    [theme=dark] .colab-df-convert:hover {\n",
              "      background-color: #434B5C;\n",
              "      box-shadow: 0px 1px 3px 1px rgba(0, 0, 0, 0.15);\n",
              "      filter: drop-shadow(0px 1px 2px rgba(0, 0, 0, 0.3));\n",
              "      fill: #FFFFFF;\n",
              "    }\n",
              "  </style>\n",
              "\n",
              "    <script>\n",
              "      const buttonEl =\n",
              "        document.querySelector('#df-ff1054bb-855c-4245-a86c-676727e817f9 button.colab-df-convert');\n",
              "      buttonEl.style.display =\n",
              "        google.colab.kernel.accessAllowed ? 'block' : 'none';\n",
              "\n",
              "      async function convertToInteractive(key) {\n",
              "        const element = document.querySelector('#df-ff1054bb-855c-4245-a86c-676727e817f9');\n",
              "        const dataTable =\n",
              "          await google.colab.kernel.invokeFunction('convertToInteractive',\n",
              "                                                    [key], {});\n",
              "        if (!dataTable) return;\n",
              "\n",
              "        const docLinkHtml = 'Like what you see? Visit the ' +\n",
              "          '<a target=\"_blank\" href=https://colab.research.google.com/notebooks/data_table.ipynb>data table notebook</a>'\n",
              "          + ' to learn more about interactive tables.';\n",
              "        element.innerHTML = '';\n",
              "        dataTable['output_type'] = 'display_data';\n",
              "        await google.colab.output.renderOutput(dataTable, element);\n",
              "        const docLink = document.createElement('div');\n",
              "        docLink.innerHTML = docLinkHtml;\n",
              "        element.appendChild(docLink);\n",
              "      }\n",
              "    </script>\n",
              "  </div>\n",
              "\n",
              "\n",
              "<div id=\"df-95dcac1f-0aa5-4d98-8928-428ae0290271\">\n",
              "  <button class=\"colab-df-quickchart\" onclick=\"quickchart('df-95dcac1f-0aa5-4d98-8928-428ae0290271')\"\n",
              "            title=\"Suggest charts.\"\n",
              "            style=\"display:none;\">\n",
              "\n",
              "<svg xmlns=\"http://www.w3.org/2000/svg\" height=\"24px\"viewBox=\"0 0 24 24\"\n",
              "     width=\"24px\">\n",
              "    <g>\n",
              "        <path d=\"M19 3H5c-1.1 0-2 .9-2 2v14c0 1.1.9 2 2 2h14c1.1 0 2-.9 2-2V5c0-1.1-.9-2-2-2zM9 17H7v-7h2v7zm4 0h-2V7h2v10zm4 0h-2v-4h2v4z\"/>\n",
              "    </g>\n",
              "</svg>\n",
              "  </button>\n",
              "\n",
              "<style>\n",
              "  .colab-df-quickchart {\n",
              "      --bg-color: #E8F0FE;\n",
              "      --fill-color: #1967D2;\n",
              "      --hover-bg-color: #E2EBFA;\n",
              "      --hover-fill-color: #174EA6;\n",
              "      --disabled-fill-color: #AAA;\n",
              "      --disabled-bg-color: #DDD;\n",
              "  }\n",
              "\n",
              "  [theme=dark] .colab-df-quickchart {\n",
              "      --bg-color: #3B4455;\n",
              "      --fill-color: #D2E3FC;\n",
              "      --hover-bg-color: #434B5C;\n",
              "      --hover-fill-color: #FFFFFF;\n",
              "      --disabled-bg-color: #3B4455;\n",
              "      --disabled-fill-color: #666;\n",
              "  }\n",
              "\n",
              "  .colab-df-quickchart {\n",
              "    background-color: var(--bg-color);\n",
              "    border: none;\n",
              "    border-radius: 50%;\n",
              "    cursor: pointer;\n",
              "    display: none;\n",
              "    fill: var(--fill-color);\n",
              "    height: 32px;\n",
              "    padding: 0;\n",
              "    width: 32px;\n",
              "  }\n",
              "\n",
              "  .colab-df-quickchart:hover {\n",
              "    background-color: var(--hover-bg-color);\n",
              "    box-shadow: 0 1px 2px rgba(60, 64, 67, 0.3), 0 1px 3px 1px rgba(60, 64, 67, 0.15);\n",
              "    fill: var(--button-hover-fill-color);\n",
              "  }\n",
              "\n",
              "  .colab-df-quickchart-complete:disabled,\n",
              "  .colab-df-quickchart-complete:disabled:hover {\n",
              "    background-color: var(--disabled-bg-color);\n",
              "    fill: var(--disabled-fill-color);\n",
              "    box-shadow: none;\n",
              "  }\n",
              "\n",
              "  .colab-df-spinner {\n",
              "    border: 2px solid var(--fill-color);\n",
              "    border-color: transparent;\n",
              "    border-bottom-color: var(--fill-color);\n",
              "    animation:\n",
              "      spin 1s steps(1) infinite;\n",
              "  }\n",
              "\n",
              "  @keyframes spin {\n",
              "    0% {\n",
              "      border-color: transparent;\n",
              "      border-bottom-color: var(--fill-color);\n",
              "      border-left-color: var(--fill-color);\n",
              "    }\n",
              "    20% {\n",
              "      border-color: transparent;\n",
              "      border-left-color: var(--fill-color);\n",
              "      border-top-color: var(--fill-color);\n",
              "    }\n",
              "    30% {\n",
              "      border-color: transparent;\n",
              "      border-left-color: var(--fill-color);\n",
              "      border-top-color: var(--fill-color);\n",
              "      border-right-color: var(--fill-color);\n",
              "    }\n",
              "    40% {\n",
              "      border-color: transparent;\n",
              "      border-right-color: var(--fill-color);\n",
              "      border-top-color: var(--fill-color);\n",
              "    }\n",
              "    60% {\n",
              "      border-color: transparent;\n",
              "      border-right-color: var(--fill-color);\n",
              "    }\n",
              "    80% {\n",
              "      border-color: transparent;\n",
              "      border-right-color: var(--fill-color);\n",
              "      border-bottom-color: var(--fill-color);\n",
              "    }\n",
              "    90% {\n",
              "      border-color: transparent;\n",
              "      border-bottom-color: var(--fill-color);\n",
              "    }\n",
              "  }\n",
              "</style>\n",
              "\n",
              "  <script>\n",
              "    async function quickchart(key) {\n",
              "      const quickchartButtonEl =\n",
              "        document.querySelector('#' + key + ' button');\n",
              "      quickchartButtonEl.disabled = true;  // To prevent multiple clicks.\n",
              "      quickchartButtonEl.classList.add('colab-df-spinner');\n",
              "      try {\n",
              "        const charts = await google.colab.kernel.invokeFunction(\n",
              "            'suggestCharts', [key], {});\n",
              "      } catch (error) {\n",
              "        console.error('Error during call to suggestCharts:', error);\n",
              "      }\n",
              "      quickchartButtonEl.classList.remove('colab-df-spinner');\n",
              "      quickchartButtonEl.classList.add('colab-df-quickchart-complete');\n",
              "    }\n",
              "    (() => {\n",
              "      let quickchartButtonEl =\n",
              "        document.querySelector('#df-95dcac1f-0aa5-4d98-8928-428ae0290271 button');\n",
              "      quickchartButtonEl.style.display =\n",
              "        google.colab.kernel.accessAllowed ? 'block' : 'none';\n",
              "    })();\n",
              "  </script>\n",
              "</div>\n",
              "    </div>\n",
              "  </div>\n"
            ]
          },
          "metadata": {}
        },
        {
          "output_type": "display_data",
          "data": {
            "text/plain": [
              "               f0        f1        f2   product\n",
              "f0       1.000000 -0.440723 -0.003153  0.143536\n",
              "f1      -0.440723  1.000000  0.001724 -0.192356\n",
              "f2      -0.003153  0.001724  1.000000  0.483663\n",
              "product  0.143536 -0.192356  0.483663  1.000000"
            ],
            "text/html": [
              "\n",
              "  <div id=\"df-1e68bd83-d93b-40fb-b837-fe78a5ea1d96\" class=\"colab-df-container\">\n",
              "    <div>\n",
              "<style scoped>\n",
              "    .dataframe tbody tr th:only-of-type {\n",
              "        vertical-align: middle;\n",
              "    }\n",
              "\n",
              "    .dataframe tbody tr th {\n",
              "        vertical-align: top;\n",
              "    }\n",
              "\n",
              "    .dataframe thead th {\n",
              "        text-align: right;\n",
              "    }\n",
              "</style>\n",
              "<table border=\"1\" class=\"dataframe\">\n",
              "  <thead>\n",
              "    <tr style=\"text-align: right;\">\n",
              "      <th></th>\n",
              "      <th>f0</th>\n",
              "      <th>f1</th>\n",
              "      <th>f2</th>\n",
              "      <th>product</th>\n",
              "    </tr>\n",
              "  </thead>\n",
              "  <tbody>\n",
              "    <tr>\n",
              "      <th>f0</th>\n",
              "      <td>1.000000</td>\n",
              "      <td>-0.440723</td>\n",
              "      <td>-0.003153</td>\n",
              "      <td>0.143536</td>\n",
              "    </tr>\n",
              "    <tr>\n",
              "      <th>f1</th>\n",
              "      <td>-0.440723</td>\n",
              "      <td>1.000000</td>\n",
              "      <td>0.001724</td>\n",
              "      <td>-0.192356</td>\n",
              "    </tr>\n",
              "    <tr>\n",
              "      <th>f2</th>\n",
              "      <td>-0.003153</td>\n",
              "      <td>0.001724</td>\n",
              "      <td>1.000000</td>\n",
              "      <td>0.483663</td>\n",
              "    </tr>\n",
              "    <tr>\n",
              "      <th>product</th>\n",
              "      <td>0.143536</td>\n",
              "      <td>-0.192356</td>\n",
              "      <td>0.483663</td>\n",
              "      <td>1.000000</td>\n",
              "    </tr>\n",
              "  </tbody>\n",
              "</table>\n",
              "</div>\n",
              "    <div class=\"colab-df-buttons\">\n",
              "\n",
              "  <div class=\"colab-df-container\">\n",
              "    <button class=\"colab-df-convert\" onclick=\"convertToInteractive('df-1e68bd83-d93b-40fb-b837-fe78a5ea1d96')\"\n",
              "            title=\"Convert this dataframe to an interactive table.\"\n",
              "            style=\"display:none;\">\n",
              "\n",
              "  <svg xmlns=\"http://www.w3.org/2000/svg\" height=\"24px\" viewBox=\"0 -960 960 960\">\n",
              "    <path d=\"M120-120v-720h720v720H120Zm60-500h600v-160H180v160Zm220 220h160v-160H400v160Zm0 220h160v-160H400v160ZM180-400h160v-160H180v160Zm440 0h160v-160H620v160ZM180-180h160v-160H180v160Zm440 0h160v-160H620v160Z\"/>\n",
              "  </svg>\n",
              "    </button>\n",
              "\n",
              "  <style>\n",
              "    .colab-df-container {\n",
              "      display:flex;\n",
              "      gap: 12px;\n",
              "    }\n",
              "\n",
              "    .colab-df-convert {\n",
              "      background-color: #E8F0FE;\n",
              "      border: none;\n",
              "      border-radius: 50%;\n",
              "      cursor: pointer;\n",
              "      display: none;\n",
              "      fill: #1967D2;\n",
              "      height: 32px;\n",
              "      padding: 0 0 0 0;\n",
              "      width: 32px;\n",
              "    }\n",
              "\n",
              "    .colab-df-convert:hover {\n",
              "      background-color: #E2EBFA;\n",
              "      box-shadow: 0px 1px 2px rgba(60, 64, 67, 0.3), 0px 1px 3px 1px rgba(60, 64, 67, 0.15);\n",
              "      fill: #174EA6;\n",
              "    }\n",
              "\n",
              "    .colab-df-buttons div {\n",
              "      margin-bottom: 4px;\n",
              "    }\n",
              "\n",
              "    [theme=dark] .colab-df-convert {\n",
              "      background-color: #3B4455;\n",
              "      fill: #D2E3FC;\n",
              "    }\n",
              "\n",
              "    [theme=dark] .colab-df-convert:hover {\n",
              "      background-color: #434B5C;\n",
              "      box-shadow: 0px 1px 3px 1px rgba(0, 0, 0, 0.15);\n",
              "      filter: drop-shadow(0px 1px 2px rgba(0, 0, 0, 0.3));\n",
              "      fill: #FFFFFF;\n",
              "    }\n",
              "  </style>\n",
              "\n",
              "    <script>\n",
              "      const buttonEl =\n",
              "        document.querySelector('#df-1e68bd83-d93b-40fb-b837-fe78a5ea1d96 button.colab-df-convert');\n",
              "      buttonEl.style.display =\n",
              "        google.colab.kernel.accessAllowed ? 'block' : 'none';\n",
              "\n",
              "      async function convertToInteractive(key) {\n",
              "        const element = document.querySelector('#df-1e68bd83-d93b-40fb-b837-fe78a5ea1d96');\n",
              "        const dataTable =\n",
              "          await google.colab.kernel.invokeFunction('convertToInteractive',\n",
              "                                                    [key], {});\n",
              "        if (!dataTable) return;\n",
              "\n",
              "        const docLinkHtml = 'Like what you see? Visit the ' +\n",
              "          '<a target=\"_blank\" href=https://colab.research.google.com/notebooks/data_table.ipynb>data table notebook</a>'\n",
              "          + ' to learn more about interactive tables.';\n",
              "        element.innerHTML = '';\n",
              "        dataTable['output_type'] = 'display_data';\n",
              "        await google.colab.output.renderOutput(dataTable, element);\n",
              "        const docLink = document.createElement('div');\n",
              "        docLink.innerHTML = docLinkHtml;\n",
              "        element.appendChild(docLink);\n",
              "      }\n",
              "    </script>\n",
              "  </div>\n",
              "\n",
              "\n",
              "<div id=\"df-e569edce-8b82-4085-ac78-b9a192955af3\">\n",
              "  <button class=\"colab-df-quickchart\" onclick=\"quickchart('df-e569edce-8b82-4085-ac78-b9a192955af3')\"\n",
              "            title=\"Suggest charts.\"\n",
              "            style=\"display:none;\">\n",
              "\n",
              "<svg xmlns=\"http://www.w3.org/2000/svg\" height=\"24px\"viewBox=\"0 0 24 24\"\n",
              "     width=\"24px\">\n",
              "    <g>\n",
              "        <path d=\"M19 3H5c-1.1 0-2 .9-2 2v14c0 1.1.9 2 2 2h14c1.1 0 2-.9 2-2V5c0-1.1-.9-2-2-2zM9 17H7v-7h2v7zm4 0h-2V7h2v10zm4 0h-2v-4h2v4z\"/>\n",
              "    </g>\n",
              "</svg>\n",
              "  </button>\n",
              "\n",
              "<style>\n",
              "  .colab-df-quickchart {\n",
              "      --bg-color: #E8F0FE;\n",
              "      --fill-color: #1967D2;\n",
              "      --hover-bg-color: #E2EBFA;\n",
              "      --hover-fill-color: #174EA6;\n",
              "      --disabled-fill-color: #AAA;\n",
              "      --disabled-bg-color: #DDD;\n",
              "  }\n",
              "\n",
              "  [theme=dark] .colab-df-quickchart {\n",
              "      --bg-color: #3B4455;\n",
              "      --fill-color: #D2E3FC;\n",
              "      --hover-bg-color: #434B5C;\n",
              "      --hover-fill-color: #FFFFFF;\n",
              "      --disabled-bg-color: #3B4455;\n",
              "      --disabled-fill-color: #666;\n",
              "  }\n",
              "\n",
              "  .colab-df-quickchart {\n",
              "    background-color: var(--bg-color);\n",
              "    border: none;\n",
              "    border-radius: 50%;\n",
              "    cursor: pointer;\n",
              "    display: none;\n",
              "    fill: var(--fill-color);\n",
              "    height: 32px;\n",
              "    padding: 0;\n",
              "    width: 32px;\n",
              "  }\n",
              "\n",
              "  .colab-df-quickchart:hover {\n",
              "    background-color: var(--hover-bg-color);\n",
              "    box-shadow: 0 1px 2px rgba(60, 64, 67, 0.3), 0 1px 3px 1px rgba(60, 64, 67, 0.15);\n",
              "    fill: var(--button-hover-fill-color);\n",
              "  }\n",
              "\n",
              "  .colab-df-quickchart-complete:disabled,\n",
              "  .colab-df-quickchart-complete:disabled:hover {\n",
              "    background-color: var(--disabled-bg-color);\n",
              "    fill: var(--disabled-fill-color);\n",
              "    box-shadow: none;\n",
              "  }\n",
              "\n",
              "  .colab-df-spinner {\n",
              "    border: 2px solid var(--fill-color);\n",
              "    border-color: transparent;\n",
              "    border-bottom-color: var(--fill-color);\n",
              "    animation:\n",
              "      spin 1s steps(1) infinite;\n",
              "  }\n",
              "\n",
              "  @keyframes spin {\n",
              "    0% {\n",
              "      border-color: transparent;\n",
              "      border-bottom-color: var(--fill-color);\n",
              "      border-left-color: var(--fill-color);\n",
              "    }\n",
              "    20% {\n",
              "      border-color: transparent;\n",
              "      border-left-color: var(--fill-color);\n",
              "      border-top-color: var(--fill-color);\n",
              "    }\n",
              "    30% {\n",
              "      border-color: transparent;\n",
              "      border-left-color: var(--fill-color);\n",
              "      border-top-color: var(--fill-color);\n",
              "      border-right-color: var(--fill-color);\n",
              "    }\n",
              "    40% {\n",
              "      border-color: transparent;\n",
              "      border-right-color: var(--fill-color);\n",
              "      border-top-color: var(--fill-color);\n",
              "    }\n",
              "    60% {\n",
              "      border-color: transparent;\n",
              "      border-right-color: var(--fill-color);\n",
              "    }\n",
              "    80% {\n",
              "      border-color: transparent;\n",
              "      border-right-color: var(--fill-color);\n",
              "      border-bottom-color: var(--fill-color);\n",
              "    }\n",
              "    90% {\n",
              "      border-color: transparent;\n",
              "      border-bottom-color: var(--fill-color);\n",
              "    }\n",
              "  }\n",
              "</style>\n",
              "\n",
              "  <script>\n",
              "    async function quickchart(key) {\n",
              "      const quickchartButtonEl =\n",
              "        document.querySelector('#' + key + ' button');\n",
              "      quickchartButtonEl.disabled = true;  // To prevent multiple clicks.\n",
              "      quickchartButtonEl.classList.add('colab-df-spinner');\n",
              "      try {\n",
              "        const charts = await google.colab.kernel.invokeFunction(\n",
              "            'suggestCharts', [key], {});\n",
              "      } catch (error) {\n",
              "        console.error('Error during call to suggestCharts:', error);\n",
              "      }\n",
              "      quickchartButtonEl.classList.remove('colab-df-spinner');\n",
              "      quickchartButtonEl.classList.add('colab-df-quickchart-complete');\n",
              "    }\n",
              "    (() => {\n",
              "      let quickchartButtonEl =\n",
              "        document.querySelector('#df-e569edce-8b82-4085-ac78-b9a192955af3 button');\n",
              "      quickchartButtonEl.style.display =\n",
              "        google.colab.kernel.accessAllowed ? 'block' : 'none';\n",
              "    })();\n",
              "  </script>\n",
              "</div>\n",
              "    </div>\n",
              "  </div>\n"
            ]
          },
          "metadata": {}
        },
        {
          "output_type": "stream",
          "name": "stdout",
          "text": [
            "\n",
            "\n",
            "\n",
            "/content/drive/My Drive/projects/oil_wells_profitability_prediction/geo_data_1.csv\n"
          ]
        },
        {
          "output_type": "display_data",
          "data": {
            "text/plain": [
              "      id         f0         f1        f2     product\n",
              "0  kBEdx -15.001348  -8.276000 -0.005876    3.179103\n",
              "1  62mP7  14.272088  -3.475083  0.999183   26.953261\n",
              "2  vyE1P   6.263187  -5.948386  5.001160  134.766305\n",
              "3  KcrkZ -13.081196 -11.506057  4.999415  137.945408\n",
              "4  AHL4O  12.702195  -8.147433  5.004363  134.766305"
            ],
            "text/html": [
              "\n",
              "  <div id=\"df-9847ffbf-50ef-479e-8893-1275d2d5433a\" class=\"colab-df-container\">\n",
              "    <div>\n",
              "<style scoped>\n",
              "    .dataframe tbody tr th:only-of-type {\n",
              "        vertical-align: middle;\n",
              "    }\n",
              "\n",
              "    .dataframe tbody tr th {\n",
              "        vertical-align: top;\n",
              "    }\n",
              "\n",
              "    .dataframe thead th {\n",
              "        text-align: right;\n",
              "    }\n",
              "</style>\n",
              "<table border=\"1\" class=\"dataframe\">\n",
              "  <thead>\n",
              "    <tr style=\"text-align: right;\">\n",
              "      <th></th>\n",
              "      <th>id</th>\n",
              "      <th>f0</th>\n",
              "      <th>f1</th>\n",
              "      <th>f2</th>\n",
              "      <th>product</th>\n",
              "    </tr>\n",
              "  </thead>\n",
              "  <tbody>\n",
              "    <tr>\n",
              "      <th>0</th>\n",
              "      <td>kBEdx</td>\n",
              "      <td>-15.001348</td>\n",
              "      <td>-8.276000</td>\n",
              "      <td>-0.005876</td>\n",
              "      <td>3.179103</td>\n",
              "    </tr>\n",
              "    <tr>\n",
              "      <th>1</th>\n",
              "      <td>62mP7</td>\n",
              "      <td>14.272088</td>\n",
              "      <td>-3.475083</td>\n",
              "      <td>0.999183</td>\n",
              "      <td>26.953261</td>\n",
              "    </tr>\n",
              "    <tr>\n",
              "      <th>2</th>\n",
              "      <td>vyE1P</td>\n",
              "      <td>6.263187</td>\n",
              "      <td>-5.948386</td>\n",
              "      <td>5.001160</td>\n",
              "      <td>134.766305</td>\n",
              "    </tr>\n",
              "    <tr>\n",
              "      <th>3</th>\n",
              "      <td>KcrkZ</td>\n",
              "      <td>-13.081196</td>\n",
              "      <td>-11.506057</td>\n",
              "      <td>4.999415</td>\n",
              "      <td>137.945408</td>\n",
              "    </tr>\n",
              "    <tr>\n",
              "      <th>4</th>\n",
              "      <td>AHL4O</td>\n",
              "      <td>12.702195</td>\n",
              "      <td>-8.147433</td>\n",
              "      <td>5.004363</td>\n",
              "      <td>134.766305</td>\n",
              "    </tr>\n",
              "  </tbody>\n",
              "</table>\n",
              "</div>\n",
              "    <div class=\"colab-df-buttons\">\n",
              "\n",
              "  <div class=\"colab-df-container\">\n",
              "    <button class=\"colab-df-convert\" onclick=\"convertToInteractive('df-9847ffbf-50ef-479e-8893-1275d2d5433a')\"\n",
              "            title=\"Convert this dataframe to an interactive table.\"\n",
              "            style=\"display:none;\">\n",
              "\n",
              "  <svg xmlns=\"http://www.w3.org/2000/svg\" height=\"24px\" viewBox=\"0 -960 960 960\">\n",
              "    <path d=\"M120-120v-720h720v720H120Zm60-500h600v-160H180v160Zm220 220h160v-160H400v160Zm0 220h160v-160H400v160ZM180-400h160v-160H180v160Zm440 0h160v-160H620v160ZM180-180h160v-160H180v160Zm440 0h160v-160H620v160Z\"/>\n",
              "  </svg>\n",
              "    </button>\n",
              "\n",
              "  <style>\n",
              "    .colab-df-container {\n",
              "      display:flex;\n",
              "      gap: 12px;\n",
              "    }\n",
              "\n",
              "    .colab-df-convert {\n",
              "      background-color: #E8F0FE;\n",
              "      border: none;\n",
              "      border-radius: 50%;\n",
              "      cursor: pointer;\n",
              "      display: none;\n",
              "      fill: #1967D2;\n",
              "      height: 32px;\n",
              "      padding: 0 0 0 0;\n",
              "      width: 32px;\n",
              "    }\n",
              "\n",
              "    .colab-df-convert:hover {\n",
              "      background-color: #E2EBFA;\n",
              "      box-shadow: 0px 1px 2px rgba(60, 64, 67, 0.3), 0px 1px 3px 1px rgba(60, 64, 67, 0.15);\n",
              "      fill: #174EA6;\n",
              "    }\n",
              "\n",
              "    .colab-df-buttons div {\n",
              "      margin-bottom: 4px;\n",
              "    }\n",
              "\n",
              "    [theme=dark] .colab-df-convert {\n",
              "      background-color: #3B4455;\n",
              "      fill: #D2E3FC;\n",
              "    }\n",
              "\n",
              "    [theme=dark] .colab-df-convert:hover {\n",
              "      background-color: #434B5C;\n",
              "      box-shadow: 0px 1px 3px 1px rgba(0, 0, 0, 0.15);\n",
              "      filter: drop-shadow(0px 1px 2px rgba(0, 0, 0, 0.3));\n",
              "      fill: #FFFFFF;\n",
              "    }\n",
              "  </style>\n",
              "\n",
              "    <script>\n",
              "      const buttonEl =\n",
              "        document.querySelector('#df-9847ffbf-50ef-479e-8893-1275d2d5433a button.colab-df-convert');\n",
              "      buttonEl.style.display =\n",
              "        google.colab.kernel.accessAllowed ? 'block' : 'none';\n",
              "\n",
              "      async function convertToInteractive(key) {\n",
              "        const element = document.querySelector('#df-9847ffbf-50ef-479e-8893-1275d2d5433a');\n",
              "        const dataTable =\n",
              "          await google.colab.kernel.invokeFunction('convertToInteractive',\n",
              "                                                    [key], {});\n",
              "        if (!dataTable) return;\n",
              "\n",
              "        const docLinkHtml = 'Like what you see? Visit the ' +\n",
              "          '<a target=\"_blank\" href=https://colab.research.google.com/notebooks/data_table.ipynb>data table notebook</a>'\n",
              "          + ' to learn more about interactive tables.';\n",
              "        element.innerHTML = '';\n",
              "        dataTable['output_type'] = 'display_data';\n",
              "        await google.colab.output.renderOutput(dataTable, element);\n",
              "        const docLink = document.createElement('div');\n",
              "        docLink.innerHTML = docLinkHtml;\n",
              "        element.appendChild(docLink);\n",
              "      }\n",
              "    </script>\n",
              "  </div>\n",
              "\n",
              "\n",
              "<div id=\"df-3182aa8d-9e8a-48fe-b384-0f53a3b46a76\">\n",
              "  <button class=\"colab-df-quickchart\" onclick=\"quickchart('df-3182aa8d-9e8a-48fe-b384-0f53a3b46a76')\"\n",
              "            title=\"Suggest charts.\"\n",
              "            style=\"display:none;\">\n",
              "\n",
              "<svg xmlns=\"http://www.w3.org/2000/svg\" height=\"24px\"viewBox=\"0 0 24 24\"\n",
              "     width=\"24px\">\n",
              "    <g>\n",
              "        <path d=\"M19 3H5c-1.1 0-2 .9-2 2v14c0 1.1.9 2 2 2h14c1.1 0 2-.9 2-2V5c0-1.1-.9-2-2-2zM9 17H7v-7h2v7zm4 0h-2V7h2v10zm4 0h-2v-4h2v4z\"/>\n",
              "    </g>\n",
              "</svg>\n",
              "  </button>\n",
              "\n",
              "<style>\n",
              "  .colab-df-quickchart {\n",
              "      --bg-color: #E8F0FE;\n",
              "      --fill-color: #1967D2;\n",
              "      --hover-bg-color: #E2EBFA;\n",
              "      --hover-fill-color: #174EA6;\n",
              "      --disabled-fill-color: #AAA;\n",
              "      --disabled-bg-color: #DDD;\n",
              "  }\n",
              "\n",
              "  [theme=dark] .colab-df-quickchart {\n",
              "      --bg-color: #3B4455;\n",
              "      --fill-color: #D2E3FC;\n",
              "      --hover-bg-color: #434B5C;\n",
              "      --hover-fill-color: #FFFFFF;\n",
              "      --disabled-bg-color: #3B4455;\n",
              "      --disabled-fill-color: #666;\n",
              "  }\n",
              "\n",
              "  .colab-df-quickchart {\n",
              "    background-color: var(--bg-color);\n",
              "    border: none;\n",
              "    border-radius: 50%;\n",
              "    cursor: pointer;\n",
              "    display: none;\n",
              "    fill: var(--fill-color);\n",
              "    height: 32px;\n",
              "    padding: 0;\n",
              "    width: 32px;\n",
              "  }\n",
              "\n",
              "  .colab-df-quickchart:hover {\n",
              "    background-color: var(--hover-bg-color);\n",
              "    box-shadow: 0 1px 2px rgba(60, 64, 67, 0.3), 0 1px 3px 1px rgba(60, 64, 67, 0.15);\n",
              "    fill: var(--button-hover-fill-color);\n",
              "  }\n",
              "\n",
              "  .colab-df-quickchart-complete:disabled,\n",
              "  .colab-df-quickchart-complete:disabled:hover {\n",
              "    background-color: var(--disabled-bg-color);\n",
              "    fill: var(--disabled-fill-color);\n",
              "    box-shadow: none;\n",
              "  }\n",
              "\n",
              "  .colab-df-spinner {\n",
              "    border: 2px solid var(--fill-color);\n",
              "    border-color: transparent;\n",
              "    border-bottom-color: var(--fill-color);\n",
              "    animation:\n",
              "      spin 1s steps(1) infinite;\n",
              "  }\n",
              "\n",
              "  @keyframes spin {\n",
              "    0% {\n",
              "      border-color: transparent;\n",
              "      border-bottom-color: var(--fill-color);\n",
              "      border-left-color: var(--fill-color);\n",
              "    }\n",
              "    20% {\n",
              "      border-color: transparent;\n",
              "      border-left-color: var(--fill-color);\n",
              "      border-top-color: var(--fill-color);\n",
              "    }\n",
              "    30% {\n",
              "      border-color: transparent;\n",
              "      border-left-color: var(--fill-color);\n",
              "      border-top-color: var(--fill-color);\n",
              "      border-right-color: var(--fill-color);\n",
              "    }\n",
              "    40% {\n",
              "      border-color: transparent;\n",
              "      border-right-color: var(--fill-color);\n",
              "      border-top-color: var(--fill-color);\n",
              "    }\n",
              "    60% {\n",
              "      border-color: transparent;\n",
              "      border-right-color: var(--fill-color);\n",
              "    }\n",
              "    80% {\n",
              "      border-color: transparent;\n",
              "      border-right-color: var(--fill-color);\n",
              "      border-bottom-color: var(--fill-color);\n",
              "    }\n",
              "    90% {\n",
              "      border-color: transparent;\n",
              "      border-bottom-color: var(--fill-color);\n",
              "    }\n",
              "  }\n",
              "</style>\n",
              "\n",
              "  <script>\n",
              "    async function quickchart(key) {\n",
              "      const quickchartButtonEl =\n",
              "        document.querySelector('#' + key + ' button');\n",
              "      quickchartButtonEl.disabled = true;  // To prevent multiple clicks.\n",
              "      quickchartButtonEl.classList.add('colab-df-spinner');\n",
              "      try {\n",
              "        const charts = await google.colab.kernel.invokeFunction(\n",
              "            'suggestCharts', [key], {});\n",
              "      } catch (error) {\n",
              "        console.error('Error during call to suggestCharts:', error);\n",
              "      }\n",
              "      quickchartButtonEl.classList.remove('colab-df-spinner');\n",
              "      quickchartButtonEl.classList.add('colab-df-quickchart-complete');\n",
              "    }\n",
              "    (() => {\n",
              "      let quickchartButtonEl =\n",
              "        document.querySelector('#df-3182aa8d-9e8a-48fe-b384-0f53a3b46a76 button');\n",
              "      quickchartButtonEl.style.display =\n",
              "        google.colab.kernel.accessAllowed ? 'block' : 'none';\n",
              "    })();\n",
              "  </script>\n",
              "</div>\n",
              "    </div>\n",
              "  </div>\n"
            ]
          },
          "metadata": {}
        },
        {
          "output_type": "stream",
          "name": "stdout",
          "text": [
            "<class 'pandas.core.frame.DataFrame'>\n",
            "RangeIndex: 100000 entries, 0 to 99999\n",
            "Data columns (total 5 columns):\n",
            " #   Column   Non-Null Count   Dtype  \n",
            "---  ------   --------------   -----  \n",
            " 0   id       100000 non-null  object \n",
            " 1   f0       100000 non-null  float64\n",
            " 2   f1       100000 non-null  float64\n",
            " 3   f2       100000 non-null  float64\n",
            " 4   product  100000 non-null  float64\n",
            "dtypes: float64(4), object(1)\n",
            "memory usage: 3.8+ MB\n"
          ]
        },
        {
          "output_type": "display_data",
          "data": {
            "text/plain": [
              "None"
            ]
          },
          "metadata": {}
        },
        {
          "output_type": "display_data",
          "data": {
            "text/plain": [
              "                  f0             f1             f2        product\n",
              "count  100000.000000  100000.000000  100000.000000  100000.000000\n",
              "mean        1.141296      -4.796579       2.494541      68.825000\n",
              "std         8.965932       5.119872       1.703572      45.944423\n",
              "min       -31.609576     -26.358598      -0.018144       0.000000\n",
              "25%        -6.298551      -8.267985       1.000021      26.953261\n",
              "50%         1.153055      -4.813172       2.011479      57.085625\n",
              "75%         8.621015      -1.332816       3.999904     107.813044\n",
              "max        29.421755      18.734063       5.019721     137.945408"
            ],
            "text/html": [
              "\n",
              "  <div id=\"df-840a55a5-910b-4e56-8f21-26828ca176b8\" class=\"colab-df-container\">\n",
              "    <div>\n",
              "<style scoped>\n",
              "    .dataframe tbody tr th:only-of-type {\n",
              "        vertical-align: middle;\n",
              "    }\n",
              "\n",
              "    .dataframe tbody tr th {\n",
              "        vertical-align: top;\n",
              "    }\n",
              "\n",
              "    .dataframe thead th {\n",
              "        text-align: right;\n",
              "    }\n",
              "</style>\n",
              "<table border=\"1\" class=\"dataframe\">\n",
              "  <thead>\n",
              "    <tr style=\"text-align: right;\">\n",
              "      <th></th>\n",
              "      <th>f0</th>\n",
              "      <th>f1</th>\n",
              "      <th>f2</th>\n",
              "      <th>product</th>\n",
              "    </tr>\n",
              "  </thead>\n",
              "  <tbody>\n",
              "    <tr>\n",
              "      <th>count</th>\n",
              "      <td>100000.000000</td>\n",
              "      <td>100000.000000</td>\n",
              "      <td>100000.000000</td>\n",
              "      <td>100000.000000</td>\n",
              "    </tr>\n",
              "    <tr>\n",
              "      <th>mean</th>\n",
              "      <td>1.141296</td>\n",
              "      <td>-4.796579</td>\n",
              "      <td>2.494541</td>\n",
              "      <td>68.825000</td>\n",
              "    </tr>\n",
              "    <tr>\n",
              "      <th>std</th>\n",
              "      <td>8.965932</td>\n",
              "      <td>5.119872</td>\n",
              "      <td>1.703572</td>\n",
              "      <td>45.944423</td>\n",
              "    </tr>\n",
              "    <tr>\n",
              "      <th>min</th>\n",
              "      <td>-31.609576</td>\n",
              "      <td>-26.358598</td>\n",
              "      <td>-0.018144</td>\n",
              "      <td>0.000000</td>\n",
              "    </tr>\n",
              "    <tr>\n",
              "      <th>25%</th>\n",
              "      <td>-6.298551</td>\n",
              "      <td>-8.267985</td>\n",
              "      <td>1.000021</td>\n",
              "      <td>26.953261</td>\n",
              "    </tr>\n",
              "    <tr>\n",
              "      <th>50%</th>\n",
              "      <td>1.153055</td>\n",
              "      <td>-4.813172</td>\n",
              "      <td>2.011479</td>\n",
              "      <td>57.085625</td>\n",
              "    </tr>\n",
              "    <tr>\n",
              "      <th>75%</th>\n",
              "      <td>8.621015</td>\n",
              "      <td>-1.332816</td>\n",
              "      <td>3.999904</td>\n",
              "      <td>107.813044</td>\n",
              "    </tr>\n",
              "    <tr>\n",
              "      <th>max</th>\n",
              "      <td>29.421755</td>\n",
              "      <td>18.734063</td>\n",
              "      <td>5.019721</td>\n",
              "      <td>137.945408</td>\n",
              "    </tr>\n",
              "  </tbody>\n",
              "</table>\n",
              "</div>\n",
              "    <div class=\"colab-df-buttons\">\n",
              "\n",
              "  <div class=\"colab-df-container\">\n",
              "    <button class=\"colab-df-convert\" onclick=\"convertToInteractive('df-840a55a5-910b-4e56-8f21-26828ca176b8')\"\n",
              "            title=\"Convert this dataframe to an interactive table.\"\n",
              "            style=\"display:none;\">\n",
              "\n",
              "  <svg xmlns=\"http://www.w3.org/2000/svg\" height=\"24px\" viewBox=\"0 -960 960 960\">\n",
              "    <path d=\"M120-120v-720h720v720H120Zm60-500h600v-160H180v160Zm220 220h160v-160H400v160Zm0 220h160v-160H400v160ZM180-400h160v-160H180v160Zm440 0h160v-160H620v160ZM180-180h160v-160H180v160Zm440 0h160v-160H620v160Z\"/>\n",
              "  </svg>\n",
              "    </button>\n",
              "\n",
              "  <style>\n",
              "    .colab-df-container {\n",
              "      display:flex;\n",
              "      gap: 12px;\n",
              "    }\n",
              "\n",
              "    .colab-df-convert {\n",
              "      background-color: #E8F0FE;\n",
              "      border: none;\n",
              "      border-radius: 50%;\n",
              "      cursor: pointer;\n",
              "      display: none;\n",
              "      fill: #1967D2;\n",
              "      height: 32px;\n",
              "      padding: 0 0 0 0;\n",
              "      width: 32px;\n",
              "    }\n",
              "\n",
              "    .colab-df-convert:hover {\n",
              "      background-color: #E2EBFA;\n",
              "      box-shadow: 0px 1px 2px rgba(60, 64, 67, 0.3), 0px 1px 3px 1px rgba(60, 64, 67, 0.15);\n",
              "      fill: #174EA6;\n",
              "    }\n",
              "\n",
              "    .colab-df-buttons div {\n",
              "      margin-bottom: 4px;\n",
              "    }\n",
              "\n",
              "    [theme=dark] .colab-df-convert {\n",
              "      background-color: #3B4455;\n",
              "      fill: #D2E3FC;\n",
              "    }\n",
              "\n",
              "    [theme=dark] .colab-df-convert:hover {\n",
              "      background-color: #434B5C;\n",
              "      box-shadow: 0px 1px 3px 1px rgba(0, 0, 0, 0.15);\n",
              "      filter: drop-shadow(0px 1px 2px rgba(0, 0, 0, 0.3));\n",
              "      fill: #FFFFFF;\n",
              "    }\n",
              "  </style>\n",
              "\n",
              "    <script>\n",
              "      const buttonEl =\n",
              "        document.querySelector('#df-840a55a5-910b-4e56-8f21-26828ca176b8 button.colab-df-convert');\n",
              "      buttonEl.style.display =\n",
              "        google.colab.kernel.accessAllowed ? 'block' : 'none';\n",
              "\n",
              "      async function convertToInteractive(key) {\n",
              "        const element = document.querySelector('#df-840a55a5-910b-4e56-8f21-26828ca176b8');\n",
              "        const dataTable =\n",
              "          await google.colab.kernel.invokeFunction('convertToInteractive',\n",
              "                                                    [key], {});\n",
              "        if (!dataTable) return;\n",
              "\n",
              "        const docLinkHtml = 'Like what you see? Visit the ' +\n",
              "          '<a target=\"_blank\" href=https://colab.research.google.com/notebooks/data_table.ipynb>data table notebook</a>'\n",
              "          + ' to learn more about interactive tables.';\n",
              "        element.innerHTML = '';\n",
              "        dataTable['output_type'] = 'display_data';\n",
              "        await google.colab.output.renderOutput(dataTable, element);\n",
              "        const docLink = document.createElement('div');\n",
              "        docLink.innerHTML = docLinkHtml;\n",
              "        element.appendChild(docLink);\n",
              "      }\n",
              "    </script>\n",
              "  </div>\n",
              "\n",
              "\n",
              "<div id=\"df-2b491f25-0dd6-4a68-a97c-cd74fed75419\">\n",
              "  <button class=\"colab-df-quickchart\" onclick=\"quickchart('df-2b491f25-0dd6-4a68-a97c-cd74fed75419')\"\n",
              "            title=\"Suggest charts.\"\n",
              "            style=\"display:none;\">\n",
              "\n",
              "<svg xmlns=\"http://www.w3.org/2000/svg\" height=\"24px\"viewBox=\"0 0 24 24\"\n",
              "     width=\"24px\">\n",
              "    <g>\n",
              "        <path d=\"M19 3H5c-1.1 0-2 .9-2 2v14c0 1.1.9 2 2 2h14c1.1 0 2-.9 2-2V5c0-1.1-.9-2-2-2zM9 17H7v-7h2v7zm4 0h-2V7h2v10zm4 0h-2v-4h2v4z\"/>\n",
              "    </g>\n",
              "</svg>\n",
              "  </button>\n",
              "\n",
              "<style>\n",
              "  .colab-df-quickchart {\n",
              "      --bg-color: #E8F0FE;\n",
              "      --fill-color: #1967D2;\n",
              "      --hover-bg-color: #E2EBFA;\n",
              "      --hover-fill-color: #174EA6;\n",
              "      --disabled-fill-color: #AAA;\n",
              "      --disabled-bg-color: #DDD;\n",
              "  }\n",
              "\n",
              "  [theme=dark] .colab-df-quickchart {\n",
              "      --bg-color: #3B4455;\n",
              "      --fill-color: #D2E3FC;\n",
              "      --hover-bg-color: #434B5C;\n",
              "      --hover-fill-color: #FFFFFF;\n",
              "      --disabled-bg-color: #3B4455;\n",
              "      --disabled-fill-color: #666;\n",
              "  }\n",
              "\n",
              "  .colab-df-quickchart {\n",
              "    background-color: var(--bg-color);\n",
              "    border: none;\n",
              "    border-radius: 50%;\n",
              "    cursor: pointer;\n",
              "    display: none;\n",
              "    fill: var(--fill-color);\n",
              "    height: 32px;\n",
              "    padding: 0;\n",
              "    width: 32px;\n",
              "  }\n",
              "\n",
              "  .colab-df-quickchart:hover {\n",
              "    background-color: var(--hover-bg-color);\n",
              "    box-shadow: 0 1px 2px rgba(60, 64, 67, 0.3), 0 1px 3px 1px rgba(60, 64, 67, 0.15);\n",
              "    fill: var(--button-hover-fill-color);\n",
              "  }\n",
              "\n",
              "  .colab-df-quickchart-complete:disabled,\n",
              "  .colab-df-quickchart-complete:disabled:hover {\n",
              "    background-color: var(--disabled-bg-color);\n",
              "    fill: var(--disabled-fill-color);\n",
              "    box-shadow: none;\n",
              "  }\n",
              "\n",
              "  .colab-df-spinner {\n",
              "    border: 2px solid var(--fill-color);\n",
              "    border-color: transparent;\n",
              "    border-bottom-color: var(--fill-color);\n",
              "    animation:\n",
              "      spin 1s steps(1) infinite;\n",
              "  }\n",
              "\n",
              "  @keyframes spin {\n",
              "    0% {\n",
              "      border-color: transparent;\n",
              "      border-bottom-color: var(--fill-color);\n",
              "      border-left-color: var(--fill-color);\n",
              "    }\n",
              "    20% {\n",
              "      border-color: transparent;\n",
              "      border-left-color: var(--fill-color);\n",
              "      border-top-color: var(--fill-color);\n",
              "    }\n",
              "    30% {\n",
              "      border-color: transparent;\n",
              "      border-left-color: var(--fill-color);\n",
              "      border-top-color: var(--fill-color);\n",
              "      border-right-color: var(--fill-color);\n",
              "    }\n",
              "    40% {\n",
              "      border-color: transparent;\n",
              "      border-right-color: var(--fill-color);\n",
              "      border-top-color: var(--fill-color);\n",
              "    }\n",
              "    60% {\n",
              "      border-color: transparent;\n",
              "      border-right-color: var(--fill-color);\n",
              "    }\n",
              "    80% {\n",
              "      border-color: transparent;\n",
              "      border-right-color: var(--fill-color);\n",
              "      border-bottom-color: var(--fill-color);\n",
              "    }\n",
              "    90% {\n",
              "      border-color: transparent;\n",
              "      border-bottom-color: var(--fill-color);\n",
              "    }\n",
              "  }\n",
              "</style>\n",
              "\n",
              "  <script>\n",
              "    async function quickchart(key) {\n",
              "      const quickchartButtonEl =\n",
              "        document.querySelector('#' + key + ' button');\n",
              "      quickchartButtonEl.disabled = true;  // To prevent multiple clicks.\n",
              "      quickchartButtonEl.classList.add('colab-df-spinner');\n",
              "      try {\n",
              "        const charts = await google.colab.kernel.invokeFunction(\n",
              "            'suggestCharts', [key], {});\n",
              "      } catch (error) {\n",
              "        console.error('Error during call to suggestCharts:', error);\n",
              "      }\n",
              "      quickchartButtonEl.classList.remove('colab-df-spinner');\n",
              "      quickchartButtonEl.classList.add('colab-df-quickchart-complete');\n",
              "    }\n",
              "    (() => {\n",
              "      let quickchartButtonEl =\n",
              "        document.querySelector('#df-2b491f25-0dd6-4a68-a97c-cd74fed75419 button');\n",
              "      quickchartButtonEl.style.display =\n",
              "        google.colab.kernel.accessAllowed ? 'block' : 'none';\n",
              "    })();\n",
              "  </script>\n",
              "</div>\n",
              "    </div>\n",
              "  </div>\n"
            ]
          },
          "metadata": {}
        },
        {
          "output_type": "display_data",
          "data": {
            "text/plain": [
              "               f0        f1        f2   product\n",
              "f0       1.000000  0.182287 -0.001777 -0.030491\n",
              "f1       0.182287  1.000000 -0.002595 -0.010155\n",
              "f2      -0.001777 -0.002595  1.000000  0.999397\n",
              "product -0.030491 -0.010155  0.999397  1.000000"
            ],
            "text/html": [
              "\n",
              "  <div id=\"df-d02ae2a8-3b5d-4d75-ae46-4970a3d0d0dd\" class=\"colab-df-container\">\n",
              "    <div>\n",
              "<style scoped>\n",
              "    .dataframe tbody tr th:only-of-type {\n",
              "        vertical-align: middle;\n",
              "    }\n",
              "\n",
              "    .dataframe tbody tr th {\n",
              "        vertical-align: top;\n",
              "    }\n",
              "\n",
              "    .dataframe thead th {\n",
              "        text-align: right;\n",
              "    }\n",
              "</style>\n",
              "<table border=\"1\" class=\"dataframe\">\n",
              "  <thead>\n",
              "    <tr style=\"text-align: right;\">\n",
              "      <th></th>\n",
              "      <th>f0</th>\n",
              "      <th>f1</th>\n",
              "      <th>f2</th>\n",
              "      <th>product</th>\n",
              "    </tr>\n",
              "  </thead>\n",
              "  <tbody>\n",
              "    <tr>\n",
              "      <th>f0</th>\n",
              "      <td>1.000000</td>\n",
              "      <td>0.182287</td>\n",
              "      <td>-0.001777</td>\n",
              "      <td>-0.030491</td>\n",
              "    </tr>\n",
              "    <tr>\n",
              "      <th>f1</th>\n",
              "      <td>0.182287</td>\n",
              "      <td>1.000000</td>\n",
              "      <td>-0.002595</td>\n",
              "      <td>-0.010155</td>\n",
              "    </tr>\n",
              "    <tr>\n",
              "      <th>f2</th>\n",
              "      <td>-0.001777</td>\n",
              "      <td>-0.002595</td>\n",
              "      <td>1.000000</td>\n",
              "      <td>0.999397</td>\n",
              "    </tr>\n",
              "    <tr>\n",
              "      <th>product</th>\n",
              "      <td>-0.030491</td>\n",
              "      <td>-0.010155</td>\n",
              "      <td>0.999397</td>\n",
              "      <td>1.000000</td>\n",
              "    </tr>\n",
              "  </tbody>\n",
              "</table>\n",
              "</div>\n",
              "    <div class=\"colab-df-buttons\">\n",
              "\n",
              "  <div class=\"colab-df-container\">\n",
              "    <button class=\"colab-df-convert\" onclick=\"convertToInteractive('df-d02ae2a8-3b5d-4d75-ae46-4970a3d0d0dd')\"\n",
              "            title=\"Convert this dataframe to an interactive table.\"\n",
              "            style=\"display:none;\">\n",
              "\n",
              "  <svg xmlns=\"http://www.w3.org/2000/svg\" height=\"24px\" viewBox=\"0 -960 960 960\">\n",
              "    <path d=\"M120-120v-720h720v720H120Zm60-500h600v-160H180v160Zm220 220h160v-160H400v160Zm0 220h160v-160H400v160ZM180-400h160v-160H180v160Zm440 0h160v-160H620v160ZM180-180h160v-160H180v160Zm440 0h160v-160H620v160Z\"/>\n",
              "  </svg>\n",
              "    </button>\n",
              "\n",
              "  <style>\n",
              "    .colab-df-container {\n",
              "      display:flex;\n",
              "      gap: 12px;\n",
              "    }\n",
              "\n",
              "    .colab-df-convert {\n",
              "      background-color: #E8F0FE;\n",
              "      border: none;\n",
              "      border-radius: 50%;\n",
              "      cursor: pointer;\n",
              "      display: none;\n",
              "      fill: #1967D2;\n",
              "      height: 32px;\n",
              "      padding: 0 0 0 0;\n",
              "      width: 32px;\n",
              "    }\n",
              "\n",
              "    .colab-df-convert:hover {\n",
              "      background-color: #E2EBFA;\n",
              "      box-shadow: 0px 1px 2px rgba(60, 64, 67, 0.3), 0px 1px 3px 1px rgba(60, 64, 67, 0.15);\n",
              "      fill: #174EA6;\n",
              "    }\n",
              "\n",
              "    .colab-df-buttons div {\n",
              "      margin-bottom: 4px;\n",
              "    }\n",
              "\n",
              "    [theme=dark] .colab-df-convert {\n",
              "      background-color: #3B4455;\n",
              "      fill: #D2E3FC;\n",
              "    }\n",
              "\n",
              "    [theme=dark] .colab-df-convert:hover {\n",
              "      background-color: #434B5C;\n",
              "      box-shadow: 0px 1px 3px 1px rgba(0, 0, 0, 0.15);\n",
              "      filter: drop-shadow(0px 1px 2px rgba(0, 0, 0, 0.3));\n",
              "      fill: #FFFFFF;\n",
              "    }\n",
              "  </style>\n",
              "\n",
              "    <script>\n",
              "      const buttonEl =\n",
              "        document.querySelector('#df-d02ae2a8-3b5d-4d75-ae46-4970a3d0d0dd button.colab-df-convert');\n",
              "      buttonEl.style.display =\n",
              "        google.colab.kernel.accessAllowed ? 'block' : 'none';\n",
              "\n",
              "      async function convertToInteractive(key) {\n",
              "        const element = document.querySelector('#df-d02ae2a8-3b5d-4d75-ae46-4970a3d0d0dd');\n",
              "        const dataTable =\n",
              "          await google.colab.kernel.invokeFunction('convertToInteractive',\n",
              "                                                    [key], {});\n",
              "        if (!dataTable) return;\n",
              "\n",
              "        const docLinkHtml = 'Like what you see? Visit the ' +\n",
              "          '<a target=\"_blank\" href=https://colab.research.google.com/notebooks/data_table.ipynb>data table notebook</a>'\n",
              "          + ' to learn more about interactive tables.';\n",
              "        element.innerHTML = '';\n",
              "        dataTable['output_type'] = 'display_data';\n",
              "        await google.colab.output.renderOutput(dataTable, element);\n",
              "        const docLink = document.createElement('div');\n",
              "        docLink.innerHTML = docLinkHtml;\n",
              "        element.appendChild(docLink);\n",
              "      }\n",
              "    </script>\n",
              "  </div>\n",
              "\n",
              "\n",
              "<div id=\"df-df78f211-cfe7-4f76-ad46-50571745cf13\">\n",
              "  <button class=\"colab-df-quickchart\" onclick=\"quickchart('df-df78f211-cfe7-4f76-ad46-50571745cf13')\"\n",
              "            title=\"Suggest charts.\"\n",
              "            style=\"display:none;\">\n",
              "\n",
              "<svg xmlns=\"http://www.w3.org/2000/svg\" height=\"24px\"viewBox=\"0 0 24 24\"\n",
              "     width=\"24px\">\n",
              "    <g>\n",
              "        <path d=\"M19 3H5c-1.1 0-2 .9-2 2v14c0 1.1.9 2 2 2h14c1.1 0 2-.9 2-2V5c0-1.1-.9-2-2-2zM9 17H7v-7h2v7zm4 0h-2V7h2v10zm4 0h-2v-4h2v4z\"/>\n",
              "    </g>\n",
              "</svg>\n",
              "  </button>\n",
              "\n",
              "<style>\n",
              "  .colab-df-quickchart {\n",
              "      --bg-color: #E8F0FE;\n",
              "      --fill-color: #1967D2;\n",
              "      --hover-bg-color: #E2EBFA;\n",
              "      --hover-fill-color: #174EA6;\n",
              "      --disabled-fill-color: #AAA;\n",
              "      --disabled-bg-color: #DDD;\n",
              "  }\n",
              "\n",
              "  [theme=dark] .colab-df-quickchart {\n",
              "      --bg-color: #3B4455;\n",
              "      --fill-color: #D2E3FC;\n",
              "      --hover-bg-color: #434B5C;\n",
              "      --hover-fill-color: #FFFFFF;\n",
              "      --disabled-bg-color: #3B4455;\n",
              "      --disabled-fill-color: #666;\n",
              "  }\n",
              "\n",
              "  .colab-df-quickchart {\n",
              "    background-color: var(--bg-color);\n",
              "    border: none;\n",
              "    border-radius: 50%;\n",
              "    cursor: pointer;\n",
              "    display: none;\n",
              "    fill: var(--fill-color);\n",
              "    height: 32px;\n",
              "    padding: 0;\n",
              "    width: 32px;\n",
              "  }\n",
              "\n",
              "  .colab-df-quickchart:hover {\n",
              "    background-color: var(--hover-bg-color);\n",
              "    box-shadow: 0 1px 2px rgba(60, 64, 67, 0.3), 0 1px 3px 1px rgba(60, 64, 67, 0.15);\n",
              "    fill: var(--button-hover-fill-color);\n",
              "  }\n",
              "\n",
              "  .colab-df-quickchart-complete:disabled,\n",
              "  .colab-df-quickchart-complete:disabled:hover {\n",
              "    background-color: var(--disabled-bg-color);\n",
              "    fill: var(--disabled-fill-color);\n",
              "    box-shadow: none;\n",
              "  }\n",
              "\n",
              "  .colab-df-spinner {\n",
              "    border: 2px solid var(--fill-color);\n",
              "    border-color: transparent;\n",
              "    border-bottom-color: var(--fill-color);\n",
              "    animation:\n",
              "      spin 1s steps(1) infinite;\n",
              "  }\n",
              "\n",
              "  @keyframes spin {\n",
              "    0% {\n",
              "      border-color: transparent;\n",
              "      border-bottom-color: var(--fill-color);\n",
              "      border-left-color: var(--fill-color);\n",
              "    }\n",
              "    20% {\n",
              "      border-color: transparent;\n",
              "      border-left-color: var(--fill-color);\n",
              "      border-top-color: var(--fill-color);\n",
              "    }\n",
              "    30% {\n",
              "      border-color: transparent;\n",
              "      border-left-color: var(--fill-color);\n",
              "      border-top-color: var(--fill-color);\n",
              "      border-right-color: var(--fill-color);\n",
              "    }\n",
              "    40% {\n",
              "      border-color: transparent;\n",
              "      border-right-color: var(--fill-color);\n",
              "      border-top-color: var(--fill-color);\n",
              "    }\n",
              "    60% {\n",
              "      border-color: transparent;\n",
              "      border-right-color: var(--fill-color);\n",
              "    }\n",
              "    80% {\n",
              "      border-color: transparent;\n",
              "      border-right-color: var(--fill-color);\n",
              "      border-bottom-color: var(--fill-color);\n",
              "    }\n",
              "    90% {\n",
              "      border-color: transparent;\n",
              "      border-bottom-color: var(--fill-color);\n",
              "    }\n",
              "  }\n",
              "</style>\n",
              "\n",
              "  <script>\n",
              "    async function quickchart(key) {\n",
              "      const quickchartButtonEl =\n",
              "        document.querySelector('#' + key + ' button');\n",
              "      quickchartButtonEl.disabled = true;  // To prevent multiple clicks.\n",
              "      quickchartButtonEl.classList.add('colab-df-spinner');\n",
              "      try {\n",
              "        const charts = await google.colab.kernel.invokeFunction(\n",
              "            'suggestCharts', [key], {});\n",
              "      } catch (error) {\n",
              "        console.error('Error during call to suggestCharts:', error);\n",
              "      }\n",
              "      quickchartButtonEl.classList.remove('colab-df-spinner');\n",
              "      quickchartButtonEl.classList.add('colab-df-quickchart-complete');\n",
              "    }\n",
              "    (() => {\n",
              "      let quickchartButtonEl =\n",
              "        document.querySelector('#df-df78f211-cfe7-4f76-ad46-50571745cf13 button');\n",
              "      quickchartButtonEl.style.display =\n",
              "        google.colab.kernel.accessAllowed ? 'block' : 'none';\n",
              "    })();\n",
              "  </script>\n",
              "</div>\n",
              "    </div>\n",
              "  </div>\n"
            ]
          },
          "metadata": {}
        },
        {
          "output_type": "stream",
          "name": "stdout",
          "text": [
            "\n",
            "\n",
            "\n",
            "/content/drive/My Drive/projects/oil_wells_profitability_prediction/geo_data_2.csv\n"
          ]
        },
        {
          "output_type": "display_data",
          "data": {
            "text/plain": [
              "      id        f0        f1        f2     product\n",
              "0  fwXo0 -1.146987  0.963328 -0.828965   27.758673\n",
              "1  WJtFt  0.262778  0.269839 -2.530187   56.069697\n",
              "2  ovLUW  0.194587  0.289035 -5.586433   62.871910\n",
              "3  q6cA6  2.236060 -0.553760  0.930038  114.572842\n",
              "4  WPMUX -0.515993  1.716266  5.899011  149.600746"
            ],
            "text/html": [
              "\n",
              "  <div id=\"df-a359c606-2d98-489b-961f-ed96b2697357\" class=\"colab-df-container\">\n",
              "    <div>\n",
              "<style scoped>\n",
              "    .dataframe tbody tr th:only-of-type {\n",
              "        vertical-align: middle;\n",
              "    }\n",
              "\n",
              "    .dataframe tbody tr th {\n",
              "        vertical-align: top;\n",
              "    }\n",
              "\n",
              "    .dataframe thead th {\n",
              "        text-align: right;\n",
              "    }\n",
              "</style>\n",
              "<table border=\"1\" class=\"dataframe\">\n",
              "  <thead>\n",
              "    <tr style=\"text-align: right;\">\n",
              "      <th></th>\n",
              "      <th>id</th>\n",
              "      <th>f0</th>\n",
              "      <th>f1</th>\n",
              "      <th>f2</th>\n",
              "      <th>product</th>\n",
              "    </tr>\n",
              "  </thead>\n",
              "  <tbody>\n",
              "    <tr>\n",
              "      <th>0</th>\n",
              "      <td>fwXo0</td>\n",
              "      <td>-1.146987</td>\n",
              "      <td>0.963328</td>\n",
              "      <td>-0.828965</td>\n",
              "      <td>27.758673</td>\n",
              "    </tr>\n",
              "    <tr>\n",
              "      <th>1</th>\n",
              "      <td>WJtFt</td>\n",
              "      <td>0.262778</td>\n",
              "      <td>0.269839</td>\n",
              "      <td>-2.530187</td>\n",
              "      <td>56.069697</td>\n",
              "    </tr>\n",
              "    <tr>\n",
              "      <th>2</th>\n",
              "      <td>ovLUW</td>\n",
              "      <td>0.194587</td>\n",
              "      <td>0.289035</td>\n",
              "      <td>-5.586433</td>\n",
              "      <td>62.871910</td>\n",
              "    </tr>\n",
              "    <tr>\n",
              "      <th>3</th>\n",
              "      <td>q6cA6</td>\n",
              "      <td>2.236060</td>\n",
              "      <td>-0.553760</td>\n",
              "      <td>0.930038</td>\n",
              "      <td>114.572842</td>\n",
              "    </tr>\n",
              "    <tr>\n",
              "      <th>4</th>\n",
              "      <td>WPMUX</td>\n",
              "      <td>-0.515993</td>\n",
              "      <td>1.716266</td>\n",
              "      <td>5.899011</td>\n",
              "      <td>149.600746</td>\n",
              "    </tr>\n",
              "  </tbody>\n",
              "</table>\n",
              "</div>\n",
              "    <div class=\"colab-df-buttons\">\n",
              "\n",
              "  <div class=\"colab-df-container\">\n",
              "    <button class=\"colab-df-convert\" onclick=\"convertToInteractive('df-a359c606-2d98-489b-961f-ed96b2697357')\"\n",
              "            title=\"Convert this dataframe to an interactive table.\"\n",
              "            style=\"display:none;\">\n",
              "\n",
              "  <svg xmlns=\"http://www.w3.org/2000/svg\" height=\"24px\" viewBox=\"0 -960 960 960\">\n",
              "    <path d=\"M120-120v-720h720v720H120Zm60-500h600v-160H180v160Zm220 220h160v-160H400v160Zm0 220h160v-160H400v160ZM180-400h160v-160H180v160Zm440 0h160v-160H620v160ZM180-180h160v-160H180v160Zm440 0h160v-160H620v160Z\"/>\n",
              "  </svg>\n",
              "    </button>\n",
              "\n",
              "  <style>\n",
              "    .colab-df-container {\n",
              "      display:flex;\n",
              "      gap: 12px;\n",
              "    }\n",
              "\n",
              "    .colab-df-convert {\n",
              "      background-color: #E8F0FE;\n",
              "      border: none;\n",
              "      border-radius: 50%;\n",
              "      cursor: pointer;\n",
              "      display: none;\n",
              "      fill: #1967D2;\n",
              "      height: 32px;\n",
              "      padding: 0 0 0 0;\n",
              "      width: 32px;\n",
              "    }\n",
              "\n",
              "    .colab-df-convert:hover {\n",
              "      background-color: #E2EBFA;\n",
              "      box-shadow: 0px 1px 2px rgba(60, 64, 67, 0.3), 0px 1px 3px 1px rgba(60, 64, 67, 0.15);\n",
              "      fill: #174EA6;\n",
              "    }\n",
              "\n",
              "    .colab-df-buttons div {\n",
              "      margin-bottom: 4px;\n",
              "    }\n",
              "\n",
              "    [theme=dark] .colab-df-convert {\n",
              "      background-color: #3B4455;\n",
              "      fill: #D2E3FC;\n",
              "    }\n",
              "\n",
              "    [theme=dark] .colab-df-convert:hover {\n",
              "      background-color: #434B5C;\n",
              "      box-shadow: 0px 1px 3px 1px rgba(0, 0, 0, 0.15);\n",
              "      filter: drop-shadow(0px 1px 2px rgba(0, 0, 0, 0.3));\n",
              "      fill: #FFFFFF;\n",
              "    }\n",
              "  </style>\n",
              "\n",
              "    <script>\n",
              "      const buttonEl =\n",
              "        document.querySelector('#df-a359c606-2d98-489b-961f-ed96b2697357 button.colab-df-convert');\n",
              "      buttonEl.style.display =\n",
              "        google.colab.kernel.accessAllowed ? 'block' : 'none';\n",
              "\n",
              "      async function convertToInteractive(key) {\n",
              "        const element = document.querySelector('#df-a359c606-2d98-489b-961f-ed96b2697357');\n",
              "        const dataTable =\n",
              "          await google.colab.kernel.invokeFunction('convertToInteractive',\n",
              "                                                    [key], {});\n",
              "        if (!dataTable) return;\n",
              "\n",
              "        const docLinkHtml = 'Like what you see? Visit the ' +\n",
              "          '<a target=\"_blank\" href=https://colab.research.google.com/notebooks/data_table.ipynb>data table notebook</a>'\n",
              "          + ' to learn more about interactive tables.';\n",
              "        element.innerHTML = '';\n",
              "        dataTable['output_type'] = 'display_data';\n",
              "        await google.colab.output.renderOutput(dataTable, element);\n",
              "        const docLink = document.createElement('div');\n",
              "        docLink.innerHTML = docLinkHtml;\n",
              "        element.appendChild(docLink);\n",
              "      }\n",
              "    </script>\n",
              "  </div>\n",
              "\n",
              "\n",
              "<div id=\"df-7673a9b3-9a9a-4515-a736-c20e48b66b97\">\n",
              "  <button class=\"colab-df-quickchart\" onclick=\"quickchart('df-7673a9b3-9a9a-4515-a736-c20e48b66b97')\"\n",
              "            title=\"Suggest charts.\"\n",
              "            style=\"display:none;\">\n",
              "\n",
              "<svg xmlns=\"http://www.w3.org/2000/svg\" height=\"24px\"viewBox=\"0 0 24 24\"\n",
              "     width=\"24px\">\n",
              "    <g>\n",
              "        <path d=\"M19 3H5c-1.1 0-2 .9-2 2v14c0 1.1.9 2 2 2h14c1.1 0 2-.9 2-2V5c0-1.1-.9-2-2-2zM9 17H7v-7h2v7zm4 0h-2V7h2v10zm4 0h-2v-4h2v4z\"/>\n",
              "    </g>\n",
              "</svg>\n",
              "  </button>\n",
              "\n",
              "<style>\n",
              "  .colab-df-quickchart {\n",
              "      --bg-color: #E8F0FE;\n",
              "      --fill-color: #1967D2;\n",
              "      --hover-bg-color: #E2EBFA;\n",
              "      --hover-fill-color: #174EA6;\n",
              "      --disabled-fill-color: #AAA;\n",
              "      --disabled-bg-color: #DDD;\n",
              "  }\n",
              "\n",
              "  [theme=dark] .colab-df-quickchart {\n",
              "      --bg-color: #3B4455;\n",
              "      --fill-color: #D2E3FC;\n",
              "      --hover-bg-color: #434B5C;\n",
              "      --hover-fill-color: #FFFFFF;\n",
              "      --disabled-bg-color: #3B4455;\n",
              "      --disabled-fill-color: #666;\n",
              "  }\n",
              "\n",
              "  .colab-df-quickchart {\n",
              "    background-color: var(--bg-color);\n",
              "    border: none;\n",
              "    border-radius: 50%;\n",
              "    cursor: pointer;\n",
              "    display: none;\n",
              "    fill: var(--fill-color);\n",
              "    height: 32px;\n",
              "    padding: 0;\n",
              "    width: 32px;\n",
              "  }\n",
              "\n",
              "  .colab-df-quickchart:hover {\n",
              "    background-color: var(--hover-bg-color);\n",
              "    box-shadow: 0 1px 2px rgba(60, 64, 67, 0.3), 0 1px 3px 1px rgba(60, 64, 67, 0.15);\n",
              "    fill: var(--button-hover-fill-color);\n",
              "  }\n",
              "\n",
              "  .colab-df-quickchart-complete:disabled,\n",
              "  .colab-df-quickchart-complete:disabled:hover {\n",
              "    background-color: var(--disabled-bg-color);\n",
              "    fill: var(--disabled-fill-color);\n",
              "    box-shadow: none;\n",
              "  }\n",
              "\n",
              "  .colab-df-spinner {\n",
              "    border: 2px solid var(--fill-color);\n",
              "    border-color: transparent;\n",
              "    border-bottom-color: var(--fill-color);\n",
              "    animation:\n",
              "      spin 1s steps(1) infinite;\n",
              "  }\n",
              "\n",
              "  @keyframes spin {\n",
              "    0% {\n",
              "      border-color: transparent;\n",
              "      border-bottom-color: var(--fill-color);\n",
              "      border-left-color: var(--fill-color);\n",
              "    }\n",
              "    20% {\n",
              "      border-color: transparent;\n",
              "      border-left-color: var(--fill-color);\n",
              "      border-top-color: var(--fill-color);\n",
              "    }\n",
              "    30% {\n",
              "      border-color: transparent;\n",
              "      border-left-color: var(--fill-color);\n",
              "      border-top-color: var(--fill-color);\n",
              "      border-right-color: var(--fill-color);\n",
              "    }\n",
              "    40% {\n",
              "      border-color: transparent;\n",
              "      border-right-color: var(--fill-color);\n",
              "      border-top-color: var(--fill-color);\n",
              "    }\n",
              "    60% {\n",
              "      border-color: transparent;\n",
              "      border-right-color: var(--fill-color);\n",
              "    }\n",
              "    80% {\n",
              "      border-color: transparent;\n",
              "      border-right-color: var(--fill-color);\n",
              "      border-bottom-color: var(--fill-color);\n",
              "    }\n",
              "    90% {\n",
              "      border-color: transparent;\n",
              "      border-bottom-color: var(--fill-color);\n",
              "    }\n",
              "  }\n",
              "</style>\n",
              "\n",
              "  <script>\n",
              "    async function quickchart(key) {\n",
              "      const quickchartButtonEl =\n",
              "        document.querySelector('#' + key + ' button');\n",
              "      quickchartButtonEl.disabled = true;  // To prevent multiple clicks.\n",
              "      quickchartButtonEl.classList.add('colab-df-spinner');\n",
              "      try {\n",
              "        const charts = await google.colab.kernel.invokeFunction(\n",
              "            'suggestCharts', [key], {});\n",
              "      } catch (error) {\n",
              "        console.error('Error during call to suggestCharts:', error);\n",
              "      }\n",
              "      quickchartButtonEl.classList.remove('colab-df-spinner');\n",
              "      quickchartButtonEl.classList.add('colab-df-quickchart-complete');\n",
              "    }\n",
              "    (() => {\n",
              "      let quickchartButtonEl =\n",
              "        document.querySelector('#df-7673a9b3-9a9a-4515-a736-c20e48b66b97 button');\n",
              "      quickchartButtonEl.style.display =\n",
              "        google.colab.kernel.accessAllowed ? 'block' : 'none';\n",
              "    })();\n",
              "  </script>\n",
              "</div>\n",
              "    </div>\n",
              "  </div>\n"
            ]
          },
          "metadata": {}
        },
        {
          "output_type": "stream",
          "name": "stdout",
          "text": [
            "<class 'pandas.core.frame.DataFrame'>\n",
            "RangeIndex: 100000 entries, 0 to 99999\n",
            "Data columns (total 5 columns):\n",
            " #   Column   Non-Null Count   Dtype  \n",
            "---  ------   --------------   -----  \n",
            " 0   id       100000 non-null  object \n",
            " 1   f0       100000 non-null  float64\n",
            " 2   f1       100000 non-null  float64\n",
            " 3   f2       100000 non-null  float64\n",
            " 4   product  100000 non-null  float64\n",
            "dtypes: float64(4), object(1)\n",
            "memory usage: 3.8+ MB\n"
          ]
        },
        {
          "output_type": "display_data",
          "data": {
            "text/plain": [
              "None"
            ]
          },
          "metadata": {}
        },
        {
          "output_type": "display_data",
          "data": {
            "text/plain": [
              "                  f0             f1             f2        product\n",
              "count  100000.000000  100000.000000  100000.000000  100000.000000\n",
              "mean        0.002023      -0.002081       2.495128      95.000000\n",
              "std         1.732045       1.730417       3.473445      44.749921\n",
              "min        -8.760004      -7.084020     -11.970335       0.000000\n",
              "25%        -1.162288      -1.174820       0.130359      59.450441\n",
              "50%         0.009424      -0.009482       2.484236      94.925613\n",
              "75%         1.158535       1.163678       4.858794     130.595027\n",
              "max         7.238262       7.844801      16.739402     190.029838"
            ],
            "text/html": [
              "\n",
              "  <div id=\"df-5d701e1f-288c-4c28-94ca-d9016eca66bf\" class=\"colab-df-container\">\n",
              "    <div>\n",
              "<style scoped>\n",
              "    .dataframe tbody tr th:only-of-type {\n",
              "        vertical-align: middle;\n",
              "    }\n",
              "\n",
              "    .dataframe tbody tr th {\n",
              "        vertical-align: top;\n",
              "    }\n",
              "\n",
              "    .dataframe thead th {\n",
              "        text-align: right;\n",
              "    }\n",
              "</style>\n",
              "<table border=\"1\" class=\"dataframe\">\n",
              "  <thead>\n",
              "    <tr style=\"text-align: right;\">\n",
              "      <th></th>\n",
              "      <th>f0</th>\n",
              "      <th>f1</th>\n",
              "      <th>f2</th>\n",
              "      <th>product</th>\n",
              "    </tr>\n",
              "  </thead>\n",
              "  <tbody>\n",
              "    <tr>\n",
              "      <th>count</th>\n",
              "      <td>100000.000000</td>\n",
              "      <td>100000.000000</td>\n",
              "      <td>100000.000000</td>\n",
              "      <td>100000.000000</td>\n",
              "    </tr>\n",
              "    <tr>\n",
              "      <th>mean</th>\n",
              "      <td>0.002023</td>\n",
              "      <td>-0.002081</td>\n",
              "      <td>2.495128</td>\n",
              "      <td>95.000000</td>\n",
              "    </tr>\n",
              "    <tr>\n",
              "      <th>std</th>\n",
              "      <td>1.732045</td>\n",
              "      <td>1.730417</td>\n",
              "      <td>3.473445</td>\n",
              "      <td>44.749921</td>\n",
              "    </tr>\n",
              "    <tr>\n",
              "      <th>min</th>\n",
              "      <td>-8.760004</td>\n",
              "      <td>-7.084020</td>\n",
              "      <td>-11.970335</td>\n",
              "      <td>0.000000</td>\n",
              "    </tr>\n",
              "    <tr>\n",
              "      <th>25%</th>\n",
              "      <td>-1.162288</td>\n",
              "      <td>-1.174820</td>\n",
              "      <td>0.130359</td>\n",
              "      <td>59.450441</td>\n",
              "    </tr>\n",
              "    <tr>\n",
              "      <th>50%</th>\n",
              "      <td>0.009424</td>\n",
              "      <td>-0.009482</td>\n",
              "      <td>2.484236</td>\n",
              "      <td>94.925613</td>\n",
              "    </tr>\n",
              "    <tr>\n",
              "      <th>75%</th>\n",
              "      <td>1.158535</td>\n",
              "      <td>1.163678</td>\n",
              "      <td>4.858794</td>\n",
              "      <td>130.595027</td>\n",
              "    </tr>\n",
              "    <tr>\n",
              "      <th>max</th>\n",
              "      <td>7.238262</td>\n",
              "      <td>7.844801</td>\n",
              "      <td>16.739402</td>\n",
              "      <td>190.029838</td>\n",
              "    </tr>\n",
              "  </tbody>\n",
              "</table>\n",
              "</div>\n",
              "    <div class=\"colab-df-buttons\">\n",
              "\n",
              "  <div class=\"colab-df-container\">\n",
              "    <button class=\"colab-df-convert\" onclick=\"convertToInteractive('df-5d701e1f-288c-4c28-94ca-d9016eca66bf')\"\n",
              "            title=\"Convert this dataframe to an interactive table.\"\n",
              "            style=\"display:none;\">\n",
              "\n",
              "  <svg xmlns=\"http://www.w3.org/2000/svg\" height=\"24px\" viewBox=\"0 -960 960 960\">\n",
              "    <path d=\"M120-120v-720h720v720H120Zm60-500h600v-160H180v160Zm220 220h160v-160H400v160Zm0 220h160v-160H400v160ZM180-400h160v-160H180v160Zm440 0h160v-160H620v160ZM180-180h160v-160H180v160Zm440 0h160v-160H620v160Z\"/>\n",
              "  </svg>\n",
              "    </button>\n",
              "\n",
              "  <style>\n",
              "    .colab-df-container {\n",
              "      display:flex;\n",
              "      gap: 12px;\n",
              "    }\n",
              "\n",
              "    .colab-df-convert {\n",
              "      background-color: #E8F0FE;\n",
              "      border: none;\n",
              "      border-radius: 50%;\n",
              "      cursor: pointer;\n",
              "      display: none;\n",
              "      fill: #1967D2;\n",
              "      height: 32px;\n",
              "      padding: 0 0 0 0;\n",
              "      width: 32px;\n",
              "    }\n",
              "\n",
              "    .colab-df-convert:hover {\n",
              "      background-color: #E2EBFA;\n",
              "      box-shadow: 0px 1px 2px rgba(60, 64, 67, 0.3), 0px 1px 3px 1px rgba(60, 64, 67, 0.15);\n",
              "      fill: #174EA6;\n",
              "    }\n",
              "\n",
              "    .colab-df-buttons div {\n",
              "      margin-bottom: 4px;\n",
              "    }\n",
              "\n",
              "    [theme=dark] .colab-df-convert {\n",
              "      background-color: #3B4455;\n",
              "      fill: #D2E3FC;\n",
              "    }\n",
              "\n",
              "    [theme=dark] .colab-df-convert:hover {\n",
              "      background-color: #434B5C;\n",
              "      box-shadow: 0px 1px 3px 1px rgba(0, 0, 0, 0.15);\n",
              "      filter: drop-shadow(0px 1px 2px rgba(0, 0, 0, 0.3));\n",
              "      fill: #FFFFFF;\n",
              "    }\n",
              "  </style>\n",
              "\n",
              "    <script>\n",
              "      const buttonEl =\n",
              "        document.querySelector('#df-5d701e1f-288c-4c28-94ca-d9016eca66bf button.colab-df-convert');\n",
              "      buttonEl.style.display =\n",
              "        google.colab.kernel.accessAllowed ? 'block' : 'none';\n",
              "\n",
              "      async function convertToInteractive(key) {\n",
              "        const element = document.querySelector('#df-5d701e1f-288c-4c28-94ca-d9016eca66bf');\n",
              "        const dataTable =\n",
              "          await google.colab.kernel.invokeFunction('convertToInteractive',\n",
              "                                                    [key], {});\n",
              "        if (!dataTable) return;\n",
              "\n",
              "        const docLinkHtml = 'Like what you see? Visit the ' +\n",
              "          '<a target=\"_blank\" href=https://colab.research.google.com/notebooks/data_table.ipynb>data table notebook</a>'\n",
              "          + ' to learn more about interactive tables.';\n",
              "        element.innerHTML = '';\n",
              "        dataTable['output_type'] = 'display_data';\n",
              "        await google.colab.output.renderOutput(dataTable, element);\n",
              "        const docLink = document.createElement('div');\n",
              "        docLink.innerHTML = docLinkHtml;\n",
              "        element.appendChild(docLink);\n",
              "      }\n",
              "    </script>\n",
              "  </div>\n",
              "\n",
              "\n",
              "<div id=\"df-0705f483-d69f-433d-8514-3331d86f0e86\">\n",
              "  <button class=\"colab-df-quickchart\" onclick=\"quickchart('df-0705f483-d69f-433d-8514-3331d86f0e86')\"\n",
              "            title=\"Suggest charts.\"\n",
              "            style=\"display:none;\">\n",
              "\n",
              "<svg xmlns=\"http://www.w3.org/2000/svg\" height=\"24px\"viewBox=\"0 0 24 24\"\n",
              "     width=\"24px\">\n",
              "    <g>\n",
              "        <path d=\"M19 3H5c-1.1 0-2 .9-2 2v14c0 1.1.9 2 2 2h14c1.1 0 2-.9 2-2V5c0-1.1-.9-2-2-2zM9 17H7v-7h2v7zm4 0h-2V7h2v10zm4 0h-2v-4h2v4z\"/>\n",
              "    </g>\n",
              "</svg>\n",
              "  </button>\n",
              "\n",
              "<style>\n",
              "  .colab-df-quickchart {\n",
              "      --bg-color: #E8F0FE;\n",
              "      --fill-color: #1967D2;\n",
              "      --hover-bg-color: #E2EBFA;\n",
              "      --hover-fill-color: #174EA6;\n",
              "      --disabled-fill-color: #AAA;\n",
              "      --disabled-bg-color: #DDD;\n",
              "  }\n",
              "\n",
              "  [theme=dark] .colab-df-quickchart {\n",
              "      --bg-color: #3B4455;\n",
              "      --fill-color: #D2E3FC;\n",
              "      --hover-bg-color: #434B5C;\n",
              "      --hover-fill-color: #FFFFFF;\n",
              "      --disabled-bg-color: #3B4455;\n",
              "      --disabled-fill-color: #666;\n",
              "  }\n",
              "\n",
              "  .colab-df-quickchart {\n",
              "    background-color: var(--bg-color);\n",
              "    border: none;\n",
              "    border-radius: 50%;\n",
              "    cursor: pointer;\n",
              "    display: none;\n",
              "    fill: var(--fill-color);\n",
              "    height: 32px;\n",
              "    padding: 0;\n",
              "    width: 32px;\n",
              "  }\n",
              "\n",
              "  .colab-df-quickchart:hover {\n",
              "    background-color: var(--hover-bg-color);\n",
              "    box-shadow: 0 1px 2px rgba(60, 64, 67, 0.3), 0 1px 3px 1px rgba(60, 64, 67, 0.15);\n",
              "    fill: var(--button-hover-fill-color);\n",
              "  }\n",
              "\n",
              "  .colab-df-quickchart-complete:disabled,\n",
              "  .colab-df-quickchart-complete:disabled:hover {\n",
              "    background-color: var(--disabled-bg-color);\n",
              "    fill: var(--disabled-fill-color);\n",
              "    box-shadow: none;\n",
              "  }\n",
              "\n",
              "  .colab-df-spinner {\n",
              "    border: 2px solid var(--fill-color);\n",
              "    border-color: transparent;\n",
              "    border-bottom-color: var(--fill-color);\n",
              "    animation:\n",
              "      spin 1s steps(1) infinite;\n",
              "  }\n",
              "\n",
              "  @keyframes spin {\n",
              "    0% {\n",
              "      border-color: transparent;\n",
              "      border-bottom-color: var(--fill-color);\n",
              "      border-left-color: var(--fill-color);\n",
              "    }\n",
              "    20% {\n",
              "      border-color: transparent;\n",
              "      border-left-color: var(--fill-color);\n",
              "      border-top-color: var(--fill-color);\n",
              "    }\n",
              "    30% {\n",
              "      border-color: transparent;\n",
              "      border-left-color: var(--fill-color);\n",
              "      border-top-color: var(--fill-color);\n",
              "      border-right-color: var(--fill-color);\n",
              "    }\n",
              "    40% {\n",
              "      border-color: transparent;\n",
              "      border-right-color: var(--fill-color);\n",
              "      border-top-color: var(--fill-color);\n",
              "    }\n",
              "    60% {\n",
              "      border-color: transparent;\n",
              "      border-right-color: var(--fill-color);\n",
              "    }\n",
              "    80% {\n",
              "      border-color: transparent;\n",
              "      border-right-color: var(--fill-color);\n",
              "      border-bottom-color: var(--fill-color);\n",
              "    }\n",
              "    90% {\n",
              "      border-color: transparent;\n",
              "      border-bottom-color: var(--fill-color);\n",
              "    }\n",
              "  }\n",
              "</style>\n",
              "\n",
              "  <script>\n",
              "    async function quickchart(key) {\n",
              "      const quickchartButtonEl =\n",
              "        document.querySelector('#' + key + ' button');\n",
              "      quickchartButtonEl.disabled = true;  // To prevent multiple clicks.\n",
              "      quickchartButtonEl.classList.add('colab-df-spinner');\n",
              "      try {\n",
              "        const charts = await google.colab.kernel.invokeFunction(\n",
              "            'suggestCharts', [key], {});\n",
              "      } catch (error) {\n",
              "        console.error('Error during call to suggestCharts:', error);\n",
              "      }\n",
              "      quickchartButtonEl.classList.remove('colab-df-spinner');\n",
              "      quickchartButtonEl.classList.add('colab-df-quickchart-complete');\n",
              "    }\n",
              "    (() => {\n",
              "      let quickchartButtonEl =\n",
              "        document.querySelector('#df-0705f483-d69f-433d-8514-3331d86f0e86 button');\n",
              "      quickchartButtonEl.style.display =\n",
              "        google.colab.kernel.accessAllowed ? 'block' : 'none';\n",
              "    })();\n",
              "  </script>\n",
              "</div>\n",
              "    </div>\n",
              "  </div>\n"
            ]
          },
          "metadata": {}
        },
        {
          "output_type": "display_data",
          "data": {
            "text/plain": [
              "               f0        f1        f2   product\n",
              "f0       1.000000  0.000528 -0.000448 -0.001987\n",
              "f1       0.000528  1.000000  0.000779 -0.001012\n",
              "f2      -0.000448  0.000779  1.000000  0.445871\n",
              "product -0.001987 -0.001012  0.445871  1.000000"
            ],
            "text/html": [
              "\n",
              "  <div id=\"df-f7412cb5-3974-4fe0-9a1a-15e58e6bd627\" class=\"colab-df-container\">\n",
              "    <div>\n",
              "<style scoped>\n",
              "    .dataframe tbody tr th:only-of-type {\n",
              "        vertical-align: middle;\n",
              "    }\n",
              "\n",
              "    .dataframe tbody tr th {\n",
              "        vertical-align: top;\n",
              "    }\n",
              "\n",
              "    .dataframe thead th {\n",
              "        text-align: right;\n",
              "    }\n",
              "</style>\n",
              "<table border=\"1\" class=\"dataframe\">\n",
              "  <thead>\n",
              "    <tr style=\"text-align: right;\">\n",
              "      <th></th>\n",
              "      <th>f0</th>\n",
              "      <th>f1</th>\n",
              "      <th>f2</th>\n",
              "      <th>product</th>\n",
              "    </tr>\n",
              "  </thead>\n",
              "  <tbody>\n",
              "    <tr>\n",
              "      <th>f0</th>\n",
              "      <td>1.000000</td>\n",
              "      <td>0.000528</td>\n",
              "      <td>-0.000448</td>\n",
              "      <td>-0.001987</td>\n",
              "    </tr>\n",
              "    <tr>\n",
              "      <th>f1</th>\n",
              "      <td>0.000528</td>\n",
              "      <td>1.000000</td>\n",
              "      <td>0.000779</td>\n",
              "      <td>-0.001012</td>\n",
              "    </tr>\n",
              "    <tr>\n",
              "      <th>f2</th>\n",
              "      <td>-0.000448</td>\n",
              "      <td>0.000779</td>\n",
              "      <td>1.000000</td>\n",
              "      <td>0.445871</td>\n",
              "    </tr>\n",
              "    <tr>\n",
              "      <th>product</th>\n",
              "      <td>-0.001987</td>\n",
              "      <td>-0.001012</td>\n",
              "      <td>0.445871</td>\n",
              "      <td>1.000000</td>\n",
              "    </tr>\n",
              "  </tbody>\n",
              "</table>\n",
              "</div>\n",
              "    <div class=\"colab-df-buttons\">\n",
              "\n",
              "  <div class=\"colab-df-container\">\n",
              "    <button class=\"colab-df-convert\" onclick=\"convertToInteractive('df-f7412cb5-3974-4fe0-9a1a-15e58e6bd627')\"\n",
              "            title=\"Convert this dataframe to an interactive table.\"\n",
              "            style=\"display:none;\">\n",
              "\n",
              "  <svg xmlns=\"http://www.w3.org/2000/svg\" height=\"24px\" viewBox=\"0 -960 960 960\">\n",
              "    <path d=\"M120-120v-720h720v720H120Zm60-500h600v-160H180v160Zm220 220h160v-160H400v160Zm0 220h160v-160H400v160ZM180-400h160v-160H180v160Zm440 0h160v-160H620v160ZM180-180h160v-160H180v160Zm440 0h160v-160H620v160Z\"/>\n",
              "  </svg>\n",
              "    </button>\n",
              "\n",
              "  <style>\n",
              "    .colab-df-container {\n",
              "      display:flex;\n",
              "      gap: 12px;\n",
              "    }\n",
              "\n",
              "    .colab-df-convert {\n",
              "      background-color: #E8F0FE;\n",
              "      border: none;\n",
              "      border-radius: 50%;\n",
              "      cursor: pointer;\n",
              "      display: none;\n",
              "      fill: #1967D2;\n",
              "      height: 32px;\n",
              "      padding: 0 0 0 0;\n",
              "      width: 32px;\n",
              "    }\n",
              "\n",
              "    .colab-df-convert:hover {\n",
              "      background-color: #E2EBFA;\n",
              "      box-shadow: 0px 1px 2px rgba(60, 64, 67, 0.3), 0px 1px 3px 1px rgba(60, 64, 67, 0.15);\n",
              "      fill: #174EA6;\n",
              "    }\n",
              "\n",
              "    .colab-df-buttons div {\n",
              "      margin-bottom: 4px;\n",
              "    }\n",
              "\n",
              "    [theme=dark] .colab-df-convert {\n",
              "      background-color: #3B4455;\n",
              "      fill: #D2E3FC;\n",
              "    }\n",
              "\n",
              "    [theme=dark] .colab-df-convert:hover {\n",
              "      background-color: #434B5C;\n",
              "      box-shadow: 0px 1px 3px 1px rgba(0, 0, 0, 0.15);\n",
              "      filter: drop-shadow(0px 1px 2px rgba(0, 0, 0, 0.3));\n",
              "      fill: #FFFFFF;\n",
              "    }\n",
              "  </style>\n",
              "\n",
              "    <script>\n",
              "      const buttonEl =\n",
              "        document.querySelector('#df-f7412cb5-3974-4fe0-9a1a-15e58e6bd627 button.colab-df-convert');\n",
              "      buttonEl.style.display =\n",
              "        google.colab.kernel.accessAllowed ? 'block' : 'none';\n",
              "\n",
              "      async function convertToInteractive(key) {\n",
              "        const element = document.querySelector('#df-f7412cb5-3974-4fe0-9a1a-15e58e6bd627');\n",
              "        const dataTable =\n",
              "          await google.colab.kernel.invokeFunction('convertToInteractive',\n",
              "                                                    [key], {});\n",
              "        if (!dataTable) return;\n",
              "\n",
              "        const docLinkHtml = 'Like what you see? Visit the ' +\n",
              "          '<a target=\"_blank\" href=https://colab.research.google.com/notebooks/data_table.ipynb>data table notebook</a>'\n",
              "          + ' to learn more about interactive tables.';\n",
              "        element.innerHTML = '';\n",
              "        dataTable['output_type'] = 'display_data';\n",
              "        await google.colab.output.renderOutput(dataTable, element);\n",
              "        const docLink = document.createElement('div');\n",
              "        docLink.innerHTML = docLinkHtml;\n",
              "        element.appendChild(docLink);\n",
              "      }\n",
              "    </script>\n",
              "  </div>\n",
              "\n",
              "\n",
              "<div id=\"df-b90ebbd3-c2af-4a74-bd72-a66d8a0ac026\">\n",
              "  <button class=\"colab-df-quickchart\" onclick=\"quickchart('df-b90ebbd3-c2af-4a74-bd72-a66d8a0ac026')\"\n",
              "            title=\"Suggest charts.\"\n",
              "            style=\"display:none;\">\n",
              "\n",
              "<svg xmlns=\"http://www.w3.org/2000/svg\" height=\"24px\"viewBox=\"0 0 24 24\"\n",
              "     width=\"24px\">\n",
              "    <g>\n",
              "        <path d=\"M19 3H5c-1.1 0-2 .9-2 2v14c0 1.1.9 2 2 2h14c1.1 0 2-.9 2-2V5c0-1.1-.9-2-2-2zM9 17H7v-7h2v7zm4 0h-2V7h2v10zm4 0h-2v-4h2v4z\"/>\n",
              "    </g>\n",
              "</svg>\n",
              "  </button>\n",
              "\n",
              "<style>\n",
              "  .colab-df-quickchart {\n",
              "      --bg-color: #E8F0FE;\n",
              "      --fill-color: #1967D2;\n",
              "      --hover-bg-color: #E2EBFA;\n",
              "      --hover-fill-color: #174EA6;\n",
              "      --disabled-fill-color: #AAA;\n",
              "      --disabled-bg-color: #DDD;\n",
              "  }\n",
              "\n",
              "  [theme=dark] .colab-df-quickchart {\n",
              "      --bg-color: #3B4455;\n",
              "      --fill-color: #D2E3FC;\n",
              "      --hover-bg-color: #434B5C;\n",
              "      --hover-fill-color: #FFFFFF;\n",
              "      --disabled-bg-color: #3B4455;\n",
              "      --disabled-fill-color: #666;\n",
              "  }\n",
              "\n",
              "  .colab-df-quickchart {\n",
              "    background-color: var(--bg-color);\n",
              "    border: none;\n",
              "    border-radius: 50%;\n",
              "    cursor: pointer;\n",
              "    display: none;\n",
              "    fill: var(--fill-color);\n",
              "    height: 32px;\n",
              "    padding: 0;\n",
              "    width: 32px;\n",
              "  }\n",
              "\n",
              "  .colab-df-quickchart:hover {\n",
              "    background-color: var(--hover-bg-color);\n",
              "    box-shadow: 0 1px 2px rgba(60, 64, 67, 0.3), 0 1px 3px 1px rgba(60, 64, 67, 0.15);\n",
              "    fill: var(--button-hover-fill-color);\n",
              "  }\n",
              "\n",
              "  .colab-df-quickchart-complete:disabled,\n",
              "  .colab-df-quickchart-complete:disabled:hover {\n",
              "    background-color: var(--disabled-bg-color);\n",
              "    fill: var(--disabled-fill-color);\n",
              "    box-shadow: none;\n",
              "  }\n",
              "\n",
              "  .colab-df-spinner {\n",
              "    border: 2px solid var(--fill-color);\n",
              "    border-color: transparent;\n",
              "    border-bottom-color: var(--fill-color);\n",
              "    animation:\n",
              "      spin 1s steps(1) infinite;\n",
              "  }\n",
              "\n",
              "  @keyframes spin {\n",
              "    0% {\n",
              "      border-color: transparent;\n",
              "      border-bottom-color: var(--fill-color);\n",
              "      border-left-color: var(--fill-color);\n",
              "    }\n",
              "    20% {\n",
              "      border-color: transparent;\n",
              "      border-left-color: var(--fill-color);\n",
              "      border-top-color: var(--fill-color);\n",
              "    }\n",
              "    30% {\n",
              "      border-color: transparent;\n",
              "      border-left-color: var(--fill-color);\n",
              "      border-top-color: var(--fill-color);\n",
              "      border-right-color: var(--fill-color);\n",
              "    }\n",
              "    40% {\n",
              "      border-color: transparent;\n",
              "      border-right-color: var(--fill-color);\n",
              "      border-top-color: var(--fill-color);\n",
              "    }\n",
              "    60% {\n",
              "      border-color: transparent;\n",
              "      border-right-color: var(--fill-color);\n",
              "    }\n",
              "    80% {\n",
              "      border-color: transparent;\n",
              "      border-right-color: var(--fill-color);\n",
              "      border-bottom-color: var(--fill-color);\n",
              "    }\n",
              "    90% {\n",
              "      border-color: transparent;\n",
              "      border-bottom-color: var(--fill-color);\n",
              "    }\n",
              "  }\n",
              "</style>\n",
              "\n",
              "  <script>\n",
              "    async function quickchart(key) {\n",
              "      const quickchartButtonEl =\n",
              "        document.querySelector('#' + key + ' button');\n",
              "      quickchartButtonEl.disabled = true;  // To prevent multiple clicks.\n",
              "      quickchartButtonEl.classList.add('colab-df-spinner');\n",
              "      try {\n",
              "        const charts = await google.colab.kernel.invokeFunction(\n",
              "            'suggestCharts', [key], {});\n",
              "      } catch (error) {\n",
              "        console.error('Error during call to suggestCharts:', error);\n",
              "      }\n",
              "      quickchartButtonEl.classList.remove('colab-df-spinner');\n",
              "      quickchartButtonEl.classList.add('colab-df-quickchart-complete');\n",
              "    }\n",
              "    (() => {\n",
              "      let quickchartButtonEl =\n",
              "        document.querySelector('#df-b90ebbd3-c2af-4a74-bd72-a66d8a0ac026 button');\n",
              "      quickchartButtonEl.style.display =\n",
              "        google.colab.kernel.accessAllowed ? 'block' : 'none';\n",
              "    })();\n",
              "  </script>\n",
              "</div>\n",
              "    </div>\n",
              "  </div>\n"
            ]
          },
          "metadata": {}
        },
        {
          "output_type": "stream",
          "name": "stdout",
          "text": [
            "\n",
            "\n",
            "\n"
          ]
        }
      ],
      "source": [
        "#function for not to duplicate everything several times\n",
        "def show_info(link):\n",
        "     data = pd.read_csv(link) #read data for 1 region into the data variable\n",
        "     print(link)\n",
        "     display(data.head()); #display the first 5 rows of the dataset\n",
        "     display(data.info()); #display information about data types and gaps in the dataset\n",
        "     display(data.describe()); #display information about the distribution of values in the dataset\n",
        "     display(data.corr(numeric_only=True)); #let's look at the correlation between features\n",
        "     print('\\n\\n')\n",
        "\n",
        "QTY_REGIONS = 3 # number of regions\n",
        "drive.mount('/content/drive')\n",
        "\n",
        "for i in range(QTY_REGIONS):\n",
        "     show_info(f'/content/drive/My Drive/projects/oil_wells_profitability_prediction/geo_data_{i}.csv')"
      ]
    },
    {
      "cell_type": "markdown",
      "metadata": {
        "id": "Nlv0d3hrIYqw"
      },
      "source": [
        "**We see that the data for each region does not have gaps or any anomalies in types that require corrections.**\n",
        "\n",
        "**A rather strange moment is the almost complete correlation in the data of region 2 of two features: the f2 feature and the target product feature.**\n",
        "\n",
        "**Remove the non-informative `'id'` attribute from each dataset.**"
      ]
    },
    {
      "cell_type": "code",
      "execution_count": 5,
      "metadata": {
        "id": "Q-ytaGOrIYqx",
        "outputId": "bdb94cd1-f825-4fbd-f314-7524b96d19c6",
        "colab": {
          "base_uri": "https://localhost:8080/"
        }
      },
      "outputs": [
        {
          "output_type": "execute_result",
          "data": {
            "text/plain": [
              "[             f0        f1        f2     product\n",
              " 0      0.705745 -0.497823  1.221170  105.280062\n",
              " 1      1.334711 -0.340164  4.365080   73.037750\n",
              " 2      1.022732  0.151990  1.419926   85.265647\n",
              " 3     -0.032172  0.139033  2.978566  168.620776\n",
              " 4      1.988431  0.155413  4.751769  154.036647\n",
              " ...         ...       ...       ...         ...\n",
              " 99995  0.971957  0.370953  6.075346  110.744026\n",
              " 99996  1.392429 -0.382606  1.273912  122.346843\n",
              " 99997  1.029585  0.018787 -1.348308   64.375443\n",
              " 99998  0.998163 -0.528582  1.583869   74.040764\n",
              " 99999  1.764754 -0.266417  5.722849  149.633246\n",
              " \n",
              " [100000 rows x 4 columns],\n",
              "               f0         f1        f2     product\n",
              " 0     -15.001348  -8.276000 -0.005876    3.179103\n",
              " 1      14.272088  -3.475083  0.999183   26.953261\n",
              " 2       6.263187  -5.948386  5.001160  134.766305\n",
              " 3     -13.081196 -11.506057  4.999415  137.945408\n",
              " 4      12.702195  -8.147433  5.004363  134.766305\n",
              " ...          ...        ...       ...         ...\n",
              " 99995   9.535637  -6.878139  1.998296   53.906522\n",
              " 99996 -10.160631 -12.558096  5.005581  137.945408\n",
              " 99997  -7.378891  -3.084104  4.998651  137.945408\n",
              " 99998   0.665714  -6.152593  1.000146   30.132364\n",
              " 99999  -3.426139  -7.794274 -0.003299    3.179103\n",
              " \n",
              " [100000 rows x 4 columns],\n",
              "              f0        f1        f2     product\n",
              " 0     -1.146987  0.963328 -0.828965   27.758673\n",
              " 1      0.262778  0.269839 -2.530187   56.069697\n",
              " 2      0.194587  0.289035 -5.586433   62.871910\n",
              " 3      2.236060 -0.553760  0.930038  114.572842\n",
              " 4     -0.515993  1.716266  5.899011  149.600746\n",
              " ...         ...       ...       ...         ...\n",
              " 99995 -1.777037  1.125220  6.263374  172.327046\n",
              " 99996 -1.261523 -0.894828  2.524545  138.748846\n",
              " 99997 -1.199934 -2.957637  5.219411  157.080080\n",
              " 99998 -2.419896  2.417221 -5.548444   51.795253\n",
              " 99999 -2.551421 -2.025625  6.090891  102.775767\n",
              " \n",
              " [100000 rows x 4 columns]]"
            ]
          },
          "metadata": {},
          "execution_count": 5
        }
      ],
      "source": [
        "# function that removes the required feature from each dataset in the list\n",
        "def delete_column(link_list, column):\n",
        "     for i in range(len(link_list)):\n",
        "         df = pd.read_csv(link_list[i])\n",
        "         df = df.drop([column], axis=1)\n",
        "         df_list.append(df)\n",
        "     return df_list\n",
        "\n",
        "link_list = [] # create a list for dataset links\n",
        "df_list = [] # create a list of dataframes\n",
        "\n",
        "#fill in the list of dataset links\n",
        "for i in range(QTY_REGIONS):\n",
        "     link_list.append(f'/content/drive/My Drive/projects/oil_wells_profitability_prediction/geo_data_{i}.csv')\n",
        "\n",
        "#fill the list of dataframes\n",
        "df_list = delete_column(link_list, 'id')\n",
        "df_list"
      ]
    },
    {
      "cell_type": "markdown",
      "metadata": {
        "id": "GPj2vl-wIYqx"
      },
      "source": [
        "## Model training and testing"
      ]
    },
    {
      "cell_type": "markdown",
      "metadata": {
        "id": "-jDAepcvIYqx"
      },
      "source": [
        "### Dividing data into samples"
      ]
    },
    {
      "cell_type": "markdown",
      "metadata": {
        "id": "DjOHSg2RIYqx"
      },
      "source": [
        "**Divide the data for each of the 3 regions into training and validation samples in a ratio of 75:25, scale the numerical characteristics.**"
      ]
    },
    {
      "cell_type": "code",
      "execution_count": 7,
      "metadata": {
        "id": "5haZqWWmIYqx",
        "outputId": "80ad1ae4-f682-45bd-9f43-a99ba6155a0a",
        "colab": {
          "base_uri": "https://localhost:8080/",
          "height": 527
        }
      },
      "outputs": [
        {
          "output_type": "stream",
          "name": "stdout",
          "text": [
            "\n",
            "\n",
            "1st region. features_train:\n"
          ]
        },
        {
          "output_type": "display_data",
          "data": {
            "text/plain": [
              "(75000, 3)"
            ]
          },
          "metadata": {}
        },
        {
          "output_type": "stream",
          "name": "stdout",
          "text": [
            "1st  region. features_valid:\n"
          ]
        },
        {
          "output_type": "display_data",
          "data": {
            "text/plain": [
              "(25000, 3)"
            ]
          },
          "metadata": {}
        },
        {
          "output_type": "stream",
          "name": "stdout",
          "text": [
            "1st  region. target_train:\n"
          ]
        },
        {
          "output_type": "display_data",
          "data": {
            "text/plain": [
              "(75000,)"
            ]
          },
          "metadata": {}
        },
        {
          "output_type": "stream",
          "name": "stdout",
          "text": [
            "1st  region. target_valid:\n"
          ]
        },
        {
          "output_type": "display_data",
          "data": {
            "text/plain": [
              "(25000,)"
            ]
          },
          "metadata": {}
        },
        {
          "output_type": "stream",
          "name": "stdout",
          "text": [
            "\n",
            "\n",
            "2nd region. features_train:\n"
          ]
        },
        {
          "output_type": "display_data",
          "data": {
            "text/plain": [
              "(75000, 3)"
            ]
          },
          "metadata": {}
        },
        {
          "output_type": "stream",
          "name": "stdout",
          "text": [
            "2nd  region. features_valid:\n"
          ]
        },
        {
          "output_type": "display_data",
          "data": {
            "text/plain": [
              "(25000, 3)"
            ]
          },
          "metadata": {}
        },
        {
          "output_type": "stream",
          "name": "stdout",
          "text": [
            "2nd  region. target_train:\n"
          ]
        },
        {
          "output_type": "display_data",
          "data": {
            "text/plain": [
              "(75000,)"
            ]
          },
          "metadata": {}
        },
        {
          "output_type": "stream",
          "name": "stdout",
          "text": [
            "2nd  region. target_valid:\n"
          ]
        },
        {
          "output_type": "display_data",
          "data": {
            "text/plain": [
              "(25000,)"
            ]
          },
          "metadata": {}
        },
        {
          "output_type": "stream",
          "name": "stdout",
          "text": [
            "\n",
            "\n",
            "3rd region. features_train:\n"
          ]
        },
        {
          "output_type": "display_data",
          "data": {
            "text/plain": [
              "(75000, 3)"
            ]
          },
          "metadata": {}
        },
        {
          "output_type": "stream",
          "name": "stdout",
          "text": [
            "3rd  region. features_valid:\n"
          ]
        },
        {
          "output_type": "display_data",
          "data": {
            "text/plain": [
              "(25000, 3)"
            ]
          },
          "metadata": {}
        },
        {
          "output_type": "stream",
          "name": "stdout",
          "text": [
            "3rd  region. target_train:\n"
          ]
        },
        {
          "output_type": "display_data",
          "data": {
            "text/plain": [
              "(75000,)"
            ]
          },
          "metadata": {}
        },
        {
          "output_type": "stream",
          "name": "stdout",
          "text": [
            "3rd  region. target_valid:\n"
          ]
        },
        {
          "output_type": "display_data",
          "data": {
            "text/plain": [
              "(25000,)"
            ]
          },
          "metadata": {}
        }
      ],
      "source": [
        "# function that scales features\n",
        "# and splits the list of datasets into lists of training samples and validation samples\n",
        "def data_dev_std(df_list, target_column, test_size, numeric):\n",
        "     pd.options.mode.chained_assignment = None # to \"neutralize\" a standardization error\n",
        "     features_train_list = []\n",
        "     features_valid_list = []\n",
        "     target_train_list = []\n",
        "     target_valid_list = []\n",
        "     i = 0\n",
        "     # divide the dataset into training and validation samples\n",
        "     for df in df_list:\n",
        "         target = df[target_column]\n",
        "         features = df.drop([target_column], axis = 1)\n",
        "         features_train, features_valid, target_train, target_valid = train_test_split(features, target, test_size=test_size, random_state=i)\n",
        "         # normalize numerical features\n",
        "         scaler = StandardScaler()\n",
        "         scaler.fit(features_train[numeric])\n",
        "         features_train[numeric] = scaler.transform(features_train[numeric])\n",
        "         features_valid[numeric] = scaler.transform(features_valid[numeric])\n",
        "         # write the resulting samples into the corresponding lists\n",
        "         features_train_list.append(features_train)\n",
        "         features_valid_list.append(features_valid)\n",
        "         target_train_list.append(target_train)\n",
        "         target_valid_list.append(target_valid)\n",
        "         i += 1\n",
        "     return features_train_list, features_valid_list, target_train_list, target_valid_list\n",
        "\n",
        "features_train_list = []\n",
        "features_valid_list = []\n",
        "target_train_list = []\n",
        "target_valid_list = []\n",
        "\n",
        "features_train_list, features_valid_list, target_train_list, target_valid_list = data_dev_std(df_list, 'product', 0.25, ['f0', 'f1', 'f2'])\n",
        "\n",
        "# function takes a number and returns the appropriate suffix\n",
        "def add_suffix(num):\n",
        "    if num == 1:\n",
        "        return f\"{num}st\"\n",
        "    elif num == 2:\n",
        "        return f\"{num}nd\"\n",
        "    elif num == 3:\n",
        "        return f\"{num}rd\"\n",
        "    else:\n",
        "        return f\"{num}th\"\n",
        "\n",
        "# display the sizes of the resulting samples\n",
        "for i in range(QTY_REGIONS):\n",
        "     print('\\n')\n",
        "     print(f'{add_suffix(i+1)} region. features_train:')\n",
        "     display(features_train_list[i].shape)\n",
        "     print(f'{add_suffix(i+1)}  region. features_valid:')\n",
        "     display(features_valid_list[i].shape)\n",
        "     print(f'{add_suffix(i+1)}  region. target_train:')\n",
        "     display(target_train_list[i].shape)\n",
        "     print(f'{add_suffix(i+1)}  region. target_valid:')\n",
        "     display(target_valid_list[i].shape)"
      ]
    },
    {
      "cell_type": "markdown",
      "metadata": {
        "id": "iktJF4SrIYqy"
      },
      "source": [
        "### Training models for each region and making predictions on validation\n",
        "### Saving predictions and correct answers on the validation set\n",
        "### Displays average inventory of predicted raw materials and RMSE of each model"
      ]
    },
    {
      "cell_type": "code",
      "execution_count": 8,
      "metadata": {
        "id": "2HDa6ZepIYqy",
        "outputId": "21a1a0a3-6b43-4f4a-f5eb-b72b23ea78f6",
        "colab": {
          "base_uri": "https://localhost:8080/"
        }
      },
      "outputs": [
        {
          "output_type": "stream",
          "name": "stdout",
          "text": [
            "RMSE for regions, thousand barrels:[37.481, 0.894, 39.985]\n",
            "Average reserves of predicted oil by region, thousand barrels:[92.271, 69.12, 94.86]\n"
          ]
        }
      ],
      "source": [
        "predictions_valid_list = [] # list with predictions for each region on validation samples\n",
        "rmse_list = [] # list with RMSE values for predictions of each model for each region on validation data\n",
        "mean_pred_oil_reserves_list = [] # list with the values of the average reserve of predicted raw materials for each region\n",
        "\n",
        "for i in range(QTY_REGIONS):\n",
        "     model = LinearRegression() # initialize the LinearRegression model\n",
        "     model.fit(features_train_list[i], target_train_list[i]) # train the model using the training set\n",
        "     # get model predictions on the validation set and add to the list\n",
        "     predictions_valid_list.append(model.predict(features_valid_list[i]))\n",
        "     # get the value of the rmse metric for each model on the validation data and add it to the list\n",
        "     rmse_list.append(mean_squared_error(target_valid_list[i], predictions_valid_list[i], squared=False))\n",
        "     mean_pred_oil_reserves_list.append(predictions_valid_list[i].mean())\n",
        "\n",
        "     # list of RMSE values for models trained for each region\n",
        "print(f'RMSE for regions, thousand barrels:{[round(rmse, 3) for rmse in rmse_list]}')\n",
        "# list of average reserves of predicted raw materials by region\n",
        "print(f'Average reserves of predicted oil by region, thousand barrels:{[round(feedstock, 3) for feedstock in mean_pred_oil_reserves_list]}')"
      ]
    },
    {
      "cell_type": "markdown",
      "metadata": {
        "id": "cU17uC_eIYqy"
      },
      "source": [
        "### Analysis of results"
      ]
    },
    {
      "cell_type": "markdown",
      "metadata": {
        "id": "zHiJdJ7VIYqy"
      },
      "source": [
        "**The results obtained allow us to draw the following conclusions:**\n",
        "- Regions 3 and 1 have the highest values of the average stock of predicted raw materials, however, taking into account the RMSE value for each of the models, the results are not so clear, because taking into account the error, the average stock of predicted raw materials may be the largest for region 2.\n",
        "- The RMSE metric has the best (smallest) value for the model trained on data from region 2, which is logical, because At the beginning, we found a complete correlation between the f2 feature and the target feature for a given region."
      ]
    },
    {
      "cell_type": "markdown",
      "metadata": {
        "id": "Gwg2ahhfIYqy"
      },
      "source": [
        "## Preparation for profit calculation"
      ]
    },
    {
      "cell_type": "markdown",
      "metadata": {
        "id": "IR4hUU41IYqy"
      },
      "source": [
        "### Save all key values for calculations in separate variables"
      ]
    },
    {
      "cell_type": "markdown",
      "metadata": {
        "id": "pPocaT4TIYqz"
      },
      "source": [
        "When exploring a region, 500 points are examined, from which, using machine learning, the best 200 are selected for development.\n",
        "The budget for well development in the region is 10 billion rubles.\n",
        "At current prices, one barrel of raw materials brings 450 rubles in income. The income from each unit of product is 450 thousand rubles, since the volume is indicated in thousands of barrels."
      ]
    },
    {
      "cell_type": "code",
      "execution_count": 9,
      "metadata": {
        "id": "g_4rFo0KIYqz"
      },
      "outputs": [],
      "source": [
        "ONE_REGION_BUDGET = 10 ** 10 # budget for well development in one region\n",
        "ONE_UNIT_INCOME = 4.5 * 10 ** 5 # income per unit of product (1 thousand barrels)\n",
        "EXPLORE_COUNT = 500 # number of points when exploring the region\n",
        "TOP_COUNT = 200 # number of best points for development"
      ]
    },
    {
      "cell_type": "markdown",
      "metadata": {
        "id": "H2GxHtCTIYqz"
      },
      "source": [
        "### Calculate the sufficient volume of raw materials for the break-even development of a new well"
      ]
    },
    {
      "cell_type": "code",
      "execution_count": 12,
      "metadata": {
        "id": "QJ53dk0SIYqz",
        "outputId": "17e95714-c77f-4229-ce18-1844adb63249",
        "colab": {
          "base_uri": "https://localhost:8080/",
          "height": 1000
        }
      },
      "outputs": [
        {
          "output_type": "stream",
          "name": "stdout",
          "text": [
            "Distribution of raw materials reserves for the 1st region\n"
          ]
        },
        {
          "output_type": "display_data",
          "data": {
            "text/plain": [
              "<Figure size 640x480 with 1 Axes>"
            ],
            "image/png": "[encoded data removed]"
          },
          "metadata": {}
        },
        {
          "output_type": "stream",
          "name": "stdout",
          "text": [
            "\n",
            "\n",
            "Distribution of raw materials reserves for the 2nd region\n"
          ]
        },
        {
          "output_type": "display_data",
          "data": {
            "text/plain": [
              "<Figure size 640x480 with 1 Axes>"
            ],
            "image/png": "[encoded data removed]"
          },
          "metadata": {}
        },
        {
          "output_type": "stream",
          "name": "stdout",
          "text": [
            "\n",
            "\n",
            "Distribution of raw materials reserves for the 3rd region\n"
          ]
        },
        {
          "output_type": "display_data",
          "data": {
            "text/plain": [
              "<Figure size 640x480 with 1 Axes>"
            ],
            "image/png": "[encoded data removed]"
          },
          "metadata": {}
        },
        {
          "output_type": "stream",
          "name": "stdout",
          "text": [
            "\n",
            "\n",
            "Average reserves in wells by region, thousand barrels:[92.5, 68.825, 95.0]\n",
            "Sufficient volume of raw materials for break-even development of a new well 111.111 thousand barrels\n"
          ]
        }
      ],
      "source": [
        "mean_oil_reserves_list = [] # list of average reserves of raw materials by region\n",
        "for i in range(QTY_REGIONS):\n",
        "     mean_oil_reserves_list.append(df_list[i]['product'].mean())\n",
        "     print(f'Distribution of raw materials reserves for the {add_suffix(i+1)} region')\n",
        "     df_list[i]['product'].hist(bins=50, alpha=0.6)\n",
        "     plt.show()\n",
        "     print('\\n')\n",
        "\n",
        "print(f'Average reserves in wells by region, thousand barrels:{[round(oil, 3) for oil in mean_oil_reserves_list]}')\n",
        "brkevn_amnt = ONE_REGION_BUDGET / TOP_COUNT / ONE_UNIT_INCOME\n",
        "print(f'Sufficient volume of raw materials for break-even development of a new well {brkevn_amnt:.3f} thousand barrels')"
      ]
    },
    {
      "cell_type": "markdown",
      "metadata": {
        "id": "eeuJKkn8IYqz"
      },
      "source": [
        "### Comparison of the received volume of raw materials with the average stock in each region"
      ]
    },
    {
      "cell_type": "markdown",
      "metadata": {
        "id": "KJyz9aefIYqz"
      },
      "source": [
        "**We see that the sufficient volume of raw materials to break even for one well exceeds the average values for each region.**"
      ]
    },
    {
      "cell_type": "markdown",
      "metadata": {
        "id": "JyqiXUFqIYqz"
      },
      "source": [
        "### Conclusions on the stage of preparing the profit calculation."
      ]
    },
    {
      "cell_type": "markdown",
      "metadata": {
        "id": "CL-XTXWjIYqz"
      },
      "source": [
        "**We can conclude that despite the fact that the average volumes of raw materials in the regions are not sufficient for the break-even development of new 200 wells, based on the histogram, the probability of getting to 200 wells that will break even is not zero and at first glance is higher for region 1 and 3 .**"
      ]
    },
    {
      "cell_type": "markdown",
      "metadata": {
        "id": "LGs3IodVIYqz"
      },
      "source": [
        "## Calculation of profits and risks"
      ]
    },
    {
      "cell_type": "markdown",
      "metadata": {
        "id": "80TVLzwFIYq0"
      },
      "source": [
        "### Let's select wells with maximum prediction values\n",
        "### Let's sum up the target value of the volume of raw materials corresponding to these predictions\n",
        "### Let's calculate the profit for the received volume of raw materials"
      ]
    },
    {
      "cell_type": "code",
      "execution_count": 13,
      "metadata": {
        "id": "1lISlMETIYq0",
        "outputId": "0a650058-1a1e-4c73-b4ff-23f1a6a1dd1a",
        "colab": {
          "base_uri": "https://localhost:8080/"
        }
      },
      "outputs": [
        {
          "output_type": "execute_result",
          "data": {
            "text/plain": [
              "[3363408079.608, 2415086696.682, 2426986816.696]"
            ]
          },
          "metadata": {},
          "execution_count": 13
        }
      ],
      "source": [
        "# function to calculate profit for wells with max. model prediction values\n",
        "def profit_calc(predictions, target, count, one_unit_income, budget):\n",
        "     pred_index = predictions.sort_values(ascending=False).iloc[:count].index\n",
        "     target_top = target.reset_index(drop=True).iloc[predictions.sort_values(ascending=False).iloc[:count].index]\n",
        "     target_sum_value = target_top.sum()\n",
        "     target_sum_income = target_sum_value * one_unit_income - budget\n",
        "     return target_sum_income\n",
        "\n",
        "target_top_income_list = [] # list of total income with top 200 wells for each region\n",
        "for i in range(QTY_REGIONS):\n",
        "     target_top_income_list.append(\n",
        "         profit_calc(pd.Series(predictions_valid_list[i]), target_valid_list[i], TOP_COUNT, ONE_UNIT_INCOME, ONE_REGION_BUDGET)\n",
        "     )\n",
        "[round(income, 3) for income in target_top_income_list] # net profit for each region for the top 200 wells"
      ]
    },
    {
      "cell_type": "markdown",
      "metadata": {
        "id": "Ta52VZ2nIYq1"
      },
      "source": [
        "**Let’s now check the profit for each region, provided that when exploring a region, 500 points are explored, from which the best 200 are selected for development using machine learning.**"
      ]
    },
    {
      "cell_type": "code",
      "execution_count": 14,
      "metadata": {
        "id": "2eQe-ILcIYq1",
        "outputId": "448512f3-a515-4d48-c655-33afbfd73b51",
        "colab": {
          "base_uri": "https://localhost:8080/"
        }
      },
      "outputs": [
        {
          "output_type": "execute_result",
          "data": {
            "text/plain": [
              "[801467788.263, 294383385.442, 197709200.136]"
            ]
          },
          "metadata": {},
          "execution_count": 14
        }
      ],
      "source": [
        "target_exmpl_top_income_list = [] # list of total income for the top 200 wells among 500 random ones for each region\n",
        "\n",
        "for i in range(QTY_REGIONS):\n",
        "     examples = pd.Series(predictions_valid_list[i]).sample(n=EXPLORE_COUNT, random_state=i) # selection of random 500 wells\n",
        "     # calculation of total profit for example\n",
        "     target_exmpl_top_income_list.append(\n",
        "         profit_calc(examples, target_valid_list[i], TOP_COUNT, ONE_UNIT_INCOME, ONE_REGION_BUDGET)\n",
        "     )\n",
        "[round(income, 3) for income in target_exmpl_top_income_list]# net income for each region for the top 200 taken from random 500 wells"
      ]
    },
    {
      "cell_type": "markdown",
      "metadata": {
        "id": "YXe6UjPyIYq1"
      },
      "source": [
        "## Risks and profits in each region"
      ]
    },
    {
      "cell_type": "markdown",
      "metadata": {
        "id": "9iY1DqstIYq1"
      },
      "source": [
        "### Let's use the Bootstrap technique with 1000 samples to find the profit distribution"
      ]
    },
    {
      "cell_type": "code",
      "execution_count": 15,
      "metadata": {
        "id": "b-U1WIoQIYq2",
        "outputId": "82a2a4f8-94cc-4215-c5cc-ff75dfc5ac4c",
        "colab": {
          "base_uri": "https://localhost:8080/"
        }
      },
      "outputs": [
        {
          "output_type": "execute_result",
          "data": {
            "text/plain": [
              "[0      5.988635e+08\n",
              " 1      5.432469e+08\n",
              " 2      2.675469e+08\n",
              " 3      3.740575e+08\n",
              " 4      8.103343e+08\n",
              "            ...     \n",
              " 995    3.783639e+08\n",
              " 996    1.012018e+09\n",
              " 997    2.335590e+08\n",
              " 998    6.104321e+08\n",
              " 999    5.729309e+08\n",
              " Length: 1000, dtype: float64,\n",
              " 0      6.196885e+08\n",
              " 1      2.644031e+08\n",
              " 2      3.022206e+08\n",
              " 3      2.108490e+08\n",
              " 4      4.570359e+08\n",
              "            ...     \n",
              " 995    1.317308e+08\n",
              " 996    5.968612e+08\n",
              " 997    3.292775e+08\n",
              " 998    8.857794e+08\n",
              " 999    1.616489e+08\n",
              " Length: 1000, dtype: float64,\n",
              " 0     -1.450709e+08\n",
              " 1      3.892880e+08\n",
              " 2      2.618746e+08\n",
              " 3     -6.711486e+06\n",
              " 4      4.891680e+08\n",
              "            ...     \n",
              " 995    1.045231e+08\n",
              " 996    7.447905e+07\n",
              " 997    4.248850e+08\n",
              " 998    6.327871e+08\n",
              " 999    3.426122e+08\n",
              " Length: 1000, dtype: float64]"
            ]
          },
          "metadata": {},
          "execution_count": 15
        }
      ],
      "source": [
        "state = np.random.RandomState(1)\n",
        "income_distr_regions_list = [] # list where we save the income distribution for each region\n",
        "for i in range(QTY_REGIONS):\n",
        "     values = [] # list where we save the list of income values for one region\n",
        "     for j in range(1000):\n",
        "         subsample = pd.Series(predictions_valid_list[i]).sample(n=EXPLORE_COUNT, replace=True, random_state=state)\n",
        "         values.append(\n",
        "             profit_calc(subsample, target_valid_list[i], TOP_COUNT, ONE_UNIT_INCOME, ONE_REGION_BUDGET)\n",
        "         )\n",
        "     income_distr_regions_list.append(pd.Series(values))\n",
        "\n",
        "income_distr_regions_list"
      ]
    },
    {
      "cell_type": "markdown",
      "metadata": {
        "id": "szF159hsIYq2"
      },
      "source": [
        "### Let's find the average profit, 95% confidence interval and risk of loss. We consider a negative profit to be a loss."
      ]
    },
    {
      "cell_type": "markdown",
      "metadata": {
        "id": "tJ_TGLEsIYq2"
      },
      "source": [
        "**Let's find the average profit for each region.**"
      ]
    },
    {
      "cell_type": "code",
      "execution_count": 16,
      "metadata": {
        "id": "HexCYNleIYq2",
        "outputId": "04d57b42-bbf8-4c07-fdb7-74e49879ff1d",
        "colab": {
          "base_uri": "https://localhost:8080/"
        }
      },
      "outputs": [
        {
          "output_type": "execute_result",
          "data": {
            "text/plain": [
              "[448303912.549, 483358669.718, 287541286.707]"
            ]
          },
          "metadata": {},
          "execution_count": 16
        }
      ],
      "source": [
        "mean_income_regions_list = [] # list with average income for each region\n",
        "for i in range(QTY_REGIONS):\n",
        "     mean_income_regions_list.append(income_distr_regions_list[i].mean())\n",
        "[round(income, 3) for income in mean_income_regions_list]"
      ]
    },
    {
      "cell_type": "markdown",
      "metadata": {
        "id": "75f565_lIYq3"
      },
      "source": [
        "**Let's find the 95% confidence interval for each region.**"
      ]
    },
    {
      "cell_type": "code",
      "execution_count": 17,
      "metadata": {
        "id": "VY1QKokuIYq3",
        "outputId": "a612a2a1-52cd-421a-d90e-fbe0e0a359ff",
        "colab": {
          "base_uri": "https://localhost:8080/"
        }
      },
      "outputs": [
        {
          "output_type": "execute_result",
          "data": {
            "text/plain": [
              "[[38299869.89290954, 870646603.9716089],\n",
              " [137247946.9561471, 825952489.5146211],\n",
              " [-143562731.02628756, 717096450.5824852]]"
            ]
          },
          "metadata": {},
          "execution_count": 17
        }
      ],
      "source": [
        "conf_intervals_regions_list = [] # list with 95% confidence interval for each region\n",
        "for i in range(QTY_REGIONS):\n",
        "     conf_intervals_regions_list.append(\n",
        "         [income_distr_regions_list[i].quantile(0.05), income_distr_regions_list[i].quantile(0.95)]\n",
        "     )\n",
        "conf_intervals_regions_list"
      ]
    },
    {
      "cell_type": "markdown",
      "metadata": {
        "id": "PcwC49jvIYq4"
      },
      "source": [
        "**Let's find the risk of loss for each region.**"
      ]
    },
    {
      "cell_type": "code",
      "execution_count": 18,
      "metadata": {
        "id": "sWlPD0Z4IYq4",
        "outputId": "8bc6e013-b263-415d-dff8-4d38d91f82ff",
        "colab": {
          "base_uri": "https://localhost:8080/"
        }
      },
      "outputs": [
        {
          "output_type": "execute_result",
          "data": {
            "text/plain": [
              "[0.035, 0.006, 0.14]"
            ]
          },
          "metadata": {},
          "execution_count": 18
        }
      ],
      "source": [
        "loss_prob_regions_list = [] # list with probability of losses for each region\n",
        "for i in range(QTY_REGIONS):\n",
        "     loss_prob_regions_list.append(\n",
        "         income_distr_regions_list[i][income_distr_regions_list[i] < 0].count() / income_distr_regions_list[i].count()\n",
        "     )\n",
        "loss_prob_regions_list"
      ]
    },
    {
      "cell_type": "markdown",
      "metadata": {
        "id": "ZxUp7yqvIYq4"
      },
      "source": [
        "**According to the terms of the task, after assessing the risks, it is necessary to leave only those regions in which the probability of losses is less than 2.5%. Among them, the region with the highest average profit is selected.**"
      ]
    },
    {
      "cell_type": "code",
      "execution_count": 19,
      "metadata": {
        "id": "SWNi-duWIYq4",
        "outputId": "a4d224b0-39e3-44b4-b355-703dcb988bc8",
        "colab": {
          "base_uri": "https://localhost:8080/"
        }
      },
      "outputs": [
        {
          "output_type": "stream",
          "name": "stdout",
          "text": [
            "Regions where the probability of losses is below 2.5%:\n",
            "2\n"
          ]
        }
      ],
      "source": [
        "print('Regions where the probability of losses is below 2.5%:')\n",
        "for i in range(QTY_REGIONS):\n",
        "     if loss_prob_regions_list[i] < 0.025:\n",
        "         print(i+1)"
      ]
    },
    {
      "cell_type": "markdown",
      "metadata": {
        "id": "-0Hs8BTWIYq4"
      },
      "source": [
        "### Selection of region for well development and justification"
      ]
    },
    {
      "cell_type": "markdown",
      "metadata": {
        "id": "Sc3_3fX4IYq5"
      },
      "source": [
        "**Accordingly, we can conclude that only region No. 2 is suitable for the conditions of the problem, because only there the probability of receiving losses is lower than 2.5% and equal to only 0.6%, as well as the highest average profit.**"
      ]
    },
    {
      "cell_type": "markdown",
      "metadata": {
        "id": "B0wzafhcIYq5"
      },
      "source": [
        "## General conclusion"
      ]
    },
    {
      "cell_type": "markdown",
      "metadata": {
        "id": "SJ8vOI7JIYq5"
      },
      "source": [
        "**Of the three regions, region No. 2 (geo_data_1.csv) is noticeably different in terms of data distribution, this was evident from paragraph 3.2 and from paragraph 1.3, where a strong correlation was found between the f2 feature and the target product feature. For this reason, the model accuracy for this region was the highest (RMSE value was the lowest), despite the fact that the average volume values in the top 200 wells for this region were the lowest compared to other regions. But as a result, we see that more accurate forecasting of the model for this region made it a leader in this task, and only this region met the conditions of the original task, showing a probability of loss below 2.5%.**"
      ]
    }
  ],
  "metadata": {
    "ExecuteTimeLog": [
      {
        "duration": 1080,
        "start_time": "2023-01-19T16:48:45.026Z"
      },
      {
        "duration": 920,
        "start_time": "2023-01-19T16:49:50.733Z"
      },
      {
        "duration": 6,
        "start_time": "2023-01-19T16:49:54.236Z"
      },
      {
        "duration": 143,
        "start_time": "2023-01-19T16:49:56.395Z"
      },
      {
        "duration": 167,
        "start_time": "2023-01-19T16:50:06.237Z"
      },
      {
        "duration": 69,
        "start_time": "2023-01-19T18:03:06.811Z"
      },
      {
        "duration": 601,
        "start_time": "2023-01-19T18:15:53.681Z"
      },
      {
        "duration": 409,
        "start_time": "2023-01-19T18:23:21.447Z"
      },
      {
        "duration": 70,
        "start_time": "2023-01-19T18:23:40.135Z"
      },
      {
        "duration": 69,
        "start_time": "2023-01-19T18:23:46.928Z"
      },
      {
        "duration": 54,
        "start_time": "2023-01-19T18:23:55.517Z"
      },
      {
        "duration": 18,
        "start_time": "2023-01-19T18:24:01.487Z"
      },
      {
        "duration": 47,
        "start_time": "2023-01-19T18:24:49.936Z"
      },
      {
        "duration": 410,
        "start_time": "2023-01-19T18:25:08.776Z"
      },
      {
        "duration": 418,
        "start_time": "2023-01-19T18:25:31.836Z"
      },
      {
        "duration": 406,
        "start_time": "2023-01-19T18:28:03.528Z"
      },
      {
        "duration": 400,
        "start_time": "2023-01-19T18:28:23.609Z"
      },
      {
        "duration": 429,
        "start_time": "2023-01-19T18:28:36.677Z"
      },
      {
        "duration": 453,
        "start_time": "2023-01-19T18:29:03.922Z"
      },
      {
        "duration": 412,
        "start_time": "2023-01-19T18:29:37.800Z"
      },
      {
        "duration": 503,
        "start_time": "2023-01-19T18:32:37.874Z"
      },
      {
        "duration": 545,
        "start_time": "2023-01-19T19:15:39.461Z"
      },
      {
        "duration": 496,
        "start_time": "2023-01-20T00:08:14.705Z"
      },
      {
        "duration": 6,
        "start_time": "2023-01-20T00:40:06.000Z"
      },
      {
        "duration": 8,
        "start_time": "2023-01-20T00:40:19.096Z"
      },
      {
        "duration": 10,
        "start_time": "2023-01-20T00:40:32.462Z"
      },
      {
        "duration": 134,
        "start_time": "2023-01-20T00:43:12.035Z"
      },
      {
        "duration": 859,
        "start_time": "2023-01-20T00:44:04.762Z"
      },
      {
        "duration": 1131,
        "start_time": "2023-01-20T00:45:01.760Z"
      },
      {
        "duration": 811,
        "start_time": "2023-01-20T00:45:25.826Z"
      },
      {
        "duration": 806,
        "start_time": "2023-01-20T00:46:04.973Z"
      },
      {
        "duration": 336,
        "start_time": "2023-01-20T00:46:33.763Z"
      },
      {
        "duration": 338,
        "start_time": "2023-01-20T00:46:40.752Z"
      },
      {
        "duration": 843,
        "start_time": "2023-01-20T00:46:49.382Z"
      },
      {
        "duration": 338,
        "start_time": "2023-01-20T00:47:14.319Z"
      },
      {
        "duration": 851,
        "start_time": "2023-01-20T00:47:39.727Z"
      },
      {
        "duration": 682,
        "start_time": "2023-01-20T00:47:56.964Z"
      },
      {
        "duration": 1208,
        "start_time": "2023-01-20T19:05:46.314Z"
      },
      {
        "duration": 3,
        "start_time": "2023-01-20T19:05:48.227Z"
      },
      {
        "duration": 1188,
        "start_time": "2023-01-20T19:05:50.710Z"
      },
      {
        "duration": 113,
        "start_time": "2023-01-20T19:05:56.387Z"
      },
      {
        "duration": 164,
        "start_time": "2023-01-20T19:06:45.999Z"
      },
      {
        "duration": 423,
        "start_time": "2023-01-20T19:06:57.662Z"
      },
      {
        "duration": 435,
        "start_time": "2023-01-20T19:07:06.198Z"
      },
      {
        "duration": 18,
        "start_time": "2023-01-20T19:13:50.678Z"
      },
      {
        "duration": 17,
        "start_time": "2023-01-20T19:14:40.779Z"
      },
      {
        "duration": 4,
        "start_time": "2023-01-20T19:18:35.488Z"
      },
      {
        "duration": 20,
        "start_time": "2023-01-20T19:22:14.776Z"
      },
      {
        "duration": 24,
        "start_time": "2023-01-20T19:25:38.167Z"
      },
      {
        "duration": 33,
        "start_time": "2023-01-20T19:26:15.228Z"
      },
      {
        "duration": 85,
        "start_time": "2023-01-20T19:26:44.730Z"
      },
      {
        "duration": 9,
        "start_time": "2023-01-20T19:32:58.483Z"
      },
      {
        "duration": 6,
        "start_time": "2023-01-20T19:33:10.955Z"
      },
      {
        "duration": 74,
        "start_time": "2023-01-20T19:34:45.054Z"
      },
      {
        "duration": 89,
        "start_time": "2023-01-20T19:34:57.693Z"
      },
      {
        "duration": 92,
        "start_time": "2023-01-20T19:35:14.778Z"
      },
      {
        "duration": 82,
        "start_time": "2023-01-20T19:35:40.893Z"
      },
      {
        "duration": 83,
        "start_time": "2023-01-20T19:35:57.478Z"
      },
      {
        "duration": 82,
        "start_time": "2023-01-20T19:38:45.491Z"
      },
      {
        "duration": 80,
        "start_time": "2023-01-20T19:39:32.623Z"
      },
      {
        "duration": 72,
        "start_time": "2023-01-20T19:39:46.595Z"
      },
      {
        "duration": 1072,
        "start_time": "2023-01-29T21:22:34.472Z"
      },
      {
        "duration": 1710,
        "start_time": "2023-01-29T21:22:35.546Z"
      },
      {
        "duration": 393,
        "start_time": "2023-01-29T21:22:37.258Z"
      },
      {
        "duration": 3,
        "start_time": "2023-01-29T21:22:37.653Z"
      },
      {
        "duration": 90,
        "start_time": "2023-01-29T21:22:41.494Z"
      },
      {
        "duration": 106,
        "start_time": "2023-01-29T21:25:33.821Z"
      },
      {
        "duration": 89,
        "start_time": "2023-01-29T21:27:39.955Z"
      },
      {
        "duration": 190,
        "start_time": "2023-01-29T21:43:11.436Z"
      },
      {
        "duration": 181,
        "start_time": "2023-01-29T21:43:16.745Z"
      },
      {
        "duration": 150,
        "start_time": "2023-01-29T22:12:53.474Z"
      },
      {
        "duration": 297,
        "start_time": "2023-01-29T22:15:32.889Z"
      },
      {
        "duration": 26,
        "start_time": "2023-01-29T22:16:25.196Z"
      },
      {
        "duration": 166,
        "start_time": "2023-01-29T22:16:36.969Z"
      },
      {
        "duration": 213,
        "start_time": "2023-01-29T22:18:15.811Z"
      },
      {
        "duration": 185,
        "start_time": "2023-01-29T22:18:26.144Z"
      },
      {
        "duration": 185,
        "start_time": "2023-01-29T22:19:46.544Z"
      },
      {
        "duration": 145,
        "start_time": "2023-01-29T22:19:54.179Z"
      },
      {
        "duration": 1093,
        "start_time": "2023-01-30T16:20:50.608Z"
      },
      {
        "duration": 1778,
        "start_time": "2023-01-30T16:20:53.089Z"
      },
      {
        "duration": 399,
        "start_time": "2023-01-30T16:21:04.551Z"
      },
      {
        "duration": 98,
        "start_time": "2023-01-30T16:21:08.536Z"
      },
      {
        "duration": 414,
        "start_time": "2023-01-30T16:21:12.980Z"
      },
      {
        "duration": 102,
        "start_time": "2023-01-30T17:01:19.739Z"
      },
      {
        "duration": 5,
        "start_time": "2023-01-30T17:01:23.154Z"
      },
      {
        "duration": 5,
        "start_time": "2023-01-30T17:01:24.692Z"
      },
      {
        "duration": 4,
        "start_time": "2023-01-30T17:11:46.240Z"
      },
      {
        "duration": 3,
        "start_time": "2023-01-30T17:11:57.650Z"
      },
      {
        "duration": 3,
        "start_time": "2023-01-30T17:12:03.705Z"
      },
      {
        "duration": 4,
        "start_time": "2023-01-30T17:15:01.413Z"
      },
      {
        "duration": 3,
        "start_time": "2023-01-30T17:18:06.673Z"
      },
      {
        "duration": 3,
        "start_time": "2023-01-30T17:21:33.225Z"
      },
      {
        "duration": 4,
        "start_time": "2023-01-30T17:21:47.144Z"
      },
      {
        "duration": 3,
        "start_time": "2023-01-30T17:25:51.514Z"
      },
      {
        "duration": 215,
        "start_time": "2023-01-30T17:36:00.579Z"
      },
      {
        "duration": 34,
        "start_time": "2023-01-30T17:39:32.065Z"
      },
      {
        "duration": 5,
        "start_time": "2023-01-30T17:39:39.747Z"
      },
      {
        "duration": 6,
        "start_time": "2023-01-30T17:40:07.856Z"
      },
      {
        "duration": 770,
        "start_time": "2023-01-30T17:57:43.742Z"
      },
      {
        "duration": 243,
        "start_time": "2023-01-30T17:58:49.930Z"
      },
      {
        "duration": 211,
        "start_time": "2023-01-30T17:59:14.319Z"
      },
      {
        "duration": 281,
        "start_time": "2023-01-30T17:59:20.318Z"
      },
      {
        "duration": 268,
        "start_time": "2023-01-30T17:59:28.784Z"
      },
      {
        "duration": 336,
        "start_time": "2023-01-30T18:02:46.342Z"
      },
      {
        "duration": 312,
        "start_time": "2023-01-30T18:02:52.530Z"
      },
      {
        "duration": 304,
        "start_time": "2023-01-30T18:02:57.241Z"
      },
      {
        "duration": 326,
        "start_time": "2023-01-30T18:03:06.250Z"
      },
      {
        "duration": 385,
        "start_time": "2023-01-30T18:03:11.838Z"
      },
      {
        "duration": 292,
        "start_time": "2023-01-30T18:03:18.247Z"
      },
      {
        "duration": 429,
        "start_time": "2023-01-30T18:03:35.943Z"
      },
      {
        "duration": 368,
        "start_time": "2023-01-30T18:04:30.049Z"
      },
      {
        "duration": 3,
        "start_time": "2023-01-30T18:05:58.777Z"
      },
      {
        "duration": 659,
        "start_time": "2023-01-30T18:07:18.826Z"
      },
      {
        "duration": 614,
        "start_time": "2023-01-30T18:08:00.408Z"
      },
      {
        "duration": 616,
        "start_time": "2023-01-30T18:08:09.865Z"
      },
      {
        "duration": 799,
        "start_time": "2023-01-30T18:09:25.522Z"
      },
      {
        "duration": 629,
        "start_time": "2023-01-30T18:09:51.919Z"
      },
      {
        "duration": 287,
        "start_time": "2023-01-30T18:10:49.211Z"
      },
      {
        "duration": 715,
        "start_time": "2023-01-30T18:11:37.950Z"
      },
      {
        "duration": 51,
        "start_time": "2023-01-30T18:12:26.155Z"
      },
      {
        "duration": 584,
        "start_time": "2023-01-30T18:12:42.137Z"
      },
      {
        "duration": 567,
        "start_time": "2023-01-30T18:13:38.226Z"
      },
      {
        "duration": 676,
        "start_time": "2023-01-30T18:13:51.649Z"
      },
      {
        "duration": 92,
        "start_time": "2023-01-30T18:16:20.719Z"
      },
      {
        "duration": 77,
        "start_time": "2023-01-30T18:16:33.733Z"
      },
      {
        "duration": 196,
        "start_time": "2023-01-30T18:16:42.009Z"
      },
      {
        "duration": 229,
        "start_time": "2023-01-30T18:16:58.962Z"
      },
      {
        "duration": 111,
        "start_time": "2023-01-30T18:29:53.286Z"
      },
      {
        "duration": 40,
        "start_time": "2023-01-30T18:30:04.461Z"
      },
      {
        "duration": 631,
        "start_time": "2023-01-30T18:30:57.141Z"
      },
      {
        "duration": 646,
        "start_time": "2023-01-30T18:31:28.409Z"
      },
      {
        "duration": 128,
        "start_time": "2023-01-30T18:32:51.267Z"
      },
      {
        "duration": 3,
        "start_time": "2023-01-30T20:09:43.773Z"
      },
      {
        "duration": 4,
        "start_time": "2023-01-30T20:13:34.507Z"
      },
      {
        "duration": 6,
        "start_time": "2023-01-30T20:13:52.306Z"
      },
      {
        "duration": 7,
        "start_time": "2023-01-30T20:14:15.578Z"
      },
      {
        "duration": 7,
        "start_time": "2023-01-30T20:14:27.919Z"
      },
      {
        "duration": 9,
        "start_time": "2023-01-30T20:15:03.410Z"
      },
      {
        "duration": 6,
        "start_time": "2023-01-30T20:15:11.623Z"
      },
      {
        "duration": 5,
        "start_time": "2023-01-30T20:15:55.331Z"
      },
      {
        "duration": 6,
        "start_time": "2023-01-30T20:16:04.427Z"
      },
      {
        "duration": 9,
        "start_time": "2023-01-30T20:16:38.112Z"
      },
      {
        "duration": 4,
        "start_time": "2023-01-30T20:23:02.541Z"
      },
      {
        "duration": 13,
        "start_time": "2023-01-30T20:36:13.056Z"
      },
      {
        "duration": 20,
        "start_time": "2023-01-30T20:36:23.041Z"
      },
      {
        "duration": 14,
        "start_time": "2023-01-30T20:36:45.683Z"
      },
      {
        "duration": 11,
        "start_time": "2023-01-30T20:37:37.895Z"
      },
      {
        "duration": 6,
        "start_time": "2023-01-30T20:37:45.749Z"
      },
      {
        "duration": 6,
        "start_time": "2023-01-30T20:38:00.453Z"
      },
      {
        "duration": 12,
        "start_time": "2023-01-30T20:38:20.745Z"
      },
      {
        "duration": 6,
        "start_time": "2023-01-30T20:38:33.648Z"
      },
      {
        "duration": 7,
        "start_time": "2023-01-30T20:38:47.273Z"
      },
      {
        "duration": 14,
        "start_time": "2023-01-30T20:38:58.912Z"
      },
      {
        "duration": 11,
        "start_time": "2023-01-30T20:39:31.182Z"
      },
      {
        "duration": 14,
        "start_time": "2023-01-30T20:39:40.519Z"
      },
      {
        "duration": 16,
        "start_time": "2023-01-30T20:41:40.052Z"
      },
      {
        "duration": 1563,
        "start_time": "2023-01-31T12:50:43.300Z"
      },
      {
        "duration": 1302,
        "start_time": "2023-01-31T12:50:44.866Z"
      },
      {
        "duration": 444,
        "start_time": "2023-01-31T12:50:46.170Z"
      },
      {
        "duration": 134,
        "start_time": "2023-01-31T12:50:46.616Z"
      },
      {
        "duration": 192,
        "start_time": "2023-01-31T12:50:46.751Z"
      },
      {
        "duration": 87,
        "start_time": "2023-01-31T12:50:46.945Z"
      },
      {
        "duration": 713,
        "start_time": "2023-01-31T12:50:47.034Z"
      },
      {
        "duration": 83,
        "start_time": "2023-01-31T12:51:03.468Z"
      },
      {
        "duration": 12,
        "start_time": "2023-01-31T12:51:33.089Z"
      },
      {
        "duration": 15,
        "start_time": "2023-01-31T12:51:46.091Z"
      },
      {
        "duration": 26,
        "start_time": "2023-01-31T15:57:52.744Z"
      },
      {
        "duration": 128,
        "start_time": "2023-01-31T16:13:17.771Z"
      },
      {
        "duration": 23,
        "start_time": "2023-01-31T16:13:37.813Z"
      },
      {
        "duration": 10,
        "start_time": "2023-01-31T16:52:10.975Z"
      },
      {
        "duration": 4,
        "start_time": "2023-01-31T16:52:18.608Z"
      },
      {
        "duration": 13,
        "start_time": "2023-01-31T16:52:23.154Z"
      },
      {
        "duration": 26,
        "start_time": "2023-01-31T16:54:00.993Z"
      },
      {
        "duration": 12,
        "start_time": "2023-01-31T16:54:51.851Z"
      },
      {
        "duration": 899,
        "start_time": "2023-01-31T17:51:51.438Z"
      },
      {
        "duration": 2659,
        "start_time": "2023-01-31T17:52:03.637Z"
      },
      {
        "duration": 2931,
        "start_time": "2023-01-31T17:52:49.131Z"
      },
      {
        "duration": 7,
        "start_time": "2023-01-31T18:05:30.231Z"
      },
      {
        "duration": 2786,
        "start_time": "2023-01-31T18:06:21.644Z"
      },
      {
        "duration": 2662,
        "start_time": "2023-01-31T18:06:27.623Z"
      },
      {
        "duration": 5,
        "start_time": "2023-01-31T18:06:55.926Z"
      },
      {
        "duration": 9,
        "start_time": "2023-01-31T18:16:20.248Z"
      },
      {
        "duration": 80,
        "start_time": "2023-01-31T18:17:55.287Z"
      },
      {
        "duration": 9,
        "start_time": "2023-01-31T18:18:46.687Z"
      },
      {
        "duration": 11,
        "start_time": "2023-01-31T18:29:16.501Z"
      },
      {
        "duration": 2687,
        "start_time": "2023-01-31T18:29:22.542Z"
      },
      {
        "duration": 6,
        "start_time": "2023-01-31T18:29:32.000Z"
      },
      {
        "duration": 8,
        "start_time": "2023-01-31T18:29:39.766Z"
      },
      {
        "duration": 4,
        "start_time": "2023-01-31T18:30:05.301Z"
      },
      {
        "duration": 639,
        "start_time": "2023-01-31T18:30:05.311Z"
      },
      {
        "duration": 361,
        "start_time": "2023-01-31T18:30:05.951Z"
      },
      {
        "duration": 131,
        "start_time": "2023-01-31T18:30:06.314Z"
      },
      {
        "duration": 284,
        "start_time": "2023-01-31T18:30:06.447Z"
      },
      {
        "duration": 96,
        "start_time": "2023-01-31T18:30:06.733Z"
      },
      {
        "duration": 644,
        "start_time": "2023-01-31T18:30:06.835Z"
      },
      {
        "duration": 24,
        "start_time": "2023-01-31T18:30:07.481Z"
      },
      {
        "duration": 36,
        "start_time": "2023-01-31T18:30:07.507Z"
      },
      {
        "duration": 2928,
        "start_time": "2023-01-31T18:30:08.795Z"
      },
      {
        "duration": 5,
        "start_time": "2023-01-31T18:30:15.548Z"
      },
      {
        "duration": 5,
        "start_time": "2023-01-31T18:31:24.361Z"
      },
      {
        "duration": 9,
        "start_time": "2023-01-31T18:31:26.294Z"
      },
      {
        "duration": 8,
        "start_time": "2023-01-31T18:38:45.428Z"
      },
      {
        "duration": 10,
        "start_time": "2023-01-31T18:46:37.811Z"
      },
      {
        "duration": 3,
        "start_time": "2023-01-31T18:46:47.386Z"
      },
      {
        "duration": 53,
        "start_time": "2023-02-01T18:28:31.764Z"
      },
      {
        "duration": 1703,
        "start_time": "2023-02-01T18:28:37.319Z"
      },
      {
        "duration": 1834,
        "start_time": "2023-02-01T18:28:39.025Z"
      },
      {
        "duration": 382,
        "start_time": "2023-02-01T18:28:40.861Z"
      },
      {
        "duration": 109,
        "start_time": "2023-02-01T18:28:41.246Z"
      },
      {
        "duration": 183,
        "start_time": "2023-02-01T18:28:41.358Z"
      },
      {
        "duration": 4,
        "start_time": "2023-02-01T18:28:41.543Z"
      },
      {
        "duration": 795,
        "start_time": "2023-02-01T18:28:41.550Z"
      },
      {
        "duration": 33,
        "start_time": "2023-02-01T18:28:42.347Z"
      },
      {
        "duration": 8,
        "start_time": "2023-02-01T18:28:42.383Z"
      },
      {
        "duration": 26,
        "start_time": "2023-02-01T18:28:42.393Z"
      },
      {
        "duration": 2867,
        "start_time": "2023-02-01T18:28:42.421Z"
      },
      {
        "duration": 6,
        "start_time": "2023-02-01T18:28:45.290Z"
      },
      {
        "duration": 16,
        "start_time": "2023-02-01T18:28:45.298Z"
      },
      {
        "duration": 25,
        "start_time": "2023-02-01T18:28:45.317Z"
      },
      {
        "duration": 7,
        "start_time": "2023-02-01T18:28:45.344Z"
      }
    ],
    "kernelspec": {
      "display_name": "Python 3 (ipykernel)",
      "language": "python",
      "name": "python3"
    },
    "language_info": {
      "codemirror_mode": {
        "name": "ipython",
        "version": 3
      },
      "file_extension": ".py",
      "mimetype": "text/x-python",
      "name": "python",
      "nbconvert_exporter": "python",
      "pygments_lexer": "ipython3",
      "version": "3.9.5"
    },
    "toc": {
      "base_numbering": 1,
      "nav_menu": {},
      "number_sections": true,
      "sideBar": true,
      "skip_h1_title": true,
      "title_cell": "Table of Contents",
      "title_sidebar": "Contents",
      "toc_cell": false,
      "toc_position": {},
      "toc_section_display": true,
      "toc_window_display": false
    },
    "colab": {
      "provenance": []
    }
  },
  "nbformat": 4,
  "nbformat_minor": 0
}